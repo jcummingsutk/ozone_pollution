{
 "cells": [
  {
   "cell_type": "markdown",
   "id": "f6185e02-0415-423b-bbd3-7506a6ee2579",
   "metadata": {
    "tags": []
   },
   "source": [
    "# Linear Regression Model for Ozone Level in Denver, Colorado"
   ]
  },
  {
   "cell_type": "markdown",
   "id": "7753779d-5963-4964-8bb3-a1c1e0b2340d",
   "metadata": {
    "tags": []
   },
   "source": [
    "Most of us probably remember learning about the protection that the ozone layer in the upper atmosphere lends us. However, ground level ozone has well documented negative effects. Those with Asthma are particularly at risk to it [[1]](https://www.epa.gov/ground-level-ozone-pollution/ground-level-ozone-basics). Denver has one of the worst levels of ground level ozone in the united states [[2]](https://www.denverpost.com/2021/06/16/denver-fortcollins-worst-cities-air-pollution/). It is well known that ozone is greatly affected by pollutants emitted by cars, power plants, refineries, etc. in the presence of sunlight [[3]](https://www.epa.gov/ground-level-ozone-pollution/ground-level-ozone-basics#:~:text=This%20happens%20when%20pollutants%20emitted,high%20levels%20during%20colder%20months.). \n",
    "\n",
    "**Goal**: To develop a reasonably accurate linear, polynomial, and ridge polynomial regression model to predict the amount of ozone in the air. \n",
    "\n",
    "**Results**: Using historical weather data paired with EPA data on ozone pollutant a fifth degree polynomial regression model with R^2 of 0.76 and a MAE  of .0064 and RMSE .0085 ppm on the test set is developed. There is some amount of overfitting on the training set with the data, as the MAE and RMSE on the training set are .054 and .069 respectively. However, this overfitting is relatively mild and ridge regression does not appear to do any better on the test set.\n",
    "\n",
    "Possible extensions: A couple improvements I'd like to make is I'd like to capture the tail of this distribution better. The model could be built to more heavily penalize inaccuracies in the higher end of the ozone range, to attempt to be a more conservative predictor. I think that importing a custom loss function to penalize the error made at higher ozone levels could be helpful here. "
   ]
  },
  {
   "cell_type": "markdown",
   "id": "2da5c4a7-fbf4-454f-a540-4300a75a2a05",
   "metadata": {
    "tags": []
   },
   "source": [
    "[Ozone Data](https://aqs.epa.gov/aqsweb/airdata/download_files.html#Raw)\n",
    "\n",
    "[Worst Ranking Ozone Levels](https://www.lung.org/research/sota/city-rankings/most-polluted-cities)\n",
    "\n",
    "[Historical Weather Data](https://visualcrossing.com/)\n",
    "\n",
    "[Weather Data Documentation](https://www.visualcrossing.com/resources/documentation/weather-data/weather-data-documentation/)\n",
    "\n",
    "[Effect of Weekends](https://www.tandfonline.com/doi/full/10.1080/10962247.2012.749312#:~:text=In%20simple%20terms%2C%20the%20ozone,NOx\\)%2C%20on%20weekends.)"
   ]
  },
  {
   "cell_type": "markdown",
   "id": "e327a1eb-7e2d-4016-8250-0d35d2b9dc7c",
   "metadata": {
    "tags": []
   },
   "source": [
    "# Utilities, Constants"
   ]
  },
  {
   "cell_type": "code",
   "execution_count": 1,
   "id": "f43ac899-d589-4ed2-9b74-707e8798a679",
   "metadata": {
    "tags": []
   },
   "outputs": [],
   "source": [
    "def calculate_percent_missing(in_df):\n",
    "    # function which returns a dataframe indicating what percent of a column is missing\n",
    "    percent_missing = in_df.isnull().sum() * 100 / len(in_df)\n",
    "    return pd.DataFrame({'percent_missing': percent_missing})\n",
    "\n",
    "TEST_FRACTION = .25 #percentage of the test size\n",
    "CV = 7 #cross validations to do in grid search\n",
    "N_JOBS = 7 #number of cores\n",
    "RAND_STATE = 0 #will be doing multiple train-test-splits, and want to keep everything random, but do the same train-test-splits"
   ]
  },
  {
   "cell_type": "code",
   "execution_count": 2,
   "id": "f34315d1-2084-475e-aed3-6bd0373dbc20",
   "metadata": {
    "tags": []
   },
   "outputs": [],
   "source": [
    "def get_poly_scaled(df, numerical_cols, cat_cols, target_col, n_deg):\n",
    "    \"\"\" Takes in a data set, the numerical columns you are interested in, and categorical columns and degree and returns \n",
    "    the scaled numerical dataset with with polynomial features of degree n_deg, the categorical columns, and the target columns all properly indexed\n",
    "    Args:\n",
    "    in_df: dataframe\n",
    "    numerical_cols: numerical column names, list\n",
    "    cat_cols: categorical column names, list\n",
    "    target: target name, string\n",
    "    n_deg: integer, the degree\n",
    "    \"\"\"\n",
    "    from sklearn.preprocessing import PolynomialFeatures\n",
    "    from sklearn.preprocessing import StandardScaler, MinMaxScaler, RobustScaler #scaling the parameters\n",
    "    ss = StandardScaler()\n",
    "    poly = PolynomialFeatures(n_deg)\n",
    "    in_df = df.reset_index()\n",
    "    #Ensure the index is set from 0 to n-1, since poly.fit_transform will return a dataframe and we'll have unmatched indices if we do not do this\n",
    "    #in_df.reset_index(inplace=True)\n",
    "    \n",
    "    # Categorize the types of features and target\n",
    "    df_num = in_df[numerical_cols]\n",
    "    df_cat = in_df[cat_cols]\n",
    "    y = in_df[target_col]\n",
    "    #Transform\n",
    "    use_poly = poly.fit_transform(df_num)\n",
    "    df_poly = pd.DataFrame(use_poly)\n",
    "    \n",
    "    # Set column names\n",
    "    df_poly.columns = poly.get_feature_names(df_num.columns)\n",
    "    df_scaled_poly = pd.DataFrame(ss.fit_transform(df_poly), index=df_poly.index, columns=df_poly.columns)\n",
    "    return (df_scaled_poly, df_cat, y)\n",
    "\n",
    "def get_mae(reg, X, y):\n",
    "    \"\"\" returns the mean average error of the regressor reg on X \"\"\"\n",
    "    y_pred = reg.predict(X)\n",
    "    abs_err = np.abs(y_pred - y)\n",
    "    return abs_err.mean()\n",
    "\n",
    "def get_rmse(reg, X, y):\n",
    "    \"\"\" returns the root mean square error of the regressor reg on X \"\"\"\n",
    "    y_pred = reg.predict(X)\n",
    "    sqr_err = np.power(y_pred - y, 2)\n",
    "    mse = np.mean(sqr_err)\n",
    "    return np.sqrt(mse)\n",
    "\n",
    "def print_errors(reg, X, y):\n",
    "    \"\"\" prints mae and rmse \"\"\"\n",
    "    print(\"MAE: {:.4f} \\nRMSE: {:.4f}\".format(get_mae(reg, X, y), get_rmse(reg, X, y)))"
   ]
  },
  {
   "cell_type": "code",
   "execution_count": 3,
   "id": "9b13efd7-01a9-4980-8cc7-a7c6f10effac",
   "metadata": {},
   "outputs": [],
   "source": [
    "import pandas as pd\n",
    "import numpy as np\n",
    "import matplotlib.pyplot as plt\n",
    "import seaborn as sns"
   ]
  },
  {
   "cell_type": "markdown",
   "id": "d69130d1-55ac-4951-a799-1cfc76843fcf",
   "metadata": {
    "tags": []
   },
   "source": [
    "# 1. Exploring the Data and Creating Features\n"
   ]
  },
  {
   "cell_type": "markdown",
   "id": "5c4d991c-fa43-484e-bc6f-23715b10967b",
   "metadata": {
    "tags": []
   },
   "source": [
    "## Parameters and useful functions for analysis"
   ]
  },
  {
   "cell_type": "code",
   "execution_count": 4,
   "id": "84285f56-ffa9-4a18-9410-4678c476a423",
   "metadata": {},
   "outputs": [
    {
     "name": "stderr",
     "output_type": "stream",
     "text": [
      "/home/jcummings/.local/lib/python3.6/site-packages/IPython/core/interactiveshell.py:3072: DtypeWarning: Columns (17) have mixed types.Specify dtype option on import or set low_memory=False.\n",
      "  interactivity=interactivity, compiler=compiler, result=result)\n"
     ]
    }
   ],
   "source": [
    "# Ozone and Weather Data\n",
    "df = pd.read_csv('data/ozone_2019.csv')\n",
    "df_col_weather = pd.read_csv('data/denver_weather_2019.csv')"
   ]
  },
  {
   "cell_type": "code",
   "execution_count": 5,
   "id": "ae6a0eb1-9c24-4e26-8f65-821b3a4c4c31",
   "metadata": {},
   "outputs": [
    {
     "data": {
      "text/html": [
       "<div>\n",
       "<style scoped>\n",
       "    .dataframe tbody tr th:only-of-type {\n",
       "        vertical-align: middle;\n",
       "    }\n",
       "\n",
       "    .dataframe tbody tr th {\n",
       "        vertical-align: top;\n",
       "    }\n",
       "\n",
       "    .dataframe thead th {\n",
       "        text-align: right;\n",
       "    }\n",
       "</style>\n",
       "<table border=\"1\" class=\"dataframe\">\n",
       "  <thead>\n",
       "    <tr style=\"text-align: right;\">\n",
       "      <th></th>\n",
       "      <th>state code</th>\n",
       "      <th>county code</th>\n",
       "      <th>site num</th>\n",
       "      <th>parameter code</th>\n",
       "      <th>poc</th>\n",
       "      <th>latitude</th>\n",
       "      <th>longitude</th>\n",
       "      <th>sample measurement</th>\n",
       "      <th>mdl</th>\n",
       "      <th>uncertainty</th>\n",
       "      <th>method code</th>\n",
       "    </tr>\n",
       "  </thead>\n",
       "  <tbody>\n",
       "    <tr>\n",
       "      <th>count</th>\n",
       "      <td>9.142786e+06</td>\n",
       "      <td>9.142786e+06</td>\n",
       "      <td>9.142786e+06</td>\n",
       "      <td>9142786.0</td>\n",
       "      <td>9.142786e+06</td>\n",
       "      <td>9.142786e+06</td>\n",
       "      <td>9.142786e+06</td>\n",
       "      <td>9.142786e+06</td>\n",
       "      <td>9.142786e+06</td>\n",
       "      <td>0.0</td>\n",
       "      <td>9.142786e+06</td>\n",
       "    </tr>\n",
       "    <tr>\n",
       "      <th>mean</th>\n",
       "      <td>2.668803e+01</td>\n",
       "      <td>7.627163e+01</td>\n",
       "      <td>1.344786e+03</td>\n",
       "      <td>44201.0</td>\n",
       "      <td>1.084851e+00</td>\n",
       "      <td>3.758337e+01</td>\n",
       "      <td>-9.520775e+01</td>\n",
       "      <td>3.078728e-02</td>\n",
       "      <td>1.397212e-01</td>\n",
       "      <td>NaN</td>\n",
       "      <td>7.220774e+01</td>\n",
       "    </tr>\n",
       "    <tr>\n",
       "      <th>std</th>\n",
       "      <td>1.684961e+01</td>\n",
       "      <td>8.080285e+01</td>\n",
       "      <td>2.670646e+03</td>\n",
       "      <td>0.0</td>\n",
       "      <td>3.483333e-01</td>\n",
       "      <td>4.926934e+00</td>\n",
       "      <td>1.619993e+01</td>\n",
       "      <td>1.481152e-02</td>\n",
       "      <td>8.220645e-01</td>\n",
       "      <td>NaN</td>\n",
       "      <td>4.150573e+01</td>\n",
       "    </tr>\n",
       "    <tr>\n",
       "      <th>min</th>\n",
       "      <td>1.000000e+00</td>\n",
       "      <td>1.000000e+00</td>\n",
       "      <td>1.000000e+00</td>\n",
       "      <td>44201.0</td>\n",
       "      <td>1.000000e+00</td>\n",
       "      <td>1.821604e+01</td>\n",
       "      <td>-1.580886e+02</td>\n",
       "      <td>-4.000000e-03</td>\n",
       "      <td>6.000000e-04</td>\n",
       "      <td>NaN</td>\n",
       "      <td>1.900000e+01</td>\n",
       "    </tr>\n",
       "    <tr>\n",
       "      <th>25%</th>\n",
       "      <td>1.000000e+01</td>\n",
       "      <td>2.300000e+01</td>\n",
       "      <td>6.000000e+00</td>\n",
       "      <td>44201.0</td>\n",
       "      <td>1.000000e+00</td>\n",
       "      <td>3.406957e+01</td>\n",
       "      <td>-1.101827e+02</td>\n",
       "      <td>2.100000e-02</td>\n",
       "      <td>5.000000e-03</td>\n",
       "      <td>NaN</td>\n",
       "      <td>4.700000e+01</td>\n",
       "    </tr>\n",
       "    <tr>\n",
       "      <th>50%</th>\n",
       "      <td>2.600000e+01</td>\n",
       "      <td>5.900000e+01</td>\n",
       "      <td>2.500000e+01</td>\n",
       "      <td>44201.0</td>\n",
       "      <td>1.000000e+00</td>\n",
       "      <td>3.835655e+01</td>\n",
       "      <td>-9.121356e+01</td>\n",
       "      <td>3.100000e-02</td>\n",
       "      <td>5.000000e-03</td>\n",
       "      <td>NaN</td>\n",
       "      <td>8.700000e+01</td>\n",
       "    </tr>\n",
       "    <tr>\n",
       "      <th>75%</th>\n",
       "      <td>4.200000e+01</td>\n",
       "      <td>1.030000e+02</td>\n",
       "      <td>1.015000e+03</td>\n",
       "      <td>44201.0</td>\n",
       "      <td>1.000000e+00</td>\n",
       "      <td>4.095960e+01</td>\n",
       "      <td>-8.213125e+01</td>\n",
       "      <td>4.100000e-02</td>\n",
       "      <td>5.000000e-03</td>\n",
       "      <td>NaN</td>\n",
       "      <td>8.700000e+01</td>\n",
       "    </tr>\n",
       "    <tr>\n",
       "      <th>max</th>\n",
       "      <td>8.000000e+01</td>\n",
       "      <td>8.000000e+02</td>\n",
       "      <td>9.997000e+03</td>\n",
       "      <td>44201.0</td>\n",
       "      <td>6.000000e+00</td>\n",
       "      <td>6.484569e+01</td>\n",
       "      <td>-6.612653e+01</td>\n",
       "      <td>1.600000e-01</td>\n",
       "      <td>8.000000e+00</td>\n",
       "      <td>NaN</td>\n",
       "      <td>9.010000e+02</td>\n",
       "    </tr>\n",
       "  </tbody>\n",
       "</table>\n",
       "</div>"
      ],
      "text/plain": [
       "         state code   county code      site num  parameter code           poc  \\\n",
       "count  9.142786e+06  9.142786e+06  9.142786e+06       9142786.0  9.142786e+06   \n",
       "mean   2.668803e+01  7.627163e+01  1.344786e+03         44201.0  1.084851e+00   \n",
       "std    1.684961e+01  8.080285e+01  2.670646e+03             0.0  3.483333e-01   \n",
       "min    1.000000e+00  1.000000e+00  1.000000e+00         44201.0  1.000000e+00   \n",
       "25%    1.000000e+01  2.300000e+01  6.000000e+00         44201.0  1.000000e+00   \n",
       "50%    2.600000e+01  5.900000e+01  2.500000e+01         44201.0  1.000000e+00   \n",
       "75%    4.200000e+01  1.030000e+02  1.015000e+03         44201.0  1.000000e+00   \n",
       "max    8.000000e+01  8.000000e+02  9.997000e+03         44201.0  6.000000e+00   \n",
       "\n",
       "           latitude     longitude  sample measurement           mdl  \\\n",
       "count  9.142786e+06  9.142786e+06        9.142786e+06  9.142786e+06   \n",
       "mean   3.758337e+01 -9.520775e+01        3.078728e-02  1.397212e-01   \n",
       "std    4.926934e+00  1.619993e+01        1.481152e-02  8.220645e-01   \n",
       "min    1.821604e+01 -1.580886e+02       -4.000000e-03  6.000000e-04   \n",
       "25%    3.406957e+01 -1.101827e+02        2.100000e-02  5.000000e-03   \n",
       "50%    3.835655e+01 -9.121356e+01        3.100000e-02  5.000000e-03   \n",
       "75%    4.095960e+01 -8.213125e+01        4.100000e-02  5.000000e-03   \n",
       "max    6.484569e+01 -6.612653e+01        1.600000e-01  8.000000e+00   \n",
       "\n",
       "       uncertainty   method code  \n",
       "count          0.0  9.142786e+06  \n",
       "mean           NaN  7.220774e+01  \n",
       "std            NaN  4.150573e+01  \n",
       "min            NaN  1.900000e+01  \n",
       "25%            NaN  4.700000e+01  \n",
       "50%            NaN  8.700000e+01  \n",
       "75%            NaN  8.700000e+01  \n",
       "max            NaN  9.010000e+02  "
      ]
     },
     "execution_count": 5,
     "metadata": {},
     "output_type": "execute_result"
    }
   ],
   "source": [
    "# Going to lower case columns, check out the data. Nothing super surprising here in the summary statistics.\n",
    "df.columns = df.columns.str.lower()\n",
    "df.columns = df.columns.str.strip()\n",
    "df.describe()"
   ]
  },
  {
   "cell_type": "code",
   "execution_count": 6,
   "id": "b14f1be4-8037-40b9-a1c7-80d220ca3c02",
   "metadata": {},
   "outputs": [
    {
     "data": {
      "text/plain": [
       "Index(['state code', 'county code', 'site num', 'parameter code', 'poc',\n",
       "       'latitude', 'longitude', 'datum', 'parameter name', 'date local',\n",
       "       'time local', 'date gmt', 'time gmt', 'sample measurement',\n",
       "       'units of measure', 'mdl', 'uncertainty', 'qualifier', 'method type',\n",
       "       'method code', 'method name', 'state name', 'county name',\n",
       "       'date of last change'],\n",
       "      dtype='object')"
      ]
     },
     "execution_count": 6,
     "metadata": {},
     "output_type": "execute_result"
    }
   ],
   "source": [
    "df.columns"
   ]
  },
  {
   "cell_type": "code",
   "execution_count": 7,
   "id": "9fe59702-e07b-45d7-8207-e08589109b22",
   "metadata": {},
   "outputs": [
    {
     "name": "stdout",
     "output_type": "stream",
     "text": [
      "<class 'pandas.core.frame.DataFrame'>\n",
      "RangeIndex: 9142786 entries, 0 to 9142785\n",
      "Data columns (total 24 columns):\n",
      " #   Column               Dtype  \n",
      "---  ------               -----  \n",
      " 0   state code           int64  \n",
      " 1   county code          int64  \n",
      " 2   site num             int64  \n",
      " 3   parameter code       int64  \n",
      " 4   poc                  int64  \n",
      " 5   latitude             float64\n",
      " 6   longitude            float64\n",
      " 7   datum                object \n",
      " 8   parameter name       object \n",
      " 9   date local           object \n",
      " 10  time local           object \n",
      " 11  date gmt             object \n",
      " 12  time gmt             object \n",
      " 13  sample measurement   float64\n",
      " 14  units of measure     object \n",
      " 15  mdl                  float64\n",
      " 16  uncertainty          float64\n",
      " 17  qualifier            object \n",
      " 18  method type          object \n",
      " 19  method code          int64  \n",
      " 20  method name          object \n",
      " 21  state name           object \n",
      " 22  county name          object \n",
      " 23  date of last change  object \n",
      "dtypes: float64(5), int64(6), object(13)\n",
      "memory usage: 1.6+ GB\n"
     ]
    }
   ],
   "source": [
    "df.info()"
   ]
  },
  {
   "cell_type": "code",
   "execution_count": 8,
   "id": "e1079ad3-fdb2-4ac3-b0de-bb8da232b828",
   "metadata": {},
   "outputs": [],
   "source": [
    "# We are interested in getting Denver, Colorado's data\n",
    "df_col_oz = df.loc[(df['county name']=='Denver') & (df['state name']=='Colorado')]"
   ]
  },
  {
   "cell_type": "code",
   "execution_count": 9,
   "id": "49985e9e-693a-4e54-a12d-d0653be184fe",
   "metadata": {},
   "outputs": [
    {
     "data": {
      "text/plain": [
       "<AxesSubplot:xlabel='sample measurement', ylabel='Count'>"
      ]
     },
     "execution_count": 9,
     "metadata": {},
     "output_type": "execute_result"
    },
    {
     "data": {
      "image/png": "[encoded data removed]",
      "text/plain": [
       "<Figure size 432x288 with 1 Axes>"
      ]
     },
     "metadata": {
      "needs_background": "light"
     },
     "output_type": "display_data"
    }
   ],
   "source": [
    "# Taking a peek at the histogram. Note the spike in the count at 0\n",
    "sns.histplot(df_col_oz['sample measurement'], kde = True, bins=30)"
   ]
  },
  {
   "cell_type": "code",
   "execution_count": 10,
   "id": "606c3b47-7441-4cb0-99a9-cab276acc886",
   "metadata": {},
   "outputs": [
    {
     "data": {
      "text/html": [
       "<div>\n",
       "<style scoped>\n",
       "    .dataframe tbody tr th:only-of-type {\n",
       "        vertical-align: middle;\n",
       "    }\n",
       "\n",
       "    .dataframe tbody tr th {\n",
       "        vertical-align: top;\n",
       "    }\n",
       "\n",
       "    .dataframe thead th {\n",
       "        text-align: right;\n",
       "    }\n",
       "</style>\n",
       "<table border=\"1\" class=\"dataframe\">\n",
       "  <thead>\n",
       "    <tr style=\"text-align: right;\">\n",
       "      <th></th>\n",
       "      <th>state code</th>\n",
       "      <th>county code</th>\n",
       "      <th>site num</th>\n",
       "      <th>parameter code</th>\n",
       "      <th>poc</th>\n",
       "      <th>latitude</th>\n",
       "      <th>longitude</th>\n",
       "      <th>datum</th>\n",
       "      <th>parameter name</th>\n",
       "      <th>date local</th>\n",
       "      <th>...</th>\n",
       "      <th>units of measure</th>\n",
       "      <th>mdl</th>\n",
       "      <th>uncertainty</th>\n",
       "      <th>qualifier</th>\n",
       "      <th>method type</th>\n",
       "      <th>method code</th>\n",
       "      <th>method name</th>\n",
       "      <th>state name</th>\n",
       "      <th>county name</th>\n",
       "      <th>date of last change</th>\n",
       "    </tr>\n",
       "  </thead>\n",
       "  <tbody>\n",
       "    <tr>\n",
       "      <th>1999057</th>\n",
       "      <td>8</td>\n",
       "      <td>31</td>\n",
       "      <td>2</td>\n",
       "      <td>44201</td>\n",
       "      <td>6</td>\n",
       "      <td>39.751184</td>\n",
       "      <td>-104.987625</td>\n",
       "      <td>WGS84</td>\n",
       "      <td>Ozone</td>\n",
       "      <td>2019-01-01</td>\n",
       "      <td>...</td>\n",
       "      <td>Parts per million</td>\n",
       "      <td>0.005</td>\n",
       "      <td>NaN</td>\n",
       "      <td>NaN</td>\n",
       "      <td>FEM</td>\n",
       "      <td>87</td>\n",
       "      <td>INSTRUMENTAL - ULTRA VIOLET ABSORPTION</td>\n",
       "      <td>Colorado</td>\n",
       "      <td>Denver</td>\n",
       "      <td>2019-03-15</td>\n",
       "    </tr>\n",
       "    <tr>\n",
       "      <th>1999058</th>\n",
       "      <td>8</td>\n",
       "      <td>31</td>\n",
       "      <td>2</td>\n",
       "      <td>44201</td>\n",
       "      <td>6</td>\n",
       "      <td>39.751184</td>\n",
       "      <td>-104.987625</td>\n",
       "      <td>WGS84</td>\n",
       "      <td>Ozone</td>\n",
       "      <td>2019-01-01</td>\n",
       "      <td>...</td>\n",
       "      <td>Parts per million</td>\n",
       "      <td>0.005</td>\n",
       "      <td>NaN</td>\n",
       "      <td>NaN</td>\n",
       "      <td>FEM</td>\n",
       "      <td>87</td>\n",
       "      <td>INSTRUMENTAL - ULTRA VIOLET ABSORPTION</td>\n",
       "      <td>Colorado</td>\n",
       "      <td>Denver</td>\n",
       "      <td>2019-03-15</td>\n",
       "    </tr>\n",
       "    <tr>\n",
       "      <th>1999059</th>\n",
       "      <td>8</td>\n",
       "      <td>31</td>\n",
       "      <td>2</td>\n",
       "      <td>44201</td>\n",
       "      <td>6</td>\n",
       "      <td>39.751184</td>\n",
       "      <td>-104.987625</td>\n",
       "      <td>WGS84</td>\n",
       "      <td>Ozone</td>\n",
       "      <td>2019-01-01</td>\n",
       "      <td>...</td>\n",
       "      <td>Parts per million</td>\n",
       "      <td>0.005</td>\n",
       "      <td>NaN</td>\n",
       "      <td>NaN</td>\n",
       "      <td>FEM</td>\n",
       "      <td>87</td>\n",
       "      <td>INSTRUMENTAL - ULTRA VIOLET ABSORPTION</td>\n",
       "      <td>Colorado</td>\n",
       "      <td>Denver</td>\n",
       "      <td>2019-03-15</td>\n",
       "    </tr>\n",
       "    <tr>\n",
       "      <th>1999060</th>\n",
       "      <td>8</td>\n",
       "      <td>31</td>\n",
       "      <td>2</td>\n",
       "      <td>44201</td>\n",
       "      <td>6</td>\n",
       "      <td>39.751184</td>\n",
       "      <td>-104.987625</td>\n",
       "      <td>WGS84</td>\n",
       "      <td>Ozone</td>\n",
       "      <td>2019-01-01</td>\n",
       "      <td>...</td>\n",
       "      <td>Parts per million</td>\n",
       "      <td>0.005</td>\n",
       "      <td>NaN</td>\n",
       "      <td>NaN</td>\n",
       "      <td>FEM</td>\n",
       "      <td>87</td>\n",
       "      <td>INSTRUMENTAL - ULTRA VIOLET ABSORPTION</td>\n",
       "      <td>Colorado</td>\n",
       "      <td>Denver</td>\n",
       "      <td>2019-03-15</td>\n",
       "    </tr>\n",
       "    <tr>\n",
       "      <th>1999061</th>\n",
       "      <td>8</td>\n",
       "      <td>31</td>\n",
       "      <td>2</td>\n",
       "      <td>44201</td>\n",
       "      <td>6</td>\n",
       "      <td>39.751184</td>\n",
       "      <td>-104.987625</td>\n",
       "      <td>WGS84</td>\n",
       "      <td>Ozone</td>\n",
       "      <td>2019-01-01</td>\n",
       "      <td>...</td>\n",
       "      <td>Parts per million</td>\n",
       "      <td>0.005</td>\n",
       "      <td>NaN</td>\n",
       "      <td>NaN</td>\n",
       "      <td>FEM</td>\n",
       "      <td>87</td>\n",
       "      <td>INSTRUMENTAL - ULTRA VIOLET ABSORPTION</td>\n",
       "      <td>Colorado</td>\n",
       "      <td>Denver</td>\n",
       "      <td>2019-03-15</td>\n",
       "    </tr>\n",
       "  </tbody>\n",
       "</table>\n",
       "<p>5 rows × 24 columns</p>\n",
       "</div>"
      ],
      "text/plain": [
       "         state code  county code  site num  parameter code  poc   latitude  \\\n",
       "1999057           8           31         2           44201    6  39.751184   \n",
       "1999058           8           31         2           44201    6  39.751184   \n",
       "1999059           8           31         2           44201    6  39.751184   \n",
       "1999060           8           31         2           44201    6  39.751184   \n",
       "1999061           8           31         2           44201    6  39.751184   \n",
       "\n",
       "          longitude  datum parameter name  date local  ...   units of measure  \\\n",
       "1999057 -104.987625  WGS84          Ozone  2019-01-01  ...  Parts per million   \n",
       "1999058 -104.987625  WGS84          Ozone  2019-01-01  ...  Parts per million   \n",
       "1999059 -104.987625  WGS84          Ozone  2019-01-01  ...  Parts per million   \n",
       "1999060 -104.987625  WGS84          Ozone  2019-01-01  ...  Parts per million   \n",
       "1999061 -104.987625  WGS84          Ozone  2019-01-01  ...  Parts per million   \n",
       "\n",
       "           mdl uncertainty  qualifier method type  method code  \\\n",
       "1999057  0.005         NaN        NaN         FEM           87   \n",
       "1999058  0.005         NaN        NaN         FEM           87   \n",
       "1999059  0.005         NaN        NaN         FEM           87   \n",
       "1999060  0.005         NaN        NaN         FEM           87   \n",
       "1999061  0.005         NaN        NaN         FEM           87   \n",
       "\n",
       "                                    method name state name county name  \\\n",
       "1999057  INSTRUMENTAL - ULTRA VIOLET ABSORPTION   Colorado      Denver   \n",
       "1999058  INSTRUMENTAL - ULTRA VIOLET ABSORPTION   Colorado      Denver   \n",
       "1999059  INSTRUMENTAL - ULTRA VIOLET ABSORPTION   Colorado      Denver   \n",
       "1999060  INSTRUMENTAL - ULTRA VIOLET ABSORPTION   Colorado      Denver   \n",
       "1999061  INSTRUMENTAL - ULTRA VIOLET ABSORPTION   Colorado      Denver   \n",
       "\n",
       "         date of last change  \n",
       "1999057           2019-03-15  \n",
       "1999058           2019-03-15  \n",
       "1999059           2019-03-15  \n",
       "1999060           2019-03-15  \n",
       "1999061           2019-03-15  \n",
       "\n",
       "[5 rows x 24 columns]"
      ]
     },
     "execution_count": 10,
     "metadata": {},
     "output_type": "execute_result"
    }
   ],
   "source": [
    "# Checking the data\n",
    "df_col_oz.head()"
   ]
  },
  {
   "cell_type": "code",
   "execution_count": 11,
   "id": "0ab45775-855b-424e-85b7-5d26dc4f1d20",
   "metadata": {},
   "outputs": [
    {
     "data": {
      "text/plain": [
       "array([39.751184, 39.77949 ])"
      ]
     },
     "execution_count": 11,
     "metadata": {},
     "output_type": "execute_result"
    }
   ],
   "source": [
    "# Checking the latitudes of the stations in Denver to see if there are multiple\n",
    "# There are, and in the next few lines we only consider data from the station with the most dates of observation\n",
    "df_col_oz['latitude'].unique()"
   ]
  },
  {
   "cell_type": "code",
   "execution_count": 12,
   "id": "144350a4-dcff-4416-a1b9-9b09b06308b9",
   "metadata": {},
   "outputs": [
    {
     "data": {
      "text/plain": [
       "8087"
      ]
     },
     "execution_count": 12,
     "metadata": {},
     "output_type": "execute_result"
    }
   ],
   "source": [
    "len(df_col_oz.loc[df_col_oz['latitude']==39.77949, 'date local'])"
   ]
  },
  {
   "cell_type": "code",
   "execution_count": 13,
   "id": "550c3d7e-662d-443c-a3ca-fc938a0d41ac",
   "metadata": {},
   "outputs": [
    {
     "data": {
      "text/plain": [
       "8639"
      ]
     },
     "execution_count": 13,
     "metadata": {},
     "output_type": "execute_result"
    }
   ],
   "source": [
    "len(df_col_oz.loc[df_col_oz['latitude']==39.751184, 'date local'])"
   ]
  },
  {
   "cell_type": "code",
   "execution_count": 14,
   "id": "1216ad00-c49c-4462-afb2-aaa2d705fb1d",
   "metadata": {},
   "outputs": [],
   "source": [
    "# Going to use the station with slightly more readings\n",
    "df_col_oz = df_col_oz[df_col_oz['latitude']==39.751184]"
   ]
  },
  {
   "cell_type": "code",
   "execution_count": 15,
   "id": "92d08fac-5678-4916-b328-9b485f499087",
   "metadata": {},
   "outputs": [
    {
     "name": "stdout",
     "output_type": "stream",
     "text": [
      "<class 'pandas.core.frame.DataFrame'>\n",
      "Int64Index: 8639 entries, 1999057 to 2007695\n",
      "Data columns (total 24 columns):\n",
      " #   Column               Non-Null Count  Dtype  \n",
      "---  ------               --------------  -----  \n",
      " 0   state code           8639 non-null   int64  \n",
      " 1   county code          8639 non-null   int64  \n",
      " 2   site num             8639 non-null   int64  \n",
      " 3   parameter code       8639 non-null   int64  \n",
      " 4   poc                  8639 non-null   int64  \n",
      " 5   latitude             8639 non-null   float64\n",
      " 6   longitude            8639 non-null   float64\n",
      " 7   datum                8639 non-null   object \n",
      " 8   parameter name       8639 non-null   object \n",
      " 9   date local           8639 non-null   object \n",
      " 10  time local           8639 non-null   object \n",
      " 11  date gmt             8639 non-null   object \n",
      " 12  time gmt             8639 non-null   object \n",
      " 13  sample measurement   8639 non-null   float64\n",
      " 14  units of measure     8639 non-null   object \n",
      " 15  mdl                  8639 non-null   float64\n",
      " 16  uncertainty          0 non-null      float64\n",
      " 17  qualifier            0 non-null      object \n",
      " 18  method type          8639 non-null   object \n",
      " 19  method code          8639 non-null   int64  \n",
      " 20  method name          8639 non-null   object \n",
      " 21  state name           8639 non-null   object \n",
      " 22  county name          8639 non-null   object \n",
      " 23  date of last change  8639 non-null   object \n",
      "dtypes: float64(5), int64(6), object(13)\n",
      "memory usage: 1.6+ MB\n"
     ]
    }
   ],
   "source": [
    "df_col_oz.info()"
   ]
  },
  {
   "cell_type": "code",
   "execution_count": 16,
   "id": "97af1e32-a953-4955-920f-00ceee186929",
   "metadata": {},
   "outputs": [
    {
     "data": {
      "text/plain": [
       "array([0.005])"
      ]
     },
     "execution_count": 16,
     "metadata": {},
     "output_type": "execute_result"
    }
   ],
   "source": [
    "# Checking some columns, these are not useful\n",
    "df_col_oz['mdl'].unique()"
   ]
  },
  {
   "cell_type": "code",
   "execution_count": 17,
   "id": "46387d67-8084-4803-9a44-6257ac3438ad",
   "metadata": {},
   "outputs": [
    {
     "data": {
      "text/plain": [
       "array([nan], dtype=object)"
      ]
     },
     "execution_count": 17,
     "metadata": {},
     "output_type": "execute_result"
    }
   ],
   "source": [
    "df_col_oz['qualifier'].unique()"
   ]
  },
  {
   "cell_type": "code",
   "execution_count": 18,
   "id": "3adb02ca-f6fe-43f1-bf97-11c37c4586f6",
   "metadata": {},
   "outputs": [],
   "source": [
    "# Only a few columns will be used from the ozone data set: the time date and ozone measurement\n",
    "useful_cols = ['date local', 'time local', 'sample measurement']\n",
    "df_col_oz = df_col_oz[useful_cols]"
   ]
  },
  {
   "cell_type": "code",
   "execution_count": 19,
   "id": "368b4744-f258-4ffa-bf06-0448784716a8",
   "metadata": {},
   "outputs": [
    {
     "data": {
      "text/html": [
       "<div>\n",
       "<style scoped>\n",
       "    .dataframe tbody tr th:only-of-type {\n",
       "        vertical-align: middle;\n",
       "    }\n",
       "\n",
       "    .dataframe tbody tr th {\n",
       "        vertical-align: top;\n",
       "    }\n",
       "\n",
       "    .dataframe thead th {\n",
       "        text-align: right;\n",
       "    }\n",
       "</style>\n",
       "<table border=\"1\" class=\"dataframe\">\n",
       "  <thead>\n",
       "    <tr style=\"text-align: right;\">\n",
       "      <th></th>\n",
       "      <th>date local</th>\n",
       "      <th>time local</th>\n",
       "      <th>sample measurement</th>\n",
       "    </tr>\n",
       "  </thead>\n",
       "  <tbody>\n",
       "    <tr>\n",
       "      <th>1999057</th>\n",
       "      <td>2019-01-01</td>\n",
       "      <td>00:00</td>\n",
       "      <td>0.013</td>\n",
       "    </tr>\n",
       "    <tr>\n",
       "      <th>1999058</th>\n",
       "      <td>2019-01-01</td>\n",
       "      <td>01:00</td>\n",
       "      <td>0.016</td>\n",
       "    </tr>\n",
       "    <tr>\n",
       "      <th>1999059</th>\n",
       "      <td>2019-01-01</td>\n",
       "      <td>02:00</td>\n",
       "      <td>0.016</td>\n",
       "    </tr>\n",
       "    <tr>\n",
       "      <th>1999060</th>\n",
       "      <td>2019-01-01</td>\n",
       "      <td>03:00</td>\n",
       "      <td>0.021</td>\n",
       "    </tr>\n",
       "    <tr>\n",
       "      <th>1999061</th>\n",
       "      <td>2019-01-01</td>\n",
       "      <td>04:00</td>\n",
       "      <td>0.023</td>\n",
       "    </tr>\n",
       "  </tbody>\n",
       "</table>\n",
       "</div>"
      ],
      "text/plain": [
       "         date local time local  sample measurement\n",
       "1999057  2019-01-01      00:00               0.013\n",
       "1999058  2019-01-01      01:00               0.016\n",
       "1999059  2019-01-01      02:00               0.016\n",
       "1999060  2019-01-01      03:00               0.021\n",
       "1999061  2019-01-01      04:00               0.023"
      ]
     },
     "execution_count": 19,
     "metadata": {},
     "output_type": "execute_result"
    }
   ],
   "source": [
    "df_col_oz.head()"
   ]
  },
  {
   "cell_type": "code",
   "execution_count": 20,
   "id": "33178ef3-e741-441c-bdbc-2a8c431791bd",
   "metadata": {},
   "outputs": [
    {
     "data": {
      "text/plain": [
       "0       2018-01-01 00:00:00\n",
       "1       2018-01-01 01:00:00\n",
       "2       2018-01-01 02:00:00\n",
       "3       2018-01-01 03:00:00\n",
       "4       2018-01-01 04:00:00\n",
       "                ...        \n",
       "17539   2020-01-01 19:00:00\n",
       "17540   2020-01-01 20:00:00\n",
       "17541   2020-01-01 21:00:00\n",
       "17542   2020-01-01 22:00:00\n",
       "17543   2020-01-01 23:00:00\n",
       "Name: datetime_dt, Length: 17544, dtype: datetime64[ns]"
      ]
     },
     "execution_count": 20,
     "metadata": {},
     "output_type": "execute_result"
    }
   ],
   "source": [
    "# Going to join on the ate and time of the weather and ozone data, setting this up.\n",
    "df_col_weather['datetime_dt'] = pd.to_datetime(df_col_weather['datetime'])\n",
    "df_col_weather['datetime_dt']"
   ]
  },
  {
   "cell_type": "code",
   "execution_count": 21,
   "id": "90dc0b99-378d-4aa3-9557-84d71c81c1a5",
   "metadata": {},
   "outputs": [
    {
     "data": {
      "text/html": [
       "<div>\n",
       "<style scoped>\n",
       "    .dataframe tbody tr th:only-of-type {\n",
       "        vertical-align: middle;\n",
       "    }\n",
       "\n",
       "    .dataframe tbody tr th {\n",
       "        vertical-align: top;\n",
       "    }\n",
       "\n",
       "    .dataframe thead th {\n",
       "        text-align: right;\n",
       "    }\n",
       "</style>\n",
       "<table border=\"1\" class=\"dataframe\">\n",
       "  <thead>\n",
       "    <tr style=\"text-align: right;\">\n",
       "      <th></th>\n",
       "      <th>date local</th>\n",
       "      <th>time local</th>\n",
       "      <th>sample measurement</th>\n",
       "      <th>datetime</th>\n",
       "    </tr>\n",
       "  </thead>\n",
       "  <tbody>\n",
       "    <tr>\n",
       "      <th>1999057</th>\n",
       "      <td>2019-01-01</td>\n",
       "      <td>00:00</td>\n",
       "      <td>0.013</td>\n",
       "      <td>2019-01-01 00:00:00</td>\n",
       "    </tr>\n",
       "    <tr>\n",
       "      <th>1999058</th>\n",
       "      <td>2019-01-01</td>\n",
       "      <td>01:00</td>\n",
       "      <td>0.016</td>\n",
       "      <td>2019-01-01 01:00:00</td>\n",
       "    </tr>\n",
       "    <tr>\n",
       "      <th>1999059</th>\n",
       "      <td>2019-01-01</td>\n",
       "      <td>02:00</td>\n",
       "      <td>0.016</td>\n",
       "      <td>2019-01-01 02:00:00</td>\n",
       "    </tr>\n",
       "    <tr>\n",
       "      <th>1999060</th>\n",
       "      <td>2019-01-01</td>\n",
       "      <td>03:00</td>\n",
       "      <td>0.021</td>\n",
       "      <td>2019-01-01 03:00:00</td>\n",
       "    </tr>\n",
       "    <tr>\n",
       "      <th>1999061</th>\n",
       "      <td>2019-01-01</td>\n",
       "      <td>04:00</td>\n",
       "      <td>0.023</td>\n",
       "      <td>2019-01-01 04:00:00</td>\n",
       "    </tr>\n",
       "    <tr>\n",
       "      <th>...</th>\n",
       "      <td>...</td>\n",
       "      <td>...</td>\n",
       "      <td>...</td>\n",
       "      <td>...</td>\n",
       "    </tr>\n",
       "    <tr>\n",
       "      <th>2007691</th>\n",
       "      <td>2019-12-31</td>\n",
       "      <td>19:00</td>\n",
       "      <td>0.002</td>\n",
       "      <td>2019-12-31 19:00:00</td>\n",
       "    </tr>\n",
       "    <tr>\n",
       "      <th>2007692</th>\n",
       "      <td>2019-12-31</td>\n",
       "      <td>20:00</td>\n",
       "      <td>0.003</td>\n",
       "      <td>2019-12-31 20:00:00</td>\n",
       "    </tr>\n",
       "    <tr>\n",
       "      <th>2007693</th>\n",
       "      <td>2019-12-31</td>\n",
       "      <td>21:00</td>\n",
       "      <td>0.011</td>\n",
       "      <td>2019-12-31 21:00:00</td>\n",
       "    </tr>\n",
       "    <tr>\n",
       "      <th>2007694</th>\n",
       "      <td>2019-12-31</td>\n",
       "      <td>22:00</td>\n",
       "      <td>0.022</td>\n",
       "      <td>2019-12-31 22:00:00</td>\n",
       "    </tr>\n",
       "    <tr>\n",
       "      <th>2007695</th>\n",
       "      <td>2019-12-31</td>\n",
       "      <td>23:00</td>\n",
       "      <td>0.025</td>\n",
       "      <td>2019-12-31 23:00:00</td>\n",
       "    </tr>\n",
       "  </tbody>\n",
       "</table>\n",
       "<p>8639 rows × 4 columns</p>\n",
       "</div>"
      ],
      "text/plain": [
       "         date local time local  sample measurement             datetime\n",
       "1999057  2019-01-01      00:00               0.013  2019-01-01 00:00:00\n",
       "1999058  2019-01-01      01:00               0.016  2019-01-01 01:00:00\n",
       "1999059  2019-01-01      02:00               0.016  2019-01-01 02:00:00\n",
       "1999060  2019-01-01      03:00               0.021  2019-01-01 03:00:00\n",
       "1999061  2019-01-01      04:00               0.023  2019-01-01 04:00:00\n",
       "...             ...        ...                 ...                  ...\n",
       "2007691  2019-12-31      19:00               0.002  2019-12-31 19:00:00\n",
       "2007692  2019-12-31      20:00               0.003  2019-12-31 20:00:00\n",
       "2007693  2019-12-31      21:00               0.011  2019-12-31 21:00:00\n",
       "2007694  2019-12-31      22:00               0.022  2019-12-31 22:00:00\n",
       "2007695  2019-12-31      23:00               0.025  2019-12-31 23:00:00\n",
       "\n",
       "[8639 rows x 4 columns]"
      ]
     },
     "execution_count": 21,
     "metadata": {},
     "output_type": "execute_result"
    }
   ],
   "source": [
    "# Need a seconds measurement so I can join on the format of the weather datetime column\n",
    "df_col_oz['datetime'] = df_col_oz['date local'] + ' ' + df_col_oz['time local'] + ':00'\n",
    "df_col_oz"
   ]
  },
  {
   "cell_type": "code",
   "execution_count": 22,
   "id": "131e4de8-2c8b-4a02-9d25-e04b2d660345",
   "metadata": {},
   "outputs": [],
   "source": [
    "# Convert to datetime object\n",
    "df_col_oz['datetime'] = pd.to_datetime(df_col_oz['datetime'])"
   ]
  },
  {
   "cell_type": "code",
   "execution_count": 23,
   "id": "1aebb01d-0918-496c-b3f2-5d33f32da70a",
   "metadata": {},
   "outputs": [
    {
     "data": {
      "text/plain": [
       "1999057   2019-01-01 00:00:00\n",
       "1999058   2019-01-01 01:00:00\n",
       "1999059   2019-01-01 02:00:00\n",
       "1999060   2019-01-01 03:00:00\n",
       "1999061   2019-01-01 04:00:00\n",
       "                  ...        \n",
       "2007691   2019-12-31 19:00:00\n",
       "2007692   2019-12-31 20:00:00\n",
       "2007693   2019-12-31 21:00:00\n",
       "2007694   2019-12-31 22:00:00\n",
       "2007695   2019-12-31 23:00:00\n",
       "Name: datetime, Length: 8639, dtype: datetime64[ns]"
      ]
     },
     "execution_count": 23,
     "metadata": {},
     "output_type": "execute_result"
    }
   ],
   "source": [
    "df_col_oz['datetime']"
   ]
  },
  {
   "cell_type": "code",
   "execution_count": 24,
   "id": "c88bcef9-c495-4df1-a310-38a4b4e6aef5",
   "metadata": {},
   "outputs": [],
   "source": [
    "df_col = df_col_oz.merge(df_col_weather, left_on='datetime', right_on='datetime_dt', suffixes=('_oz', '_weather'), how='left')"
   ]
  },
  {
   "cell_type": "code",
   "execution_count": 25,
   "id": "abcd787c-4498-4934-8c99-6de3c11f0c4e",
   "metadata": {},
   "outputs": [],
   "source": [
    "# Will want to examine the relationship between the day of week and ozone.\n",
    "df_col['day_of_week'] = df_col['datetime_dt'].dt.dayofweek"
   ]
  },
  {
   "cell_type": "code",
   "execution_count": 26,
   "id": "921413bb-9165-4853-830f-1af26e367182",
   "metadata": {},
   "outputs": [],
   "source": [
    "# Also if it is a weekday\n",
    "df_col['type of day'] = 'weekday'\n",
    "weekend_mask = ((df_col['day_of_week']==5) | (df_col['day_of_week']==6))\n",
    "df_col.loc[weekend_mask, 'type of day'] = 'weekend'"
   ]
  },
  {
   "cell_type": "code",
   "execution_count": 27,
   "id": "2b20664c-f211-42ed-93b9-dbd9042fca19",
   "metadata": {},
   "outputs": [
    {
     "data": {
      "text/html": [
       "<div>\n",
       "<style scoped>\n",
       "    .dataframe tbody tr th:only-of-type {\n",
       "        vertical-align: middle;\n",
       "    }\n",
       "\n",
       "    .dataframe tbody tr th {\n",
       "        vertical-align: top;\n",
       "    }\n",
       "\n",
       "    .dataframe thead th {\n",
       "        text-align: right;\n",
       "    }\n",
       "</style>\n",
       "<table border=\"1\" class=\"dataframe\">\n",
       "  <thead>\n",
       "    <tr style=\"text-align: right;\">\n",
       "      <th></th>\n",
       "      <th>sample measurement</th>\n",
       "    </tr>\n",
       "    <tr>\n",
       "      <th>type of day</th>\n",
       "      <th></th>\n",
       "    </tr>\n",
       "  </thead>\n",
       "  <tbody>\n",
       "    <tr>\n",
       "      <th>weekday</th>\n",
       "      <td>0.025862</td>\n",
       "    </tr>\n",
       "    <tr>\n",
       "      <th>weekend</th>\n",
       "      <td>0.030961</td>\n",
       "    </tr>\n",
       "  </tbody>\n",
       "</table>\n",
       "</div>"
      ],
      "text/plain": [
       "             sample measurement\n",
       "type of day                    \n",
       "weekday                0.025862\n",
       "weekend                0.030961"
      ]
     },
     "execution_count": 27,
     "metadata": {},
     "output_type": "execute_result"
    }
   ],
   "source": [
    "# Weekends have higher ozone levels. There is some information in the links at the beginning of the notebook about this.\n",
    "df_col.groupby('type of day').agg({'sample measurement': 'mean'})"
   ]
  },
  {
   "cell_type": "code",
   "execution_count": 28,
   "id": "7700555d-4427-4574-9a69-e122bef5e632",
   "metadata": {},
   "outputs": [
    {
     "data": {
      "text/html": [
       "<div>\n",
       "<style scoped>\n",
       "    .dataframe tbody tr th:only-of-type {\n",
       "        vertical-align: middle;\n",
       "    }\n",
       "\n",
       "    .dataframe tbody tr th {\n",
       "        vertical-align: top;\n",
       "    }\n",
       "\n",
       "    .dataframe thead tr th {\n",
       "        text-align: left;\n",
       "    }\n",
       "\n",
       "    .dataframe thead tr:last-of-type th {\n",
       "        text-align: right;\n",
       "    }\n",
       "</style>\n",
       "<table border=\"1\" class=\"dataframe\">\n",
       "  <thead>\n",
       "    <tr>\n",
       "      <th></th>\n",
       "      <th colspan=\"2\" halign=\"left\">sample measurement</th>\n",
       "    </tr>\n",
       "    <tr>\n",
       "      <th></th>\n",
       "      <th>mean</th>\n",
       "      <th>count</th>\n",
       "    </tr>\n",
       "    <tr>\n",
       "      <th>conditions</th>\n",
       "      <th></th>\n",
       "      <th></th>\n",
       "    </tr>\n",
       "  </thead>\n",
       "  <tbody>\n",
       "    <tr>\n",
       "      <th>Clear</th>\n",
       "      <td>0.018760</td>\n",
       "      <td>1056</td>\n",
       "    </tr>\n",
       "    <tr>\n",
       "      <th>Overcast</th>\n",
       "      <td>0.018964</td>\n",
       "      <td>306</td>\n",
       "    </tr>\n",
       "    <tr>\n",
       "      <th>Partially cloudy</th>\n",
       "      <td>0.029132</td>\n",
       "      <td>6847</td>\n",
       "    </tr>\n",
       "    <tr>\n",
       "      <th>Rain, Overcast</th>\n",
       "      <td>0.017875</td>\n",
       "      <td>24</td>\n",
       "    </tr>\n",
       "    <tr>\n",
       "      <th>Rain, Partially cloudy</th>\n",
       "      <td>0.034946</td>\n",
       "      <td>185</td>\n",
       "    </tr>\n",
       "    <tr>\n",
       "      <th>Snow, Overcast</th>\n",
       "      <td>0.017460</td>\n",
       "      <td>50</td>\n",
       "    </tr>\n",
       "    <tr>\n",
       "      <th>Snow, Partially cloudy</th>\n",
       "      <td>0.018608</td>\n",
       "      <td>171</td>\n",
       "    </tr>\n",
       "  </tbody>\n",
       "</table>\n",
       "</div>"
      ],
      "text/plain": [
       "                       sample measurement      \n",
       "                                     mean count\n",
       "conditions                                     \n",
       "Clear                            0.018760  1056\n",
       "Overcast                         0.018964   306\n",
       "Partially cloudy                 0.029132  6847\n",
       "Rain, Overcast                   0.017875    24\n",
       "Rain, Partially cloudy           0.034946   185\n",
       "Snow, Overcast                   0.017460    50\n",
       "Snow, Partially cloudy           0.018608   171"
      ]
     },
     "execution_count": 28,
     "metadata": {},
     "output_type": "execute_result"
    }
   ],
   "source": [
    "# I'm not sure what to make of \"Rain, Partially cloudy\" vs \"Rain, Overcast\" here.\n",
    "df_col.groupby('conditions').agg({'sample measurement': ['mean', 'count']})"
   ]
  },
  {
   "cell_type": "code",
   "execution_count": 29,
   "id": "facef8c6-dd64-4f02-bb8d-237a51ccd920",
   "metadata": {},
   "outputs": [
    {
     "data": {
      "text/html": [
       "<div>\n",
       "<style scoped>\n",
       "    .dataframe tbody tr th:only-of-type {\n",
       "        vertical-align: middle;\n",
       "    }\n",
       "\n",
       "    .dataframe tbody tr th {\n",
       "        vertical-align: top;\n",
       "    }\n",
       "\n",
       "    .dataframe thead tr th {\n",
       "        text-align: left;\n",
       "    }\n",
       "\n",
       "    .dataframe thead tr:last-of-type th {\n",
       "        text-align: right;\n",
       "    }\n",
       "</style>\n",
       "<table border=\"1\" class=\"dataframe\">\n",
       "  <thead>\n",
       "    <tr>\n",
       "      <th></th>\n",
       "      <th>sample measurement</th>\n",
       "    </tr>\n",
       "    <tr>\n",
       "      <th></th>\n",
       "      <th>mean</th>\n",
       "    </tr>\n",
       "    <tr>\n",
       "      <th>hour</th>\n",
       "      <th></th>\n",
       "    </tr>\n",
       "  </thead>\n",
       "  <tbody>\n",
       "    <tr>\n",
       "      <th>0.0</th>\n",
       "      <td>0.018352</td>\n",
       "    </tr>\n",
       "    <tr>\n",
       "      <th>1.0</th>\n",
       "      <td>0.022080</td>\n",
       "    </tr>\n",
       "    <tr>\n",
       "      <th>2.0</th>\n",
       "      <td>0.021833</td>\n",
       "    </tr>\n",
       "    <tr>\n",
       "      <th>3.0</th>\n",
       "      <td>0.020654</td>\n",
       "    </tr>\n",
       "    <tr>\n",
       "      <th>4.0</th>\n",
       "      <td>0.018606</td>\n",
       "    </tr>\n",
       "    <tr>\n",
       "      <th>5.0</th>\n",
       "      <td>0.015939</td>\n",
       "    </tr>\n",
       "    <tr>\n",
       "      <th>6.0</th>\n",
       "      <td>0.014978</td>\n",
       "    </tr>\n",
       "    <tr>\n",
       "      <th>7.0</th>\n",
       "      <td>0.017139</td>\n",
       "    </tr>\n",
       "    <tr>\n",
       "      <th>8.0</th>\n",
       "      <td>0.022162</td>\n",
       "    </tr>\n",
       "    <tr>\n",
       "      <th>9.0</th>\n",
       "      <td>0.028399</td>\n",
       "    </tr>\n",
       "    <tr>\n",
       "      <th>10.0</th>\n",
       "      <td>0.033615</td>\n",
       "    </tr>\n",
       "    <tr>\n",
       "      <th>11.0</th>\n",
       "      <td>0.037339</td>\n",
       "    </tr>\n",
       "    <tr>\n",
       "      <th>12.0</th>\n",
       "      <td>0.040073</td>\n",
       "    </tr>\n",
       "    <tr>\n",
       "      <th>13.0</th>\n",
       "      <td>0.041294</td>\n",
       "    </tr>\n",
       "    <tr>\n",
       "      <th>14.0</th>\n",
       "      <td>0.041197</td>\n",
       "    </tr>\n",
       "    <tr>\n",
       "      <th>15.0</th>\n",
       "      <td>0.039656</td>\n",
       "    </tr>\n",
       "    <tr>\n",
       "      <th>16.0</th>\n",
       "      <td>0.036490</td>\n",
       "    </tr>\n",
       "    <tr>\n",
       "      <th>17.0</th>\n",
       "      <td>0.032850</td>\n",
       "    </tr>\n",
       "    <tr>\n",
       "      <th>18.0</th>\n",
       "      <td>0.029288</td>\n",
       "    </tr>\n",
       "    <tr>\n",
       "      <th>19.0</th>\n",
       "      <td>0.026806</td>\n",
       "    </tr>\n",
       "    <tr>\n",
       "      <th>20.0</th>\n",
       "      <td>0.025139</td>\n",
       "    </tr>\n",
       "    <tr>\n",
       "      <th>21.0</th>\n",
       "      <td>0.024803</td>\n",
       "    </tr>\n",
       "    <tr>\n",
       "      <th>22.0</th>\n",
       "      <td>0.023892</td>\n",
       "    </tr>\n",
       "    <tr>\n",
       "      <th>23.0</th>\n",
       "      <td>0.023419</td>\n",
       "    </tr>\n",
       "  </tbody>\n",
       "</table>\n",
       "</div>"
      ],
      "text/plain": [
       "     sample measurement\n",
       "                   mean\n",
       "hour                   \n",
       "0.0            0.018352\n",
       "1.0            0.022080\n",
       "2.0            0.021833\n",
       "3.0            0.020654\n",
       "4.0            0.018606\n",
       "5.0            0.015939\n",
       "6.0            0.014978\n",
       "7.0            0.017139\n",
       "8.0            0.022162\n",
       "9.0            0.028399\n",
       "10.0           0.033615\n",
       "11.0           0.037339\n",
       "12.0           0.040073\n",
       "13.0           0.041294\n",
       "14.0           0.041197\n",
       "15.0           0.039656\n",
       "16.0           0.036490\n",
       "17.0           0.032850\n",
       "18.0           0.029288\n",
       "19.0           0.026806\n",
       "20.0           0.025139\n",
       "21.0           0.024803\n",
       "22.0           0.023892\n",
       "23.0           0.023419"
      ]
     },
     "execution_count": 29,
     "metadata": {},
     "output_type": "execute_result"
    }
   ],
   "source": [
    "# Examining temporal dependence of ozone on the hour and month\n",
    "df_col['hour'] = df_col['datetime_dt'].dt.hour\n",
    "df_col.groupby('hour').agg({'sample measurement': ['mean']})"
   ]
  },
  {
   "cell_type": "code",
   "execution_count": 30,
   "id": "ca019e13-2dee-4ada-a6fa-611860df29b5",
   "metadata": {},
   "outputs": [
    {
     "data": {
      "text/plain": [
       "<AxesSubplot:xlabel='hour', ylabel='sample measurement'>"
      ]
     },
     "execution_count": 30,
     "metadata": {},
     "output_type": "execute_result"
    },
    {
     "data": {
      "image/png": "[encoded data removed]",
      "text/plain": [
       "<Figure size 432x288 with 1 Axes>"
      ]
     },
     "metadata": {
      "needs_background": "light"
     },
     "output_type": "display_data"
    }
   ],
   "source": [
    "sns.lineplot(data = df_col, x='hour', y='sample measurement')"
   ]
  },
  {
   "cell_type": "code",
   "execution_count": 31,
   "id": "62ad4ebe-4d22-4e81-b266-4bf14e809d57",
   "metadata": {},
   "outputs": [],
   "source": [
    "# Going to create a cyclic variable to measure the hour, as there looks \n",
    "# to be strong dependence here, likely due to warmth and car traffic\n",
    "df_col['hour_x'] = np.cos(np.pi/12.0*df_col['hour'])\n",
    "df_col['hour_y'] = np.sin(np.pi/12.0*df_col['hour'])"
   ]
  },
  {
   "cell_type": "code",
   "execution_count": 32,
   "id": "2f9a032a-1203-4a89-9855-0901ca9cb01b",
   "metadata": {},
   "outputs": [
    {
     "data": {
      "text/html": [
       "<div>\n",
       "<style scoped>\n",
       "    .dataframe tbody tr th:only-of-type {\n",
       "        vertical-align: middle;\n",
       "    }\n",
       "\n",
       "    .dataframe tbody tr th {\n",
       "        vertical-align: top;\n",
       "    }\n",
       "\n",
       "    .dataframe thead th {\n",
       "        text-align: right;\n",
       "    }\n",
       "</style>\n",
       "<table border=\"1\" class=\"dataframe\">\n",
       "  <thead>\n",
       "    <tr style=\"text-align: right;\">\n",
       "      <th></th>\n",
       "      <th>sample measurement</th>\n",
       "    </tr>\n",
       "    <tr>\n",
       "      <th>month</th>\n",
       "      <th></th>\n",
       "    </tr>\n",
       "  </thead>\n",
       "  <tbody>\n",
       "    <tr>\n",
       "      <th>1.0</th>\n",
       "      <td>0.015444</td>\n",
       "    </tr>\n",
       "    <tr>\n",
       "      <th>2.0</th>\n",
       "      <td>0.016525</td>\n",
       "    </tr>\n",
       "    <tr>\n",
       "      <th>3.0</th>\n",
       "      <td>0.026470</td>\n",
       "    </tr>\n",
       "    <tr>\n",
       "      <th>4.0</th>\n",
       "      <td>0.032462</td>\n",
       "    </tr>\n",
       "    <tr>\n",
       "      <th>5.0</th>\n",
       "      <td>0.031878</td>\n",
       "    </tr>\n",
       "    <tr>\n",
       "      <th>6.0</th>\n",
       "      <td>0.039393</td>\n",
       "    </tr>\n",
       "    <tr>\n",
       "      <th>7.0</th>\n",
       "      <td>0.039472</td>\n",
       "    </tr>\n",
       "    <tr>\n",
       "      <th>8.0</th>\n",
       "      <td>0.040916</td>\n",
       "    </tr>\n",
       "    <tr>\n",
       "      <th>9.0</th>\n",
       "      <td>0.032408</td>\n",
       "    </tr>\n",
       "    <tr>\n",
       "      <th>10.0</th>\n",
       "      <td>0.022355</td>\n",
       "    </tr>\n",
       "    <tr>\n",
       "      <th>11.0</th>\n",
       "      <td>0.014479</td>\n",
       "    </tr>\n",
       "    <tr>\n",
       "      <th>12.0</th>\n",
       "      <td>0.014953</td>\n",
       "    </tr>\n",
       "  </tbody>\n",
       "</table>\n",
       "</div>"
      ],
      "text/plain": [
       "       sample measurement\n",
       "month                    \n",
       "1.0              0.015444\n",
       "2.0              0.016525\n",
       "3.0              0.026470\n",
       "4.0              0.032462\n",
       "5.0              0.031878\n",
       "6.0              0.039393\n",
       "7.0              0.039472\n",
       "8.0              0.040916\n",
       "9.0              0.032408\n",
       "10.0             0.022355\n",
       "11.0             0.014479\n",
       "12.0             0.014953"
      ]
     },
     "execution_count": 32,
     "metadata": {},
     "output_type": "execute_result"
    }
   ],
   "source": [
    "df_col['month'] = df_col['datetime_dt'].dt.month\n",
    "df_col.groupby('month').agg({'sample measurement': 'mean'})"
   ]
  },
  {
   "cell_type": "code",
   "execution_count": 33,
   "id": "c0de0532-8c3f-4f10-916b-d65437c817e0",
   "metadata": {},
   "outputs": [],
   "source": [
    "# The month seems to be important, let's parameterize it cyclicly\n",
    "df_col['month_x'] = np.cos(np.pi/6.0*df_col['month'])\n",
    "df_col['month_y'] = np.sin(np.pi/6.0*df_col['month'])"
   ]
  },
  {
   "cell_type": "code",
   "execution_count": 34,
   "id": "671fb331-638f-46c7-b3f3-ff96501bf249",
   "metadata": {},
   "outputs": [
    {
     "data": {
      "text/plain": [
       "<AxesSubplot:xlabel='cloudcover', ylabel='Count'>"
      ]
     },
     "execution_count": 34,
     "metadata": {},
     "output_type": "execute_result"
    },
    {
     "data": {
      "image/png": "[encoded data removed]",
      "text/plain": [
       "<Figure size 432x288 with 1 Axes>"
      ]
     },
     "metadata": {
      "needs_background": "light"
     },
     "output_type": "display_data"
    }
   ],
   "source": [
    "# GOing to ignore this feature\n",
    "sns.histplot(df_col['cloudcover'], kde=True)"
   ]
  },
  {
   "cell_type": "code",
   "execution_count": 35,
   "id": "104bd384-41d3-470a-9e56-2d3700754fe2",
   "metadata": {},
   "outputs": [
    {
     "data": {
      "text/plain": [
       "array([ 0., nan])"
      ]
     },
     "execution_count": 35,
     "metadata": {},
     "output_type": "execute_result"
    }
   ],
   "source": [
    "# Not used, only 0 or nan\n",
    "df_col['uvindex'].unique()"
   ]
  },
  {
   "cell_type": "code",
   "execution_count": 36,
   "id": "184bf7e4-dd69-4302-ab3d-e7fa935b24d6",
   "metadata": {},
   "outputs": [
    {
     "data": {
      "text/html": [
       "<div>\n",
       "<style scoped>\n",
       "    .dataframe tbody tr th:only-of-type {\n",
       "        vertical-align: middle;\n",
       "    }\n",
       "\n",
       "    .dataframe tbody tr th {\n",
       "        vertical-align: top;\n",
       "    }\n",
       "\n",
       "    .dataframe thead th {\n",
       "        text-align: right;\n",
       "    }\n",
       "</style>\n",
       "<table border=\"1\" class=\"dataframe\">\n",
       "  <thead>\n",
       "    <tr style=\"text-align: right;\">\n",
       "      <th></th>\n",
       "      <th>high ozone</th>\n",
       "    </tr>\n",
       "    <tr>\n",
       "      <th>month</th>\n",
       "      <th></th>\n",
       "    </tr>\n",
       "  </thead>\n",
       "  <tbody>\n",
       "    <tr>\n",
       "      <th>1.0</th>\n",
       "      <td>267.0</td>\n",
       "    </tr>\n",
       "    <tr>\n",
       "      <th>2.0</th>\n",
       "      <td>273.0</td>\n",
       "    </tr>\n",
       "    <tr>\n",
       "      <th>3.0</th>\n",
       "      <td>224.0</td>\n",
       "    </tr>\n",
       "    <tr>\n",
       "      <th>4.0</th>\n",
       "      <td>150.0</td>\n",
       "    </tr>\n",
       "    <tr>\n",
       "      <th>5.0</th>\n",
       "      <td>147.0</td>\n",
       "    </tr>\n",
       "    <tr>\n",
       "      <th>6.0</th>\n",
       "      <td>130.0</td>\n",
       "    </tr>\n",
       "    <tr>\n",
       "      <th>7.0</th>\n",
       "      <td>150.0</td>\n",
       "    </tr>\n",
       "    <tr>\n",
       "      <th>8.0</th>\n",
       "      <td>57.0</td>\n",
       "    </tr>\n",
       "    <tr>\n",
       "      <th>9.0</th>\n",
       "      <td>258.0</td>\n",
       "    </tr>\n",
       "    <tr>\n",
       "      <th>10.0</th>\n",
       "      <td>182.0</td>\n",
       "    </tr>\n",
       "    <tr>\n",
       "      <th>11.0</th>\n",
       "      <td>155.0</td>\n",
       "    </tr>\n",
       "    <tr>\n",
       "      <th>12.0</th>\n",
       "      <td>74.0</td>\n",
       "    </tr>\n",
       "  </tbody>\n",
       "</table>\n",
       "</div>"
      ],
      "text/plain": [
       "       high ozone\n",
       "month            \n",
       "1.0         267.0\n",
       "2.0         273.0\n",
       "3.0         224.0\n",
       "4.0         150.0\n",
       "5.0         147.0\n",
       "6.0         130.0\n",
       "7.0         150.0\n",
       "8.0          57.0\n",
       "9.0         258.0\n",
       "10.0        182.0\n",
       "11.0        155.0\n",
       "12.0         74.0"
      ]
     },
     "execution_count": 36,
     "metadata": {},
     "output_type": "execute_result"
    }
   ],
   "source": [
    "# Many observations in each month with a high ozone level.\n",
    "THRESH = .04\n",
    "ozone_high_mask = df['sample measurement']>THRESH\n",
    "df_col['high ozone']=0.0\n",
    "df_col.loc[ozone_high_mask, 'high ozone']=1.0\n",
    "df_col.groupby('month').agg({'high ozone': sum})"
   ]
  },
  {
   "cell_type": "code",
   "execution_count": 37,
   "id": "df430b50-6e08-46b8-905b-2eeb2defe493",
   "metadata": {},
   "outputs": [
    {
     "name": "stderr",
     "output_type": "stream",
     "text": [
      "/home/jcummings/.local/lib/python3.6/site-packages/ipykernel_launcher.py:6: RuntimeWarning: More than 20 figures have been opened. Figures created through the pyplot interface (`matplotlib.pyplot.figure`) are retained until explicitly closed and may consume too much memory. (To control this warning, see the rcParam `figure.max_open_warning`).\n",
      "  \n"
     ]
    },
    {
     "data": {
      "image/png": "[encoded data removed]",
      "text/plain": [
       "<Figure size 432x288 with 1 Axes>"
      ]
     },
     "metadata": {
      "needs_background": "light"
     },
     "output_type": "display_data"
    },
    {
     "data": {
      "image/png": "[encoded data removed]",
      "text/plain": [
       "<Figure size 432x288 with 1 Axes>"
      ]
     },
     "metadata": {
      "needs_background": "light"
     },
     "output_type": "display_data"
    },
    {
     "data": {
      "image/png": "[encoded data removed]",
      "text/plain": [
       "<Figure size 432x288 with 1 Axes>"
      ]
     },
     "metadata": {
      "needs_background": "light"
     },
     "output_type": "display_data"
    },
    {
     "data": {
      "image/png": "[encoded data removed]",
      "text/plain": [
       "<Figure size 432x288 with 1 Axes>"
      ]
     },
     "metadata": {
      "needs_background": "light"
     },
     "output_type": "display_data"
    },
    {
     "data": {
      "image/png": "[encoded data removed]",
      "text/plain": [
       "<Figure size 432x288 with 1 Axes>"
      ]
     },
     "metadata": {
      "needs_background": "light"
     },
     "output_type": "display_data"
    },
    {
     "data": {
      "image/png": "[encoded data removed]",
      "text/plain": [
       "<Figure size 432x288 with 1 Axes>"
      ]
     },
     "metadata": {
      "needs_background": "light"
     },
     "output_type": "display_data"
    },
    {
     "data": {
      "image/png": "[encoded data removed]",
      "text/plain": [
       "<Figure size 432x288 with 1 Axes>"
      ]
     },
     "metadata": {
      "needs_background": "light"
     },
     "output_type": "display_data"
    },
    {
     "data": {
      "image/png": "[encoded data removed]",
      "text/plain": [
       "<Figure size 432x288 with 1 Axes>"
      ]
     },
     "metadata": {
      "needs_background": "light"
     },
     "output_type": "display_data"
    },
    {
     "data": {
      "image/png": "[encoded data removed]",
      "text/plain": [
       "<Figure size 432x288 with 1 Axes>"
      ]
     },
     "metadata": {
      "needs_background": "light"
     },
     "output_type": "display_data"
    },
    {
     "data": {
      "image/png": "[encoded data removed]",
      "text/plain": [
       "<Figure size 432x288 with 1 Axes>"
      ]
     },
     "metadata": {
      "needs_background": "light"
     },
     "output_type": "display_data"
    },
    {
     "data": {
      "image/png": "[encoded data removed]",
      "text/plain": [
       "<Figure size 432x288 with 1 Axes>"
      ]
     },
     "metadata": {
      "needs_background": "light"
     },
     "output_type": "display_data"
    },
    {
     "data": {
      "image/png": "[encoded data removed]",
      "text/plain": [
       "<Figure size 432x288 with 1 Axes>"
      ]
     },
     "metadata": {
      "needs_background": "light"
     },
     "output_type": "display_data"
    },
    {
     "data": {
      "image/png": "[encoded data removed]",
      "text/plain": [
       "<Figure size 432x288 with 1 Axes>"
      ]
     },
     "metadata": {
      "needs_background": "light"
     },
     "output_type": "display_data"
    },
    {
     "data": {
      "image/png": "[encoded data removed]",
      "text/plain": [
       "<Figure size 432x288 with 1 Axes>"
      ]
     },
     "metadata": {
      "needs_background": "light"
     },
     "output_type": "display_data"
    },
    {
     "data": {
      "image/png": "[encoded data removed]",
      "text/plain": [
       "<Figure size 432x288 with 1 Axes>"
      ]
     },
     "metadata": {
      "needs_background": "light"
     },
     "output_type": "display_data"
    },
    {
     "data": {
      "image/png": "[encoded data removed]",
      "text/plain": [
       "<Figure size 432x288 with 1 Axes>"
      ]
     },
     "metadata": {
      "needs_background": "light"
     },
     "output_type": "display_data"
    },
    {
     "data": {
      "image/png": "[encoded data removed]",
      "text/plain": [
       "<Figure size 432x288 with 1 Axes>"
      ]
     },
     "metadata": {
      "needs_background": "light"
     },
     "output_type": "display_data"
    },
    {
     "data": {
      "image/png": "[encoded data removed]",
      "text/plain": [
       "<Figure size 432x288 with 1 Axes>"
      ]
     },
     "metadata": {
      "needs_background": "light"
     },
     "output_type": "display_data"
    },
    {
     "data": {
      "image/png": "[encoded data removed]",
      "text/plain": [
       "<Figure size 432x288 with 1 Axes>"
      ]
     },
     "metadata": {
      "needs_background": "light"
     },
     "output_type": "display_data"
    },
    {
     "data": {
      "image/png": "[encoded data removed]",
      "text/plain": [
       "<Figure size 432x288 with 1 Axes>"
      ]
     },
     "metadata": {
      "needs_background": "light"
     },
     "output_type": "display_data"
    },
    {
     "data": {
      "image/png": "[encoded data removed]",
      "text/plain": [
       "<Figure size 432x288 with 1 Axes>"
      ]
     },
     "metadata": {
      "needs_background": "light"
     },
     "output_type": "display_data"
    },
    {
     "data": {
      "image/png": "[encoded data removed]",
      "text/plain": [
       "<Figure size 432x288 with 1 Axes>"
      ]
     },
     "metadata": {
      "needs_background": "light"
     },
     "output_type": "display_data"
    },
    {
     "data": {
      "image/png": "[encoded data removed]",
      "text/plain": [
       "<Figure size 432x288 with 1 Axes>"
      ]
     },
     "metadata": {
      "needs_background": "light"
     },
     "output_type": "display_data"
    },
    {
     "data": {
      "image/png": "[encoded data removed]",
      "text/plain": [
       "<Figure size 432x288 with 1 Axes>"
      ]
     },
     "metadata": {
      "needs_background": "light"
     },
     "output_type": "display_data"
    },
    {
     "data": {
      "image/png": "[encoded data removed]",
      "text/plain": [
       "<Figure size 432x288 with 1 Axes>"
      ]
     },
     "metadata": {
      "needs_background": "light"
     },
     "output_type": "display_data"
    },
    {
     "data": {
      "image/png": "[encoded data removed]",
      "text/plain": [
       "<Figure size 432x288 with 1 Axes>"
      ]
     },
     "metadata": {
      "needs_background": "light"
     },
     "output_type": "display_data"
    },
    {
     "data": {
      "image/png": "[encoded data removed]",
      "text/plain": [
       "<Figure size 432x288 with 1 Axes>"
      ]
     },
     "metadata": {
      "needs_background": "light"
     },
     "output_type": "display_data"
    },
    {
     "data": {
      "image/png": "[encoded data removed]",
      "text/plain": [
       "<Figure size 432x288 with 1 Axes>"
      ]
     },
     "metadata": {
      "needs_background": "light"
     },
     "output_type": "display_data"
    }
   ],
   "source": [
    "# Some regression plots against the target variable here. \n",
    "# Of these, ones that seem promising: temp, humidity, \n",
    "# \n",
    "numer_cols = [i for i in df_col.columns if df_col[i].dtype=='float64']\n",
    "for i in numer_cols:\n",
    "    plt.figure(i)\n",
    "    ax = sns.regplot(x=i, y='sample measurement', data = df_col)"
   ]
  },
  {
   "cell_type": "code",
   "execution_count": null,
   "id": "ca8c8d57-1ee5-41c7-bc6c-e0e4c523da5c",
   "metadata": {},
   "outputs": [],
   "source": [
    "\n"
   ]
  },
  {
   "cell_type": "code",
   "execution_count": 38,
   "id": "fe479295-33bc-458e-9645-09eacf581d69",
   "metadata": {},
   "outputs": [
    {
     "data": {
      "text/html": [
       "<div>\n",
       "<style scoped>\n",
       "    .dataframe tbody tr th:only-of-type {\n",
       "        vertical-align: middle;\n",
       "    }\n",
       "\n",
       "    .dataframe tbody tr th {\n",
       "        vertical-align: top;\n",
       "    }\n",
       "\n",
       "    .dataframe thead th {\n",
       "        text-align: right;\n",
       "    }\n",
       "</style>\n",
       "<table border=\"1\" class=\"dataframe\">\n",
       "  <thead>\n",
       "    <tr style=\"text-align: right;\">\n",
       "      <th></th>\n",
       "      <th>percent_missing</th>\n",
       "    </tr>\n",
       "  </thead>\n",
       "  <tbody>\n",
       "    <tr>\n",
       "      <th>date local</th>\n",
       "      <td>0.000000</td>\n",
       "    </tr>\n",
       "    <tr>\n",
       "      <th>time local</th>\n",
       "      <td>0.000000</td>\n",
       "    </tr>\n",
       "    <tr>\n",
       "      <th>sample measurement</th>\n",
       "      <td>0.000000</td>\n",
       "    </tr>\n",
       "    <tr>\n",
       "      <th>datetime_oz</th>\n",
       "      <td>0.000000</td>\n",
       "    </tr>\n",
       "    <tr>\n",
       "      <th>name</th>\n",
       "      <td>0.011574</td>\n",
       "    </tr>\n",
       "    <tr>\n",
       "      <th>datetime_weather</th>\n",
       "      <td>0.011574</td>\n",
       "    </tr>\n",
       "    <tr>\n",
       "      <th>temp</th>\n",
       "      <td>0.011574</td>\n",
       "    </tr>\n",
       "    <tr>\n",
       "      <th>feelslike</th>\n",
       "      <td>0.011574</td>\n",
       "    </tr>\n",
       "    <tr>\n",
       "      <th>dew</th>\n",
       "      <td>0.011574</td>\n",
       "    </tr>\n",
       "    <tr>\n",
       "      <th>humidity</th>\n",
       "      <td>0.011574</td>\n",
       "    </tr>\n",
       "    <tr>\n",
       "      <th>precip</th>\n",
       "      <td>0.682870</td>\n",
       "    </tr>\n",
       "    <tr>\n",
       "      <th>precipprob</th>\n",
       "      <td>100.000000</td>\n",
       "    </tr>\n",
       "    <tr>\n",
       "      <th>preciptype</th>\n",
       "      <td>100.000000</td>\n",
       "    </tr>\n",
       "    <tr>\n",
       "      <th>snow</th>\n",
       "      <td>0.011574</td>\n",
       "    </tr>\n",
       "    <tr>\n",
       "      <th>snowdepth</th>\n",
       "      <td>0.011574</td>\n",
       "    </tr>\n",
       "    <tr>\n",
       "      <th>windgust</th>\n",
       "      <td>80.636574</td>\n",
       "    </tr>\n",
       "    <tr>\n",
       "      <th>windspeed</th>\n",
       "      <td>0.011574</td>\n",
       "    </tr>\n",
       "    <tr>\n",
       "      <th>winddir</th>\n",
       "      <td>0.034722</td>\n",
       "    </tr>\n",
       "    <tr>\n",
       "      <th>sealevelpressure</th>\n",
       "      <td>0.011574</td>\n",
       "    </tr>\n",
       "    <tr>\n",
       "      <th>cloudcover</th>\n",
       "      <td>0.011574</td>\n",
       "    </tr>\n",
       "    <tr>\n",
       "      <th>visibility</th>\n",
       "      <td>0.011574</td>\n",
       "    </tr>\n",
       "    <tr>\n",
       "      <th>solarradiation</th>\n",
       "      <td>100.000000</td>\n",
       "    </tr>\n",
       "    <tr>\n",
       "      <th>solarenergy</th>\n",
       "      <td>100.000000</td>\n",
       "    </tr>\n",
       "    <tr>\n",
       "      <th>uvindex</th>\n",
       "      <td>0.011574</td>\n",
       "    </tr>\n",
       "    <tr>\n",
       "      <th>severerisk</th>\n",
       "      <td>100.000000</td>\n",
       "    </tr>\n",
       "    <tr>\n",
       "      <th>conditions</th>\n",
       "      <td>0.011574</td>\n",
       "    </tr>\n",
       "    <tr>\n",
       "      <th>icon</th>\n",
       "      <td>0.011574</td>\n",
       "    </tr>\n",
       "    <tr>\n",
       "      <th>stations</th>\n",
       "      <td>0.011574</td>\n",
       "    </tr>\n",
       "    <tr>\n",
       "      <th>datetime_dt</th>\n",
       "      <td>0.011574</td>\n",
       "    </tr>\n",
       "    <tr>\n",
       "      <th>day_of_week</th>\n",
       "      <td>0.011574</td>\n",
       "    </tr>\n",
       "    <tr>\n",
       "      <th>type of day</th>\n",
       "      <td>0.000000</td>\n",
       "    </tr>\n",
       "    <tr>\n",
       "      <th>hour</th>\n",
       "      <td>0.011574</td>\n",
       "    </tr>\n",
       "    <tr>\n",
       "      <th>hour_x</th>\n",
       "      <td>0.011574</td>\n",
       "    </tr>\n",
       "    <tr>\n",
       "      <th>hour_y</th>\n",
       "      <td>0.011574</td>\n",
       "    </tr>\n",
       "    <tr>\n",
       "      <th>month</th>\n",
       "      <td>0.011574</td>\n",
       "    </tr>\n",
       "    <tr>\n",
       "      <th>month_x</th>\n",
       "      <td>0.011574</td>\n",
       "    </tr>\n",
       "    <tr>\n",
       "      <th>month_y</th>\n",
       "      <td>0.011574</td>\n",
       "    </tr>\n",
       "    <tr>\n",
       "      <th>high ozone</th>\n",
       "      <td>0.000000</td>\n",
       "    </tr>\n",
       "  </tbody>\n",
       "</table>\n",
       "</div>"
      ],
      "text/plain": [
       "                    percent_missing\n",
       "date local                 0.000000\n",
       "time local                 0.000000\n",
       "sample measurement         0.000000\n",
       "datetime_oz                0.000000\n",
       "name                       0.011574\n",
       "datetime_weather           0.011574\n",
       "temp                       0.011574\n",
       "feelslike                  0.011574\n",
       "dew                        0.011574\n",
       "humidity                   0.011574\n",
       "precip                     0.682870\n",
       "precipprob               100.000000\n",
       "preciptype               100.000000\n",
       "snow                       0.011574\n",
       "snowdepth                  0.011574\n",
       "windgust                  80.636574\n",
       "windspeed                  0.011574\n",
       "winddir                    0.034722\n",
       "sealevelpressure           0.011574\n",
       "cloudcover                 0.011574\n",
       "visibility                 0.011574\n",
       "solarradiation           100.000000\n",
       "solarenergy              100.000000\n",
       "uvindex                    0.011574\n",
       "severerisk               100.000000\n",
       "conditions                 0.011574\n",
       "icon                       0.011574\n",
       "stations                   0.011574\n",
       "datetime_dt                0.011574\n",
       "day_of_week                0.011574\n",
       "type of day                0.000000\n",
       "hour                       0.011574\n",
       "hour_x                     0.011574\n",
       "hour_y                     0.011574\n",
       "month                      0.011574\n",
       "month_x                    0.011574\n",
       "month_y                    0.011574\n",
       "high ozone                 0.000000"
      ]
     },
     "execution_count": 38,
     "metadata": {},
     "output_type": "execute_result"
    }
   ],
   "source": [
    "calculate_percent_missing(df_col)"
   ]
  },
  {
   "cell_type": "code",
   "execution_count": 39,
   "id": "42b196b4-770c-4842-b919-62be047e7425",
   "metadata": {},
   "outputs": [
    {
     "data": {
      "text/html": [
       "<div>\n",
       "<style scoped>\n",
       "    .dataframe tbody tr th:only-of-type {\n",
       "        vertical-align: middle;\n",
       "    }\n",
       "\n",
       "    .dataframe tbody tr th {\n",
       "        vertical-align: top;\n",
       "    }\n",
       "\n",
       "    .dataframe thead th {\n",
       "        text-align: right;\n",
       "    }\n",
       "</style>\n",
       "<table border=\"1\" class=\"dataframe\">\n",
       "  <thead>\n",
       "    <tr style=\"text-align: right;\">\n",
       "      <th></th>\n",
       "      <th>date local</th>\n",
       "      <th>time local</th>\n",
       "      <th>sample measurement</th>\n",
       "      <th>datetime_oz</th>\n",
       "      <th>name</th>\n",
       "      <th>datetime_weather</th>\n",
       "      <th>temp</th>\n",
       "      <th>feelslike</th>\n",
       "      <th>dew</th>\n",
       "      <th>humidity</th>\n",
       "      <th>...</th>\n",
       "      <th>datetime_dt</th>\n",
       "      <th>day_of_week</th>\n",
       "      <th>type of day</th>\n",
       "      <th>hour</th>\n",
       "      <th>hour_x</th>\n",
       "      <th>hour_y</th>\n",
       "      <th>month</th>\n",
       "      <th>month_x</th>\n",
       "      <th>month_y</th>\n",
       "      <th>high ozone</th>\n",
       "    </tr>\n",
       "  </thead>\n",
       "  <tbody>\n",
       "    <tr>\n",
       "      <th>0</th>\n",
       "      <td>2019-01-01</td>\n",
       "      <td>00:00</td>\n",
       "      <td>0.013</td>\n",
       "      <td>2019-01-01 00:00:00</td>\n",
       "      <td>39.75, -104.987625</td>\n",
       "      <td>2019-01-01T00:00:00</td>\n",
       "      <td>0.9</td>\n",
       "      <td>-9.7</td>\n",
       "      <td>-1.6</td>\n",
       "      <td>88.81</td>\n",
       "      <td>...</td>\n",
       "      <td>2019-01-01 00:00:00</td>\n",
       "      <td>1.0</td>\n",
       "      <td>weekday</td>\n",
       "      <td>0.0</td>\n",
       "      <td>1.000000</td>\n",
       "      <td>0.000000</td>\n",
       "      <td>1.0</td>\n",
       "      <td>0.866025</td>\n",
       "      <td>0.5</td>\n",
       "      <td>0.0</td>\n",
       "    </tr>\n",
       "    <tr>\n",
       "      <th>1</th>\n",
       "      <td>2019-01-01</td>\n",
       "      <td>01:00</td>\n",
       "      <td>0.016</td>\n",
       "      <td>2019-01-01 01:00:00</td>\n",
       "      <td>39.75, -104.987625</td>\n",
       "      <td>2019-01-01T01:00:00</td>\n",
       "      <td>0.1</td>\n",
       "      <td>-10.4</td>\n",
       "      <td>-3.1</td>\n",
       "      <td>86.21</td>\n",
       "      <td>...</td>\n",
       "      <td>2019-01-01 01:00:00</td>\n",
       "      <td>1.0</td>\n",
       "      <td>weekday</td>\n",
       "      <td>1.0</td>\n",
       "      <td>0.965926</td>\n",
       "      <td>0.258819</td>\n",
       "      <td>1.0</td>\n",
       "      <td>0.866025</td>\n",
       "      <td>0.5</td>\n",
       "      <td>0.0</td>\n",
       "    </tr>\n",
       "    <tr>\n",
       "      <th>2</th>\n",
       "      <td>2019-01-01</td>\n",
       "      <td>02:00</td>\n",
       "      <td>0.016</td>\n",
       "      <td>2019-01-01 02:00:00</td>\n",
       "      <td>39.75, -104.987625</td>\n",
       "      <td>2019-01-01T02:00:00</td>\n",
       "      <td>0.2</td>\n",
       "      <td>-10.9</td>\n",
       "      <td>-2.9</td>\n",
       "      <td>86.25</td>\n",
       "      <td>...</td>\n",
       "      <td>2019-01-01 02:00:00</td>\n",
       "      <td>1.0</td>\n",
       "      <td>weekday</td>\n",
       "      <td>2.0</td>\n",
       "      <td>0.866025</td>\n",
       "      <td>0.500000</td>\n",
       "      <td>1.0</td>\n",
       "      <td>0.866025</td>\n",
       "      <td>0.5</td>\n",
       "      <td>0.0</td>\n",
       "    </tr>\n",
       "    <tr>\n",
       "      <th>3</th>\n",
       "      <td>2019-01-01</td>\n",
       "      <td>03:00</td>\n",
       "      <td>0.021</td>\n",
       "      <td>2019-01-01 03:00:00</td>\n",
       "      <td>39.75, -104.987625</td>\n",
       "      <td>2019-01-01T03:00:00</td>\n",
       "      <td>0.5</td>\n",
       "      <td>-12.5</td>\n",
       "      <td>-2.7</td>\n",
       "      <td>85.95</td>\n",
       "      <td>...</td>\n",
       "      <td>2019-01-01 03:00:00</td>\n",
       "      <td>1.0</td>\n",
       "      <td>weekday</td>\n",
       "      <td>3.0</td>\n",
       "      <td>0.707107</td>\n",
       "      <td>0.707107</td>\n",
       "      <td>1.0</td>\n",
       "      <td>0.866025</td>\n",
       "      <td>0.5</td>\n",
       "      <td>0.0</td>\n",
       "    </tr>\n",
       "    <tr>\n",
       "      <th>4</th>\n",
       "      <td>2019-01-01</td>\n",
       "      <td>04:00</td>\n",
       "      <td>0.023</td>\n",
       "      <td>2019-01-01 04:00:00</td>\n",
       "      <td>39.75, -104.987625</td>\n",
       "      <td>2019-01-01T04:00:00</td>\n",
       "      <td>0.4</td>\n",
       "      <td>-13.3</td>\n",
       "      <td>-3.0</td>\n",
       "      <td>85.06</td>\n",
       "      <td>...</td>\n",
       "      <td>2019-01-01 04:00:00</td>\n",
       "      <td>1.0</td>\n",
       "      <td>weekday</td>\n",
       "      <td>4.0</td>\n",
       "      <td>0.500000</td>\n",
       "      <td>0.866025</td>\n",
       "      <td>1.0</td>\n",
       "      <td>0.866025</td>\n",
       "      <td>0.5</td>\n",
       "      <td>0.0</td>\n",
       "    </tr>\n",
       "  </tbody>\n",
       "</table>\n",
       "<p>5 rows × 38 columns</p>\n",
       "</div>"
      ],
      "text/plain": [
       "   date local time local  sample measurement         datetime_oz  \\\n",
       "0  2019-01-01      00:00               0.013 2019-01-01 00:00:00   \n",
       "1  2019-01-01      01:00               0.016 2019-01-01 01:00:00   \n",
       "2  2019-01-01      02:00               0.016 2019-01-01 02:00:00   \n",
       "3  2019-01-01      03:00               0.021 2019-01-01 03:00:00   \n",
       "4  2019-01-01      04:00               0.023 2019-01-01 04:00:00   \n",
       "\n",
       "                 name     datetime_weather  temp  feelslike  dew  humidity  \\\n",
       "0  39.75, -104.987625  2019-01-01T00:00:00   0.9       -9.7 -1.6     88.81   \n",
       "1  39.75, -104.987625  2019-01-01T01:00:00   0.1      -10.4 -3.1     86.21   \n",
       "2  39.75, -104.987625  2019-01-01T02:00:00   0.2      -10.9 -2.9     86.25   \n",
       "3  39.75, -104.987625  2019-01-01T03:00:00   0.5      -12.5 -2.7     85.95   \n",
       "4  39.75, -104.987625  2019-01-01T04:00:00   0.4      -13.3 -3.0     85.06   \n",
       "\n",
       "   ...         datetime_dt  day_of_week  type of day  hour    hour_x  \\\n",
       "0  ... 2019-01-01 00:00:00          1.0      weekday   0.0  1.000000   \n",
       "1  ... 2019-01-01 01:00:00          1.0      weekday   1.0  0.965926   \n",
       "2  ... 2019-01-01 02:00:00          1.0      weekday   2.0  0.866025   \n",
       "3  ... 2019-01-01 03:00:00          1.0      weekday   3.0  0.707107   \n",
       "4  ... 2019-01-01 04:00:00          1.0      weekday   4.0  0.500000   \n",
       "\n",
       "     hour_y  month   month_x  month_y  high ozone  \n",
       "0  0.000000    1.0  0.866025      0.5         0.0  \n",
       "1  0.258819    1.0  0.866025      0.5         0.0  \n",
       "2  0.500000    1.0  0.866025      0.5         0.0  \n",
       "3  0.707107    1.0  0.866025      0.5         0.0  \n",
       "4  0.866025    1.0  0.866025      0.5         0.0  \n",
       "\n",
       "[5 rows x 38 columns]"
      ]
     },
     "execution_count": 39,
     "metadata": {},
     "output_type": "execute_result"
    }
   ],
   "source": [
    "df_col.head()"
   ]
  },
  {
   "cell_type": "code",
   "execution_count": 40,
   "id": "573f4766-de5a-4722-8b67-40747e0a39e0",
   "metadata": {},
   "outputs": [],
   "source": [
    "# Selecting features based on visualizations from previous\n",
    "use_cols_numerical=['temp', 'humidity', 'windspeed', 'month_x', 'month_y', 'sealevelpressure', 'hour_x', 'hour_y']\n",
    "use_cols_cat = ['type of day']\n",
    "target='sample measurement'\n",
    "df_col_useful = df_col[use_cols_numerical + use_cols_cat + [target]]"
   ]
  },
  {
   "cell_type": "code",
   "execution_count": 41,
   "id": "64389df1-819f-41b8-bd15-402b36900666",
   "metadata": {},
   "outputs": [
    {
     "data": {
      "text/html": [
       "<div>\n",
       "<style scoped>\n",
       "    .dataframe tbody tr th:only-of-type {\n",
       "        vertical-align: middle;\n",
       "    }\n",
       "\n",
       "    .dataframe tbody tr th {\n",
       "        vertical-align: top;\n",
       "    }\n",
       "\n",
       "    .dataframe thead th {\n",
       "        text-align: right;\n",
       "    }\n",
       "</style>\n",
       "<table border=\"1\" class=\"dataframe\">\n",
       "  <thead>\n",
       "    <tr style=\"text-align: right;\">\n",
       "      <th></th>\n",
       "      <th>date local</th>\n",
       "      <th>time local</th>\n",
       "      <th>sample measurement</th>\n",
       "      <th>datetime_oz</th>\n",
       "      <th>name</th>\n",
       "      <th>datetime_weather</th>\n",
       "      <th>temp</th>\n",
       "      <th>feelslike</th>\n",
       "      <th>dew</th>\n",
       "      <th>humidity</th>\n",
       "      <th>...</th>\n",
       "      <th>datetime_dt</th>\n",
       "      <th>day_of_week</th>\n",
       "      <th>type of day</th>\n",
       "      <th>hour</th>\n",
       "      <th>hour_x</th>\n",
       "      <th>hour_y</th>\n",
       "      <th>month</th>\n",
       "      <th>month_x</th>\n",
       "      <th>month_y</th>\n",
       "      <th>high ozone</th>\n",
       "    </tr>\n",
       "  </thead>\n",
       "  <tbody>\n",
       "    <tr>\n",
       "      <th>0</th>\n",
       "      <td>2019-01-01</td>\n",
       "      <td>00:00</td>\n",
       "      <td>0.013</td>\n",
       "      <td>2019-01-01 00:00:00</td>\n",
       "      <td>39.75, -104.987625</td>\n",
       "      <td>2019-01-01T00:00:00</td>\n",
       "      <td>0.9</td>\n",
       "      <td>-9.7</td>\n",
       "      <td>-1.6</td>\n",
       "      <td>88.81</td>\n",
       "      <td>...</td>\n",
       "      <td>2019-01-01 00:00:00</td>\n",
       "      <td>1.0</td>\n",
       "      <td>weekday</td>\n",
       "      <td>0.0</td>\n",
       "      <td>1.000000</td>\n",
       "      <td>0.000000</td>\n",
       "      <td>1.0</td>\n",
       "      <td>0.866025</td>\n",
       "      <td>5.000000e-01</td>\n",
       "      <td>0.0</td>\n",
       "    </tr>\n",
       "    <tr>\n",
       "      <th>1</th>\n",
       "      <td>2019-01-01</td>\n",
       "      <td>01:00</td>\n",
       "      <td>0.016</td>\n",
       "      <td>2019-01-01 01:00:00</td>\n",
       "      <td>39.75, -104.987625</td>\n",
       "      <td>2019-01-01T01:00:00</td>\n",
       "      <td>0.1</td>\n",
       "      <td>-10.4</td>\n",
       "      <td>-3.1</td>\n",
       "      <td>86.21</td>\n",
       "      <td>...</td>\n",
       "      <td>2019-01-01 01:00:00</td>\n",
       "      <td>1.0</td>\n",
       "      <td>weekday</td>\n",
       "      <td>1.0</td>\n",
       "      <td>0.965926</td>\n",
       "      <td>0.258819</td>\n",
       "      <td>1.0</td>\n",
       "      <td>0.866025</td>\n",
       "      <td>5.000000e-01</td>\n",
       "      <td>0.0</td>\n",
       "    </tr>\n",
       "    <tr>\n",
       "      <th>2</th>\n",
       "      <td>2019-01-01</td>\n",
       "      <td>02:00</td>\n",
       "      <td>0.016</td>\n",
       "      <td>2019-01-01 02:00:00</td>\n",
       "      <td>39.75, -104.987625</td>\n",
       "      <td>2019-01-01T02:00:00</td>\n",
       "      <td>0.2</td>\n",
       "      <td>-10.9</td>\n",
       "      <td>-2.9</td>\n",
       "      <td>86.25</td>\n",
       "      <td>...</td>\n",
       "      <td>2019-01-01 02:00:00</td>\n",
       "      <td>1.0</td>\n",
       "      <td>weekday</td>\n",
       "      <td>2.0</td>\n",
       "      <td>0.866025</td>\n",
       "      <td>0.500000</td>\n",
       "      <td>1.0</td>\n",
       "      <td>0.866025</td>\n",
       "      <td>5.000000e-01</td>\n",
       "      <td>0.0</td>\n",
       "    </tr>\n",
       "    <tr>\n",
       "      <th>3</th>\n",
       "      <td>2019-01-01</td>\n",
       "      <td>03:00</td>\n",
       "      <td>0.021</td>\n",
       "      <td>2019-01-01 03:00:00</td>\n",
       "      <td>39.75, -104.987625</td>\n",
       "      <td>2019-01-01T03:00:00</td>\n",
       "      <td>0.5</td>\n",
       "      <td>-12.5</td>\n",
       "      <td>-2.7</td>\n",
       "      <td>85.95</td>\n",
       "      <td>...</td>\n",
       "      <td>2019-01-01 03:00:00</td>\n",
       "      <td>1.0</td>\n",
       "      <td>weekday</td>\n",
       "      <td>3.0</td>\n",
       "      <td>0.707107</td>\n",
       "      <td>0.707107</td>\n",
       "      <td>1.0</td>\n",
       "      <td>0.866025</td>\n",
       "      <td>5.000000e-01</td>\n",
       "      <td>0.0</td>\n",
       "    </tr>\n",
       "    <tr>\n",
       "      <th>4</th>\n",
       "      <td>2019-01-01</td>\n",
       "      <td>04:00</td>\n",
       "      <td>0.023</td>\n",
       "      <td>2019-01-01 04:00:00</td>\n",
       "      <td>39.75, -104.987625</td>\n",
       "      <td>2019-01-01T04:00:00</td>\n",
       "      <td>0.4</td>\n",
       "      <td>-13.3</td>\n",
       "      <td>-3.0</td>\n",
       "      <td>85.06</td>\n",
       "      <td>...</td>\n",
       "      <td>2019-01-01 04:00:00</td>\n",
       "      <td>1.0</td>\n",
       "      <td>weekday</td>\n",
       "      <td>4.0</td>\n",
       "      <td>0.500000</td>\n",
       "      <td>0.866025</td>\n",
       "      <td>1.0</td>\n",
       "      <td>0.866025</td>\n",
       "      <td>5.000000e-01</td>\n",
       "      <td>0.0</td>\n",
       "    </tr>\n",
       "    <tr>\n",
       "      <th>...</th>\n",
       "      <td>...</td>\n",
       "      <td>...</td>\n",
       "      <td>...</td>\n",
       "      <td>...</td>\n",
       "      <td>...</td>\n",
       "      <td>...</td>\n",
       "      <td>...</td>\n",
       "      <td>...</td>\n",
       "      <td>...</td>\n",
       "      <td>...</td>\n",
       "      <td>...</td>\n",
       "      <td>...</td>\n",
       "      <td>...</td>\n",
       "      <td>...</td>\n",
       "      <td>...</td>\n",
       "      <td>...</td>\n",
       "      <td>...</td>\n",
       "      <td>...</td>\n",
       "      <td>...</td>\n",
       "      <td>...</td>\n",
       "      <td>...</td>\n",
       "    </tr>\n",
       "    <tr>\n",
       "      <th>8635</th>\n",
       "      <td>2019-12-31</td>\n",
       "      <td>19:00</td>\n",
       "      <td>0.002</td>\n",
       "      <td>2019-12-31 19:00:00</td>\n",
       "      <td>39.75, -104.987625</td>\n",
       "      <td>2019-12-31T19:00:00</td>\n",
       "      <td>31.1</td>\n",
       "      <td>23.4</td>\n",
       "      <td>8.2</td>\n",
       "      <td>37.63</td>\n",
       "      <td>...</td>\n",
       "      <td>2019-12-31 19:00:00</td>\n",
       "      <td>1.0</td>\n",
       "      <td>weekday</td>\n",
       "      <td>19.0</td>\n",
       "      <td>0.258819</td>\n",
       "      <td>-0.965926</td>\n",
       "      <td>12.0</td>\n",
       "      <td>1.000000</td>\n",
       "      <td>-2.449294e-16</td>\n",
       "      <td>0.0</td>\n",
       "    </tr>\n",
       "    <tr>\n",
       "      <th>8636</th>\n",
       "      <td>2019-12-31</td>\n",
       "      <td>20:00</td>\n",
       "      <td>0.003</td>\n",
       "      <td>2019-12-31 20:00:00</td>\n",
       "      <td>39.75, -104.987625</td>\n",
       "      <td>2019-12-31T20:00:00</td>\n",
       "      <td>30.3</td>\n",
       "      <td>24.4</td>\n",
       "      <td>7.2</td>\n",
       "      <td>37.17</td>\n",
       "      <td>...</td>\n",
       "      <td>2019-12-31 20:00:00</td>\n",
       "      <td>1.0</td>\n",
       "      <td>weekday</td>\n",
       "      <td>20.0</td>\n",
       "      <td>0.500000</td>\n",
       "      <td>-0.866025</td>\n",
       "      <td>12.0</td>\n",
       "      <td>1.000000</td>\n",
       "      <td>-2.449294e-16</td>\n",
       "      <td>0.0</td>\n",
       "    </tr>\n",
       "    <tr>\n",
       "      <th>8637</th>\n",
       "      <td>2019-12-31</td>\n",
       "      <td>21:00</td>\n",
       "      <td>0.011</td>\n",
       "      <td>2019-12-31 21:00:00</td>\n",
       "      <td>39.75, -104.987625</td>\n",
       "      <td>2019-12-31T21:00:00</td>\n",
       "      <td>31.8</td>\n",
       "      <td>23.9</td>\n",
       "      <td>5.3</td>\n",
       "      <td>32.11</td>\n",
       "      <td>...</td>\n",
       "      <td>2019-12-31 21:00:00</td>\n",
       "      <td>1.0</td>\n",
       "      <td>weekday</td>\n",
       "      <td>21.0</td>\n",
       "      <td>0.707107</td>\n",
       "      <td>-0.707107</td>\n",
       "      <td>12.0</td>\n",
       "      <td>1.000000</td>\n",
       "      <td>-2.449294e-16</td>\n",
       "      <td>0.0</td>\n",
       "    </tr>\n",
       "    <tr>\n",
       "      <th>8638</th>\n",
       "      <td>2019-12-31</td>\n",
       "      <td>22:00</td>\n",
       "      <td>0.022</td>\n",
       "      <td>2019-12-31 22:00:00</td>\n",
       "      <td>39.75, -104.987625</td>\n",
       "      <td>2019-12-31T22:00:00</td>\n",
       "      <td>31.5</td>\n",
       "      <td>23.2</td>\n",
       "      <td>6.5</td>\n",
       "      <td>34.29</td>\n",
       "      <td>...</td>\n",
       "      <td>2019-12-31 22:00:00</td>\n",
       "      <td>1.0</td>\n",
       "      <td>weekday</td>\n",
       "      <td>22.0</td>\n",
       "      <td>0.866025</td>\n",
       "      <td>-0.500000</td>\n",
       "      <td>12.0</td>\n",
       "      <td>1.000000</td>\n",
       "      <td>-2.449294e-16</td>\n",
       "      <td>0.0</td>\n",
       "    </tr>\n",
       "    <tr>\n",
       "      <th>8639</th>\n",
       "      <td>2019-12-31</td>\n",
       "      <td>23:00</td>\n",
       "      <td>0.025</td>\n",
       "      <td>2019-12-31 23:00:00</td>\n",
       "      <td>39.75, -104.987625</td>\n",
       "      <td>2019-12-31T23:00:00</td>\n",
       "      <td>30.4</td>\n",
       "      <td>22.3</td>\n",
       "      <td>7.2</td>\n",
       "      <td>36.92</td>\n",
       "      <td>...</td>\n",
       "      <td>2019-12-31 23:00:00</td>\n",
       "      <td>1.0</td>\n",
       "      <td>weekday</td>\n",
       "      <td>23.0</td>\n",
       "      <td>0.965926</td>\n",
       "      <td>-0.258819</td>\n",
       "      <td>12.0</td>\n",
       "      <td>1.000000</td>\n",
       "      <td>-2.449294e-16</td>\n",
       "      <td>0.0</td>\n",
       "    </tr>\n",
       "  </tbody>\n",
       "</table>\n",
       "<p>8640 rows × 38 columns</p>\n",
       "</div>"
      ],
      "text/plain": [
       "      date local time local  sample measurement         datetime_oz  \\\n",
       "0     2019-01-01      00:00               0.013 2019-01-01 00:00:00   \n",
       "1     2019-01-01      01:00               0.016 2019-01-01 01:00:00   \n",
       "2     2019-01-01      02:00               0.016 2019-01-01 02:00:00   \n",
       "3     2019-01-01      03:00               0.021 2019-01-01 03:00:00   \n",
       "4     2019-01-01      04:00               0.023 2019-01-01 04:00:00   \n",
       "...          ...        ...                 ...                 ...   \n",
       "8635  2019-12-31      19:00               0.002 2019-12-31 19:00:00   \n",
       "8636  2019-12-31      20:00               0.003 2019-12-31 20:00:00   \n",
       "8637  2019-12-31      21:00               0.011 2019-12-31 21:00:00   \n",
       "8638  2019-12-31      22:00               0.022 2019-12-31 22:00:00   \n",
       "8639  2019-12-31      23:00               0.025 2019-12-31 23:00:00   \n",
       "\n",
       "                    name     datetime_weather  temp  feelslike  dew  humidity  \\\n",
       "0     39.75, -104.987625  2019-01-01T00:00:00   0.9       -9.7 -1.6     88.81   \n",
       "1     39.75, -104.987625  2019-01-01T01:00:00   0.1      -10.4 -3.1     86.21   \n",
       "2     39.75, -104.987625  2019-01-01T02:00:00   0.2      -10.9 -2.9     86.25   \n",
       "3     39.75, -104.987625  2019-01-01T03:00:00   0.5      -12.5 -2.7     85.95   \n",
       "4     39.75, -104.987625  2019-01-01T04:00:00   0.4      -13.3 -3.0     85.06   \n",
       "...                  ...                  ...   ...        ...  ...       ...   \n",
       "8635  39.75, -104.987625  2019-12-31T19:00:00  31.1       23.4  8.2     37.63   \n",
       "8636  39.75, -104.987625  2019-12-31T20:00:00  30.3       24.4  7.2     37.17   \n",
       "8637  39.75, -104.987625  2019-12-31T21:00:00  31.8       23.9  5.3     32.11   \n",
       "8638  39.75, -104.987625  2019-12-31T22:00:00  31.5       23.2  6.5     34.29   \n",
       "8639  39.75, -104.987625  2019-12-31T23:00:00  30.4       22.3  7.2     36.92   \n",
       "\n",
       "      ...         datetime_dt  day_of_week  type of day  hour    hour_x  \\\n",
       "0     ... 2019-01-01 00:00:00          1.0      weekday   0.0  1.000000   \n",
       "1     ... 2019-01-01 01:00:00          1.0      weekday   1.0  0.965926   \n",
       "2     ... 2019-01-01 02:00:00          1.0      weekday   2.0  0.866025   \n",
       "3     ... 2019-01-01 03:00:00          1.0      weekday   3.0  0.707107   \n",
       "4     ... 2019-01-01 04:00:00          1.0      weekday   4.0  0.500000   \n",
       "...   ...                 ...          ...          ...   ...       ...   \n",
       "8635  ... 2019-12-31 19:00:00          1.0      weekday  19.0  0.258819   \n",
       "8636  ... 2019-12-31 20:00:00          1.0      weekday  20.0  0.500000   \n",
       "8637  ... 2019-12-31 21:00:00          1.0      weekday  21.0  0.707107   \n",
       "8638  ... 2019-12-31 22:00:00          1.0      weekday  22.0  0.866025   \n",
       "8639  ... 2019-12-31 23:00:00          1.0      weekday  23.0  0.965926   \n",
       "\n",
       "        hour_y  month   month_x       month_y  high ozone  \n",
       "0     0.000000    1.0  0.866025  5.000000e-01         0.0  \n",
       "1     0.258819    1.0  0.866025  5.000000e-01         0.0  \n",
       "2     0.500000    1.0  0.866025  5.000000e-01         0.0  \n",
       "3     0.707107    1.0  0.866025  5.000000e-01         0.0  \n",
       "4     0.866025    1.0  0.866025  5.000000e-01         0.0  \n",
       "...        ...    ...       ...           ...         ...  \n",
       "8635 -0.965926   12.0  1.000000 -2.449294e-16         0.0  \n",
       "8636 -0.866025   12.0  1.000000 -2.449294e-16         0.0  \n",
       "8637 -0.707107   12.0  1.000000 -2.449294e-16         0.0  \n",
       "8638 -0.500000   12.0  1.000000 -2.449294e-16         0.0  \n",
       "8639 -0.258819   12.0  1.000000 -2.449294e-16         0.0  \n",
       "\n",
       "[8640 rows x 38 columns]"
      ]
     },
     "execution_count": 41,
     "metadata": {},
     "output_type": "execute_result"
    }
   ],
   "source": [
    "df_col"
   ]
  },
  {
   "cell_type": "code",
   "execution_count": 42,
   "id": "e60c4a29-6c00-41c5-ad78-71a0560bb547",
   "metadata": {},
   "outputs": [
    {
     "data": {
      "text/plain": [
       "<AxesSubplot:>"
      ]
     },
     "execution_count": 42,
     "metadata": {},
     "output_type": "execute_result"
    },
    {
     "data": {
      "image/png": "[encoded data removed]",
      "text/plain": [
       "<Figure size 792x648 with 2 Axes>"
      ]
     },
     "metadata": {
      "needs_background": "light"
     },
     "output_type": "display_data"
    }
   ],
   "source": [
    "# Feature's don't look too correlated with one another.\n",
    "corr = df_col[use_cols_numerical].corr()\n",
    "mask = mask = np.triu(np.ones_like(corr, dtype=bool))\n",
    "f, ax = plt.subplots(figsize=(11, 9))\n",
    "cmap = sns.diverging_palette(230, 20, as_cmap=True)\n",
    "sns.heatmap(corr, mask=mask, cmap=cmap, vmax=1.0, vmin=-1.0, center=0,\n",
    "            square=True, linewidths=.5, cbar_kws={\"shrink\": .5}, annot=True)"
   ]
  },
  {
   "cell_type": "code",
   "execution_count": 43,
   "id": "4ae034b2-5ddc-4f9d-a9f6-c42c046c414e",
   "metadata": {},
   "outputs": [
    {
     "data": {
      "text/html": [
       "<div>\n",
       "<style scoped>\n",
       "    .dataframe tbody tr th:only-of-type {\n",
       "        vertical-align: middle;\n",
       "    }\n",
       "\n",
       "    .dataframe tbody tr th {\n",
       "        vertical-align: top;\n",
       "    }\n",
       "\n",
       "    .dataframe thead th {\n",
       "        text-align: right;\n",
       "    }\n",
       "</style>\n",
       "<table border=\"1\" class=\"dataframe\">\n",
       "  <thead>\n",
       "    <tr style=\"text-align: right;\">\n",
       "      <th></th>\n",
       "      <th>percent_missing</th>\n",
       "    </tr>\n",
       "  </thead>\n",
       "  <tbody>\n",
       "    <tr>\n",
       "      <th>temp</th>\n",
       "      <td>0.011574</td>\n",
       "    </tr>\n",
       "    <tr>\n",
       "      <th>humidity</th>\n",
       "      <td>0.011574</td>\n",
       "    </tr>\n",
       "    <tr>\n",
       "      <th>windspeed</th>\n",
       "      <td>0.011574</td>\n",
       "    </tr>\n",
       "    <tr>\n",
       "      <th>month_x</th>\n",
       "      <td>0.011574</td>\n",
       "    </tr>\n",
       "    <tr>\n",
       "      <th>month_y</th>\n",
       "      <td>0.011574</td>\n",
       "    </tr>\n",
       "    <tr>\n",
       "      <th>sealevelpressure</th>\n",
       "      <td>0.011574</td>\n",
       "    </tr>\n",
       "    <tr>\n",
       "      <th>hour_x</th>\n",
       "      <td>0.011574</td>\n",
       "    </tr>\n",
       "    <tr>\n",
       "      <th>hour_y</th>\n",
       "      <td>0.011574</td>\n",
       "    </tr>\n",
       "    <tr>\n",
       "      <th>type of day</th>\n",
       "      <td>0.000000</td>\n",
       "    </tr>\n",
       "    <tr>\n",
       "      <th>sample measurement</th>\n",
       "      <td>0.000000</td>\n",
       "    </tr>\n",
       "  </tbody>\n",
       "</table>\n",
       "</div>"
      ],
      "text/plain": [
       "                    percent_missing\n",
       "temp                       0.011574\n",
       "humidity                   0.011574\n",
       "windspeed                  0.011574\n",
       "month_x                    0.011574\n",
       "month_y                    0.011574\n",
       "sealevelpressure           0.011574\n",
       "hour_x                     0.011574\n",
       "hour_y                     0.011574\n",
       "type of day                0.000000\n",
       "sample measurement         0.000000"
      ]
     },
     "execution_count": 43,
     "metadata": {},
     "output_type": "execute_result"
    }
   ],
   "source": [
    "# Only 1% data missing. Could try to forward fill this data, but I'll just remove it.\n",
    "calculate_percent_missing(df_col_useful)"
   ]
  },
  {
   "cell_type": "code",
   "execution_count": 44,
   "id": "5efb2cf5-ec7b-4d49-b276-542813c8952c",
   "metadata": {},
   "outputs": [],
   "source": [
    "df_col_useful = df_col_useful.dropna()"
   ]
  },
  {
   "cell_type": "markdown",
   "id": "c816888f-b248-42db-bf0c-4ccb0f5eaed8",
   "metadata": {},
   "source": [
    "# 2. Linear Regression"
   ]
  },
  {
   "cell_type": "code",
   "execution_count": 45,
   "id": "862c13ee-9777-4fe5-abc5-0feb314e6d05",
   "metadata": {},
   "outputs": [],
   "source": [
    "df_use_num = df_col_useful[use_cols_numerical]\n",
    "df_use_cat = df_col_useful[use_cols_cat]\n",
    "y = df_col_useful[target]"
   ]
  },
  {
   "cell_type": "code",
   "execution_count": 46,
   "id": "14a8118d-0eee-40cc-bf65-0d04436cabea",
   "metadata": {},
   "outputs": [],
   "source": [
    "from sklearn.preprocessing import StandardScaler, MinMaxScaler, RobustScaler #scaling the parameters\n",
    "ss = StandardScaler()\n",
    "rs = RobustScaler()\n",
    "df_scaled = pd.DataFrame(ss.fit_transform(df_use_num), index=df_use_num.index, columns=use_cols_numerical)\n",
    "#pd.pivot_table(df_scaled, index=['diabetes'],  values = df_scaled.columns, aggfunc = np.mean)"
   ]
  },
  {
   "cell_type": "code",
   "execution_count": 47,
   "id": "a1548f57-79fa-4337-b0f8-df33f7f65255",
   "metadata": {},
   "outputs": [
    {
     "data": {
      "text/html": [
       "<div>\n",
       "<style scoped>\n",
       "    .dataframe tbody tr th:only-of-type {\n",
       "        vertical-align: middle;\n",
       "    }\n",
       "\n",
       "    .dataframe tbody tr th {\n",
       "        vertical-align: top;\n",
       "    }\n",
       "\n",
       "    .dataframe thead th {\n",
       "        text-align: right;\n",
       "    }\n",
       "</style>\n",
       "<table border=\"1\" class=\"dataframe\">\n",
       "  <thead>\n",
       "    <tr style=\"text-align: right;\">\n",
       "      <th></th>\n",
       "      <th>type of day_weekend</th>\n",
       "    </tr>\n",
       "  </thead>\n",
       "  <tbody>\n",
       "    <tr>\n",
       "      <th>0</th>\n",
       "      <td>0</td>\n",
       "    </tr>\n",
       "    <tr>\n",
       "      <th>1</th>\n",
       "      <td>0</td>\n",
       "    </tr>\n",
       "    <tr>\n",
       "      <th>2</th>\n",
       "      <td>0</td>\n",
       "    </tr>\n",
       "    <tr>\n",
       "      <th>3</th>\n",
       "      <td>0</td>\n",
       "    </tr>\n",
       "    <tr>\n",
       "      <th>4</th>\n",
       "      <td>0</td>\n",
       "    </tr>\n",
       "    <tr>\n",
       "      <th>...</th>\n",
       "      <td>...</td>\n",
       "    </tr>\n",
       "    <tr>\n",
       "      <th>8635</th>\n",
       "      <td>0</td>\n",
       "    </tr>\n",
       "    <tr>\n",
       "      <th>8636</th>\n",
       "      <td>0</td>\n",
       "    </tr>\n",
       "    <tr>\n",
       "      <th>8637</th>\n",
       "      <td>0</td>\n",
       "    </tr>\n",
       "    <tr>\n",
       "      <th>8638</th>\n",
       "      <td>0</td>\n",
       "    </tr>\n",
       "    <tr>\n",
       "      <th>8639</th>\n",
       "      <td>0</td>\n",
       "    </tr>\n",
       "  </tbody>\n",
       "</table>\n",
       "<p>8639 rows × 1 columns</p>\n",
       "</div>"
      ],
      "text/plain": [
       "      type of day_weekend\n",
       "0                       0\n",
       "1                       0\n",
       "2                       0\n",
       "3                       0\n",
       "4                       0\n",
       "...                   ...\n",
       "8635                    0\n",
       "8636                    0\n",
       "8637                    0\n",
       "8638                    0\n",
       "8639                    0\n",
       "\n",
       "[8639 rows x 1 columns]"
      ]
     },
     "execution_count": 47,
     "metadata": {},
     "output_type": "execute_result"
    }
   ],
   "source": [
    "df_cat_encoded = pd.get_dummies(df_use_cat, drop_first = True)\n",
    "df_cat_encoded"
   ]
  },
  {
   "cell_type": "code",
   "execution_count": 48,
   "id": "e624b44a-b01b-44c1-a41b-cfca7caa973f",
   "metadata": {},
   "outputs": [],
   "source": [
    "from sklearn.model_selection import train_test_split\n",
    "X = pd.concat([df_scaled, df_cat_encoded], axis=1)\n",
    "X_train, X_test, y_train, y_test = train_test_split(X, y, test_size=TEST_FRACTION, random_state = RAND_STATE)"
   ]
  },
  {
   "cell_type": "code",
   "execution_count": 49,
   "id": "0868fb6d-27cc-4c1c-bf07-885b8f8eadad",
   "metadata": {},
   "outputs": [
    {
     "data": {
      "text/plain": [
       "0.6282839029419833"
      ]
     },
     "execution_count": 49,
     "metadata": {},
     "output_type": "execute_result"
    }
   ],
   "source": [
    "from sklearn.linear_model import LinearRegression\n",
    "reg = LinearRegression().fit(X_train, y_train)\n",
    "y_pred = reg.predict(X_test)\n",
    "reg.score(X_test, y_test)"
   ]
  },
  {
   "cell_type": "code",
   "execution_count": 50,
   "id": "24385f2f-9c82-4e67-9eb4-45059a077eda",
   "metadata": {},
   "outputs": [
    {
     "name": "stdout",
     "output_type": "stream",
     "text": [
      "0.008415888001073945 0.01044373477264728\n"
     ]
    }
   ],
   "source": [
    "print(get_mae(reg, X_test, y_test), get_rmse(reg, X_test, y_test))"
   ]
  },
  {
   "cell_type": "markdown",
   "id": "5f64a2b8-00bb-4d3e-b816-3c1c52037e34",
   "metadata": {},
   "source": [
    "# 3. Regular Polynomial Regression"
   ]
  },
  {
   "cell_type": "code",
   "execution_count": 51,
   "id": "d0fc3e07-7171-404a-ba71-e6170eac3e48",
   "metadata": {},
   "outputs": [],
   "source": [
    "use_cols_numerical=['temp', 'humidity', 'windspeed', 'month_x', 'month_y', 'sealevelpressure', 'hour_x', 'hour_y']\n",
    "use_cols_cat = ['type of day']\n",
    "target='sample measurement'\n",
    "df_col_useful = df_col[use_cols_numerical + use_cols_cat + [target]]\n",
    "df_col_useful.dropna(inplace=True)"
   ]
  },
  {
   "cell_type": "code",
   "execution_count": 77,
   "id": "c784ae52-0e53-4966-b014-9d14cf5c4a6a",
   "metadata": {},
   "outputs": [
    {
     "data": {
      "text/html": [
       "<div>\n",
       "<style scoped>\n",
       "    .dataframe tbody tr th:only-of-type {\n",
       "        vertical-align: middle;\n",
       "    }\n",
       "\n",
       "    .dataframe tbody tr th {\n",
       "        vertical-align: top;\n",
       "    }\n",
       "\n",
       "    .dataframe thead th {\n",
       "        text-align: right;\n",
       "    }\n",
       "</style>\n",
       "<table border=\"1\" class=\"dataframe\">\n",
       "  <thead>\n",
       "    <tr style=\"text-align: right;\">\n",
       "      <th></th>\n",
       "      <th>temp</th>\n",
       "      <th>humidity</th>\n",
       "      <th>windspeed</th>\n",
       "      <th>month_x</th>\n",
       "      <th>month_y</th>\n",
       "      <th>sealevelpressure</th>\n",
       "      <th>hour_x</th>\n",
       "      <th>hour_y</th>\n",
       "      <th>type of day</th>\n",
       "      <th>sample measurement</th>\n",
       "    </tr>\n",
       "  </thead>\n",
       "  <tbody>\n",
       "    <tr>\n",
       "      <th>0</th>\n",
       "      <td>0.9</td>\n",
       "      <td>88.81</td>\n",
       "      <td>5.2</td>\n",
       "      <td>0.866025</td>\n",
       "      <td>5.000000e-01</td>\n",
       "      <td>1030.8</td>\n",
       "      <td>1.000000</td>\n",
       "      <td>0.000000</td>\n",
       "      <td>weekday</td>\n",
       "      <td>0.013</td>\n",
       "    </tr>\n",
       "    <tr>\n",
       "      <th>1</th>\n",
       "      <td>0.1</td>\n",
       "      <td>86.21</td>\n",
       "      <td>4.9</td>\n",
       "      <td>0.866025</td>\n",
       "      <td>5.000000e-01</td>\n",
       "      <td>1030.9</td>\n",
       "      <td>0.965926</td>\n",
       "      <td>0.258819</td>\n",
       "      <td>weekday</td>\n",
       "      <td>0.016</td>\n",
       "    </tr>\n",
       "    <tr>\n",
       "      <th>2</th>\n",
       "      <td>0.2</td>\n",
       "      <td>86.25</td>\n",
       "      <td>5.4</td>\n",
       "      <td>0.866025</td>\n",
       "      <td>5.000000e-01</td>\n",
       "      <td>1031.2</td>\n",
       "      <td>0.866025</td>\n",
       "      <td>0.500000</td>\n",
       "      <td>weekday</td>\n",
       "      <td>0.016</td>\n",
       "    </tr>\n",
       "    <tr>\n",
       "      <th>3</th>\n",
       "      <td>0.5</td>\n",
       "      <td>85.95</td>\n",
       "      <td>7.1</td>\n",
       "      <td>0.866025</td>\n",
       "      <td>5.000000e-01</td>\n",
       "      <td>1030.5</td>\n",
       "      <td>0.707107</td>\n",
       "      <td>0.707107</td>\n",
       "      <td>weekday</td>\n",
       "      <td>0.021</td>\n",
       "    </tr>\n",
       "    <tr>\n",
       "      <th>4</th>\n",
       "      <td>0.4</td>\n",
       "      <td>85.06</td>\n",
       "      <td>7.6</td>\n",
       "      <td>0.866025</td>\n",
       "      <td>5.000000e-01</td>\n",
       "      <td>1029.6</td>\n",
       "      <td>0.500000</td>\n",
       "      <td>0.866025</td>\n",
       "      <td>weekday</td>\n",
       "      <td>0.023</td>\n",
       "    </tr>\n",
       "    <tr>\n",
       "      <th>...</th>\n",
       "      <td>...</td>\n",
       "      <td>...</td>\n",
       "      <td>...</td>\n",
       "      <td>...</td>\n",
       "      <td>...</td>\n",
       "      <td>...</td>\n",
       "      <td>...</td>\n",
       "      <td>...</td>\n",
       "      <td>...</td>\n",
       "      <td>...</td>\n",
       "    </tr>\n",
       "    <tr>\n",
       "      <th>8635</th>\n",
       "      <td>31.1</td>\n",
       "      <td>37.63</td>\n",
       "      <td>8.7</td>\n",
       "      <td>1.000000</td>\n",
       "      <td>-2.449294e-16</td>\n",
       "      <td>1012.8</td>\n",
       "      <td>0.258819</td>\n",
       "      <td>-0.965926</td>\n",
       "      <td>weekday</td>\n",
       "      <td>0.002</td>\n",
       "    </tr>\n",
       "    <tr>\n",
       "      <th>8636</th>\n",
       "      <td>30.3</td>\n",
       "      <td>37.17</td>\n",
       "      <td>5.8</td>\n",
       "      <td>1.000000</td>\n",
       "      <td>-2.449294e-16</td>\n",
       "      <td>1012.5</td>\n",
       "      <td>0.500000</td>\n",
       "      <td>-0.866025</td>\n",
       "      <td>weekday</td>\n",
       "      <td>0.003</td>\n",
       "    </tr>\n",
       "    <tr>\n",
       "      <th>8637</th>\n",
       "      <td>31.8</td>\n",
       "      <td>32.11</td>\n",
       "      <td>9.3</td>\n",
       "      <td>1.000000</td>\n",
       "      <td>-2.449294e-16</td>\n",
       "      <td>1011.1</td>\n",
       "      <td>0.707107</td>\n",
       "      <td>-0.707107</td>\n",
       "      <td>weekday</td>\n",
       "      <td>0.011</td>\n",
       "    </tr>\n",
       "    <tr>\n",
       "      <th>8638</th>\n",
       "      <td>31.5</td>\n",
       "      <td>34.29</td>\n",
       "      <td>9.8</td>\n",
       "      <td>1.000000</td>\n",
       "      <td>-2.449294e-16</td>\n",
       "      <td>1009.9</td>\n",
       "      <td>0.866025</td>\n",
       "      <td>-0.500000</td>\n",
       "      <td>weekday</td>\n",
       "      <td>0.022</td>\n",
       "    </tr>\n",
       "    <tr>\n",
       "      <th>8639</th>\n",
       "      <td>30.4</td>\n",
       "      <td>36.92</td>\n",
       "      <td>8.9</td>\n",
       "      <td>1.000000</td>\n",
       "      <td>-2.449294e-16</td>\n",
       "      <td>1008.7</td>\n",
       "      <td>0.965926</td>\n",
       "      <td>-0.258819</td>\n",
       "      <td>weekday</td>\n",
       "      <td>0.025</td>\n",
       "    </tr>\n",
       "  </tbody>\n",
       "</table>\n",
       "<p>8639 rows × 10 columns</p>\n",
       "</div>"
      ],
      "text/plain": [
       "      temp  humidity  windspeed   month_x       month_y  sealevelpressure  \\\n",
       "0      0.9     88.81        5.2  0.866025  5.000000e-01            1030.8   \n",
       "1      0.1     86.21        4.9  0.866025  5.000000e-01            1030.9   \n",
       "2      0.2     86.25        5.4  0.866025  5.000000e-01            1031.2   \n",
       "3      0.5     85.95        7.1  0.866025  5.000000e-01            1030.5   \n",
       "4      0.4     85.06        7.6  0.866025  5.000000e-01            1029.6   \n",
       "...    ...       ...        ...       ...           ...               ...   \n",
       "8635  31.1     37.63        8.7  1.000000 -2.449294e-16            1012.8   \n",
       "8636  30.3     37.17        5.8  1.000000 -2.449294e-16            1012.5   \n",
       "8637  31.8     32.11        9.3  1.000000 -2.449294e-16            1011.1   \n",
       "8638  31.5     34.29        9.8  1.000000 -2.449294e-16            1009.9   \n",
       "8639  30.4     36.92        8.9  1.000000 -2.449294e-16            1008.7   \n",
       "\n",
       "        hour_x    hour_y type of day  sample measurement  \n",
       "0     1.000000  0.000000     weekday               0.013  \n",
       "1     0.965926  0.258819     weekday               0.016  \n",
       "2     0.866025  0.500000     weekday               0.016  \n",
       "3     0.707107  0.707107     weekday               0.021  \n",
       "4     0.500000  0.866025     weekday               0.023  \n",
       "...        ...       ...         ...                 ...  \n",
       "8635  0.258819 -0.965926     weekday               0.002  \n",
       "8636  0.500000 -0.866025     weekday               0.003  \n",
       "8637  0.707107 -0.707107     weekday               0.011  \n",
       "8638  0.866025 -0.500000     weekday               0.022  \n",
       "8639  0.965926 -0.258819     weekday               0.025  \n",
       "\n",
       "[8639 rows x 10 columns]"
      ]
     },
     "execution_count": 77,
     "metadata": {},
     "output_type": "execute_result"
    }
   ],
   "source": [
    "df_col_useful"
   ]
  },
  {
   "cell_type": "code",
   "execution_count": 71,
   "id": "5726a75b-eeaf-4e36-99a8-e336a41428de",
   "metadata": {},
   "outputs": [
    {
     "data": {
      "text/plain": [
       "1038.2"
      ]
     },
     "execution_count": 71,
     "metadata": {},
     "output_type": "execute_result"
    }
   ],
   "source": [
    "df_col_useful[\"sealevelpressure\"].max()"
   ]
  },
  {
   "cell_type": "code",
   "execution_count": 52,
   "id": "49d0f7ca-f816-420d-a049-0d3901483ad5",
   "metadata": {},
   "outputs": [],
   "source": [
    "N_DEG = 5\n",
    "df_scaled_p, df_cat_p, y = get_poly_scaled(df_col_useful, use_cols_numerical, use_cols_cat, target, N_DEG)"
   ]
  },
  {
   "cell_type": "code",
   "execution_count": 53,
   "id": "dbe314eb-6b37-4d5d-b8c6-f7d3b0c582fa",
   "metadata": {},
   "outputs": [
    {
     "data": {
      "text/html": [
       "<div>\n",
       "<style scoped>\n",
       "    .dataframe tbody tr th:only-of-type {\n",
       "        vertical-align: middle;\n",
       "    }\n",
       "\n",
       "    .dataframe tbody tr th {\n",
       "        vertical-align: top;\n",
       "    }\n",
       "\n",
       "    .dataframe thead th {\n",
       "        text-align: right;\n",
       "    }\n",
       "</style>\n",
       "<table border=\"1\" class=\"dataframe\">\n",
       "  <thead>\n",
       "    <tr style=\"text-align: right;\">\n",
       "      <th></th>\n",
       "      <th>type of day_weekend</th>\n",
       "    </tr>\n",
       "  </thead>\n",
       "  <tbody>\n",
       "    <tr>\n",
       "      <th>0</th>\n",
       "      <td>0</td>\n",
       "    </tr>\n",
       "    <tr>\n",
       "      <th>1</th>\n",
       "      <td>0</td>\n",
       "    </tr>\n",
       "    <tr>\n",
       "      <th>2</th>\n",
       "      <td>0</td>\n",
       "    </tr>\n",
       "    <tr>\n",
       "      <th>3</th>\n",
       "      <td>0</td>\n",
       "    </tr>\n",
       "    <tr>\n",
       "      <th>4</th>\n",
       "      <td>0</td>\n",
       "    </tr>\n",
       "    <tr>\n",
       "      <th>...</th>\n",
       "      <td>...</td>\n",
       "    </tr>\n",
       "    <tr>\n",
       "      <th>8634</th>\n",
       "      <td>0</td>\n",
       "    </tr>\n",
       "    <tr>\n",
       "      <th>8635</th>\n",
       "      <td>0</td>\n",
       "    </tr>\n",
       "    <tr>\n",
       "      <th>8636</th>\n",
       "      <td>0</td>\n",
       "    </tr>\n",
       "    <tr>\n",
       "      <th>8637</th>\n",
       "      <td>0</td>\n",
       "    </tr>\n",
       "    <tr>\n",
       "      <th>8638</th>\n",
       "      <td>0</td>\n",
       "    </tr>\n",
       "  </tbody>\n",
       "</table>\n",
       "<p>8639 rows × 1 columns</p>\n",
       "</div>"
      ],
      "text/plain": [
       "      type of day_weekend\n",
       "0                       0\n",
       "1                       0\n",
       "2                       0\n",
       "3                       0\n",
       "4                       0\n",
       "...                   ...\n",
       "8634                    0\n",
       "8635                    0\n",
       "8636                    0\n",
       "8637                    0\n",
       "8638                    0\n",
       "\n",
       "[8639 rows x 1 columns]"
      ]
     },
     "execution_count": 53,
     "metadata": {},
     "output_type": "execute_result"
    }
   ],
   "source": [
    "df_cat_encoded = pd.get_dummies(df_cat_p, drop_first = True)\n",
    "df_cat_encoded "
   ]
  },
  {
   "cell_type": "code",
   "execution_count": 78,
   "id": "2e4e66ba-89ff-4e49-a570-1c3c5607928f",
   "metadata": {},
   "outputs": [
    {
     "data": {
      "text/html": [
       "<div>\n",
       "<style scoped>\n",
       "    .dataframe tbody tr th:only-of-type {\n",
       "        vertical-align: middle;\n",
       "    }\n",
       "\n",
       "    .dataframe tbody tr th {\n",
       "        vertical-align: top;\n",
       "    }\n",
       "\n",
       "    .dataframe thead th {\n",
       "        text-align: right;\n",
       "    }\n",
       "</style>\n",
       "<table border=\"1\" class=\"dataframe\">\n",
       "  <thead>\n",
       "    <tr style=\"text-align: right;\">\n",
       "      <th></th>\n",
       "      <th>1</th>\n",
       "      <th>temp</th>\n",
       "      <th>humidity</th>\n",
       "      <th>windspeed</th>\n",
       "      <th>month_x</th>\n",
       "      <th>month_y</th>\n",
       "      <th>sealevelpressure</th>\n",
       "      <th>hour_x</th>\n",
       "      <th>hour_y</th>\n",
       "      <th>temp^2</th>\n",
       "      <th>...</th>\n",
       "      <th>sealevelpressure hour_x^2 hour_y^2</th>\n",
       "      <th>sealevelpressure hour_x hour_y^3</th>\n",
       "      <th>sealevelpressure hour_y^4</th>\n",
       "      <th>hour_x^5</th>\n",
       "      <th>hour_x^4 hour_y</th>\n",
       "      <th>hour_x^3 hour_y^2</th>\n",
       "      <th>hour_x^2 hour_y^3</th>\n",
       "      <th>hour_x hour_y^4</th>\n",
       "      <th>hour_y^5</th>\n",
       "      <th>type of day_weekend</th>\n",
       "    </tr>\n",
       "  </thead>\n",
       "  <tbody>\n",
       "    <tr>\n",
       "      <th>0</th>\n",
       "      <td>0.0</td>\n",
       "      <td>-2.360999</td>\n",
       "      <td>1.407423</td>\n",
       "      <td>-0.777965</td>\n",
       "      <td>1.229797</td>\n",
       "      <td>0.713593</td>\n",
       "      <td>2.315534</td>\n",
       "      <td>1.412402</td>\n",
       "      <td>0.001342</td>\n",
       "      <td>-1.357442</td>\n",
       "      <td>...</td>\n",
       "      <td>-1.413447</td>\n",
       "      <td>-0.000422</td>\n",
       "      <td>-1.029988</td>\n",
       "      <td>2.014649</td>\n",
       "      <td>0.001313</td>\n",
       "      <td>-0.001909</td>\n",
       "      <td>0.001446</td>\n",
       "      <td>-0.001174</td>\n",
       "      <td>0.000845</td>\n",
       "      <td>0</td>\n",
       "    </tr>\n",
       "    <tr>\n",
       "      <th>1</th>\n",
       "      <td>0.0</td>\n",
       "      <td>-2.399770</td>\n",
       "      <td>1.301506</td>\n",
       "      <td>-0.847856</td>\n",
       "      <td>1.229797</td>\n",
       "      <td>0.713593</td>\n",
       "      <td>2.329312</td>\n",
       "      <td>1.364191</td>\n",
       "      <td>0.367197</td>\n",
       "      <td>-1.357818</td>\n",
       "      <td>...</td>\n",
       "      <td>-0.694692</td>\n",
       "      <td>0.085694</td>\n",
       "      <td>-1.017475</td>\n",
       "      <td>1.693652</td>\n",
       "      <td>1.364805</td>\n",
       "      <td>0.556012</td>\n",
       "      <td>0.150868</td>\n",
       "      <td>0.025028</td>\n",
       "      <td>0.003184</td>\n",
       "      <td>0</td>\n",
       "    </tr>\n",
       "    <tr>\n",
       "      <th>2</th>\n",
       "      <td>0.0</td>\n",
       "      <td>-2.394924</td>\n",
       "      <td>1.303135</td>\n",
       "      <td>-0.731370</td>\n",
       "      <td>1.229797</td>\n",
       "      <td>0.713593</td>\n",
       "      <td>2.370647</td>\n",
       "      <td>1.222844</td>\n",
       "      <td>0.708118</td>\n",
       "      <td>-1.357804</td>\n",
       "      <td>...</td>\n",
       "      <td>0.743445</td>\n",
       "      <td>0.556403</td>\n",
       "      <td>-0.855653</td>\n",
       "      <td>0.980230</td>\n",
       "      <td>1.703369</td>\n",
       "      <td>1.498747</td>\n",
       "      <td>0.867430</td>\n",
       "      <td>0.326018</td>\n",
       "      <td>0.063781</td>\n",
       "      <td>0</td>\n",
       "    </tr>\n",
       "    <tr>\n",
       "      <th>3</th>\n",
       "      <td>0.0</td>\n",
       "      <td>-2.380385</td>\n",
       "      <td>1.290914</td>\n",
       "      <td>-0.335318</td>\n",
       "      <td>1.229797</td>\n",
       "      <td>0.713593</td>\n",
       "      <td>2.274199</td>\n",
       "      <td>0.997993</td>\n",
       "      <td>1.000875</td>\n",
       "      <td>-1.357706</td>\n",
       "      <td>...</td>\n",
       "      <td>1.460456</td>\n",
       "      <td>1.284637</td>\n",
       "      <td>-0.333119</td>\n",
       "      <td>0.354242</td>\n",
       "      <td>1.071122</td>\n",
       "      <td>1.631798</td>\n",
       "      <td>1.634361</td>\n",
       "      <td>1.067428</td>\n",
       "      <td>0.356867</td>\n",
       "      <td>0</td>\n",
       "    </tr>\n",
       "    <tr>\n",
       "      <th>4</th>\n",
       "      <td>0.0</td>\n",
       "      <td>-2.385231</td>\n",
       "      <td>1.254658</td>\n",
       "      <td>-0.218833</td>\n",
       "      <td>1.229797</td>\n",
       "      <td>0.713593</td>\n",
       "      <td>2.150195</td>\n",
       "      <td>0.704961</td>\n",
       "      <td>1.225515</td>\n",
       "      <td>-1.357748</td>\n",
       "      <td>...</td>\n",
       "      <td>0.740098</td>\n",
       "      <td>1.667461</td>\n",
       "      <td>0.536599</td>\n",
       "      <td>0.060720</td>\n",
       "      <td>0.328874</td>\n",
       "      <td>0.864495</td>\n",
       "      <td>1.501374</td>\n",
       "      <td>1.698962</td>\n",
       "      <td>0.981927</td>\n",
       "      <td>0</td>\n",
       "    </tr>\n",
       "    <tr>\n",
       "      <th>...</th>\n",
       "      <td>...</td>\n",
       "      <td>...</td>\n",
       "      <td>...</td>\n",
       "      <td>...</td>\n",
       "      <td>...</td>\n",
       "      <td>...</td>\n",
       "      <td>...</td>\n",
       "      <td>...</td>\n",
       "      <td>...</td>\n",
       "      <td>...</td>\n",
       "      <td>...</td>\n",
       "      <td>...</td>\n",
       "      <td>...</td>\n",
       "      <td>...</td>\n",
       "      <td>...</td>\n",
       "      <td>...</td>\n",
       "      <td>...</td>\n",
       "      <td>...</td>\n",
       "      <td>...</td>\n",
       "      <td>...</td>\n",
       "      <td>...</td>\n",
       "    </tr>\n",
       "    <tr>\n",
       "      <th>8634</th>\n",
       "      <td>0.0</td>\n",
       "      <td>-0.897407</td>\n",
       "      <td>-0.677520</td>\n",
       "      <td>0.037436</td>\n",
       "      <td>1.418630</td>\n",
       "      <td>0.004053</td>\n",
       "      <td>-0.164558</td>\n",
       "      <td>0.363719</td>\n",
       "      <td>-1.364045</td>\n",
       "      <td>-0.903023</td>\n",
       "      <td>...</td>\n",
       "      <td>-0.707312</td>\n",
       "      <td>-1.178804</td>\n",
       "      <td>1.354869</td>\n",
       "      <td>0.000033</td>\n",
       "      <td>-0.024917</td>\n",
       "      <td>0.147585</td>\n",
       "      <td>-0.556204</td>\n",
       "      <td>1.360780</td>\n",
       "      <td>-1.692602</td>\n",
       "      <td>0</td>\n",
       "    </tr>\n",
       "    <tr>\n",
       "      <th>8635</th>\n",
       "      <td>0.0</td>\n",
       "      <td>-0.936178</td>\n",
       "      <td>-0.696259</td>\n",
       "      <td>-0.638182</td>\n",
       "      <td>1.418630</td>\n",
       "      <td>0.004053</td>\n",
       "      <td>-0.205893</td>\n",
       "      <td>0.704961</td>\n",
       "      <td>-1.222830</td>\n",
       "      <td>-0.926120</td>\n",
       "      <td>...</td>\n",
       "      <td>0.704331</td>\n",
       "      <td>-1.640603</td>\n",
       "      <td>0.510581</td>\n",
       "      <td>0.060720</td>\n",
       "      <td>-0.326247</td>\n",
       "      <td>0.864495</td>\n",
       "      <td>-1.498482</td>\n",
       "      <td>1.698962</td>\n",
       "      <td>-0.980238</td>\n",
       "      <td>0</td>\n",
       "    </tr>\n",
       "    <tr>\n",
       "      <th>8636</th>\n",
       "      <td>0.0</td>\n",
       "      <td>-0.863483</td>\n",
       "      <td>-0.902390</td>\n",
       "      <td>0.177219</td>\n",
       "      <td>1.418630</td>\n",
       "      <td>0.004053</td>\n",
       "      <td>-0.398789</td>\n",
       "      <td>0.997993</td>\n",
       "      <td>-0.998190</td>\n",
       "      <td>-0.882319</td>\n",
       "      <td>...</td>\n",
       "      <td>1.406353</td>\n",
       "      <td>-1.261288</td>\n",
       "      <td>-0.346238</td>\n",
       "      <td>0.354242</td>\n",
       "      <td>-1.068496</td>\n",
       "      <td>1.631798</td>\n",
       "      <td>-1.631468</td>\n",
       "      <td>1.067428</td>\n",
       "      <td>-0.355178</td>\n",
       "      <td>0</td>\n",
       "    </tr>\n",
       "    <tr>\n",
       "      <th>8637</th>\n",
       "      <td>0.0</td>\n",
       "      <td>-0.878022</td>\n",
       "      <td>-0.813583</td>\n",
       "      <td>0.293705</td>\n",
       "      <td>1.418630</td>\n",
       "      <td>0.004053</td>\n",
       "      <td>-0.564128</td>\n",
       "      <td>1.222844</td>\n",
       "      <td>-0.705434</td>\n",
       "      <td>-0.891248</td>\n",
       "      <td>...</td>\n",
       "      <td>0.698893</td>\n",
       "      <td>-0.545745</td>\n",
       "      <td>-0.859254</td>\n",
       "      <td>0.980230</td>\n",
       "      <td>-1.700742</td>\n",
       "      <td>1.498747</td>\n",
       "      <td>-0.864537</td>\n",
       "      <td>0.326018</td>\n",
       "      <td>-0.062092</td>\n",
       "      <td>0</td>\n",
       "    </tr>\n",
       "    <tr>\n",
       "      <th>8638</th>\n",
       "      <td>0.0</td>\n",
       "      <td>-0.931332</td>\n",
       "      <td>-0.706443</td>\n",
       "      <td>0.084031</td>\n",
       "      <td>1.418630</td>\n",
       "      <td>0.004053</td>\n",
       "      <td>-0.729468</td>\n",
       "      <td>1.364191</td>\n",
       "      <td>-0.364512</td>\n",
       "      <td>-0.923266</td>\n",
       "      <td>...</td>\n",
       "      <td>-0.710170</td>\n",
       "      <td>-0.084683</td>\n",
       "      <td>-1.017745</td>\n",
       "      <td>1.693652</td>\n",
       "      <td>-1.362178</td>\n",
       "      <td>0.556012</td>\n",
       "      <td>-0.147976</td>\n",
       "      <td>0.025028</td>\n",
       "      <td>-0.001494</td>\n",
       "      <td>0</td>\n",
       "    </tr>\n",
       "  </tbody>\n",
       "</table>\n",
       "<p>8639 rows × 1288 columns</p>\n",
       "</div>"
      ],
      "text/plain": [
       "        1      temp  humidity  windspeed   month_x   month_y  \\\n",
       "0     0.0 -2.360999  1.407423  -0.777965  1.229797  0.713593   \n",
       "1     0.0 -2.399770  1.301506  -0.847856  1.229797  0.713593   \n",
       "2     0.0 -2.394924  1.303135  -0.731370  1.229797  0.713593   \n",
       "3     0.0 -2.380385  1.290914  -0.335318  1.229797  0.713593   \n",
       "4     0.0 -2.385231  1.254658  -0.218833  1.229797  0.713593   \n",
       "...   ...       ...       ...        ...       ...       ...   \n",
       "8634  0.0 -0.897407 -0.677520   0.037436  1.418630  0.004053   \n",
       "8635  0.0 -0.936178 -0.696259  -0.638182  1.418630  0.004053   \n",
       "8636  0.0 -0.863483 -0.902390   0.177219  1.418630  0.004053   \n",
       "8637  0.0 -0.878022 -0.813583   0.293705  1.418630  0.004053   \n",
       "8638  0.0 -0.931332 -0.706443   0.084031  1.418630  0.004053   \n",
       "\n",
       "      sealevelpressure    hour_x    hour_y    temp^2  ...  \\\n",
       "0             2.315534  1.412402  0.001342 -1.357442  ...   \n",
       "1             2.329312  1.364191  0.367197 -1.357818  ...   \n",
       "2             2.370647  1.222844  0.708118 -1.357804  ...   \n",
       "3             2.274199  0.997993  1.000875 -1.357706  ...   \n",
       "4             2.150195  0.704961  1.225515 -1.357748  ...   \n",
       "...                ...       ...       ...       ...  ...   \n",
       "8634         -0.164558  0.363719 -1.364045 -0.903023  ...   \n",
       "8635         -0.205893  0.704961 -1.222830 -0.926120  ...   \n",
       "8636         -0.398789  0.997993 -0.998190 -0.882319  ...   \n",
       "8637         -0.564128  1.222844 -0.705434 -0.891248  ...   \n",
       "8638         -0.729468  1.364191 -0.364512 -0.923266  ...   \n",
       "\n",
       "      sealevelpressure hour_x^2 hour_y^2  sealevelpressure hour_x hour_y^3  \\\n",
       "0                              -1.413447                         -0.000422   \n",
       "1                              -0.694692                          0.085694   \n",
       "2                               0.743445                          0.556403   \n",
       "3                               1.460456                          1.284637   \n",
       "4                               0.740098                          1.667461   \n",
       "...                                  ...                               ...   \n",
       "8634                           -0.707312                         -1.178804   \n",
       "8635                            0.704331                         -1.640603   \n",
       "8636                            1.406353                         -1.261288   \n",
       "8637                            0.698893                         -0.545745   \n",
       "8638                           -0.710170                         -0.084683   \n",
       "\n",
       "      sealevelpressure hour_y^4  hour_x^5  hour_x^4 hour_y  hour_x^3 hour_y^2  \\\n",
       "0                     -1.029988  2.014649         0.001313          -0.001909   \n",
       "1                     -1.017475  1.693652         1.364805           0.556012   \n",
       "2                     -0.855653  0.980230         1.703369           1.498747   \n",
       "3                     -0.333119  0.354242         1.071122           1.631798   \n",
       "4                      0.536599  0.060720         0.328874           0.864495   \n",
       "...                         ...       ...              ...                ...   \n",
       "8634                   1.354869  0.000033        -0.024917           0.147585   \n",
       "8635                   0.510581  0.060720        -0.326247           0.864495   \n",
       "8636                  -0.346238  0.354242        -1.068496           1.631798   \n",
       "8637                  -0.859254  0.980230        -1.700742           1.498747   \n",
       "8638                  -1.017745  1.693652        -1.362178           0.556012   \n",
       "\n",
       "      hour_x^2 hour_y^3  hour_x hour_y^4  hour_y^5  type of day_weekend  \n",
       "0              0.001446        -0.001174  0.000845                    0  \n",
       "1              0.150868         0.025028  0.003184                    0  \n",
       "2              0.867430         0.326018  0.063781                    0  \n",
       "3              1.634361         1.067428  0.356867                    0  \n",
       "4              1.501374         1.698962  0.981927                    0  \n",
       "...                 ...              ...       ...                  ...  \n",
       "8634          -0.556204         1.360780 -1.692602                    0  \n",
       "8635          -1.498482         1.698962 -0.980238                    0  \n",
       "8636          -1.631468         1.067428 -0.355178                    0  \n",
       "8637          -0.864537         0.326018 -0.062092                    0  \n",
       "8638          -0.147976         0.025028 -0.001494                    0  \n",
       "\n",
       "[8639 rows x 1288 columns]"
      ]
     },
     "execution_count": 78,
     "metadata": {},
     "output_type": "execute_result"
    }
   ],
   "source": [
    "from sklearn.model_selection import train_test_split\n",
    "X = pd.concat([df_scaled_p, df_cat_encoded], axis=1)\n",
    "X_train, X_test, y_train, y_test = train_test_split(X, y, test_size=TEST_FRACTION, random_state = RAND_STATE)\n",
    "X"
   ]
  },
  {
   "cell_type": "code",
   "execution_count": 55,
   "id": "5b491c4f-e948-4094-9a9c-67e178c49a87",
   "metadata": {},
   "outputs": [
    {
     "data": {
      "text/plain": [
       "0.8300950054551849"
      ]
     },
     "execution_count": 55,
     "metadata": {},
     "output_type": "execute_result"
    }
   ],
   "source": [
    "from sklearn.linear_model import LinearRegression\n",
    "reg = LinearRegression().fit(X_train, y_train)\n",
    "reg.score(X_train, y_train)"
   ]
  },
  {
   "cell_type": "code",
   "execution_count": 56,
   "id": "8df37918-8b9f-472c-9981-619f2123dd52",
   "metadata": {},
   "outputs": [
    {
     "data": {
      "text/plain": [
       "0.7562008538398861"
      ]
     },
     "execution_count": 56,
     "metadata": {},
     "output_type": "execute_result"
    }
   ],
   "source": [
    "reg.score(X_test, y_test)"
   ]
  },
  {
   "cell_type": "code",
   "execution_count": 57,
   "id": "2d8463f1-0f4b-45c0-a50a-64d1bd83cd2c",
   "metadata": {},
   "outputs": [
    {
     "name": "stdout",
     "output_type": "stream",
     "text": [
      "MAE: 0.0064 \n",
      "RMSE: 0.0085\n"
     ]
    }
   ],
   "source": [
    "#print(get_mae(reg, X_test, y_test), get_rmse(reg, X_test, y_test))\n",
    "print_errors(reg, X_test, y_test)"
   ]
  },
  {
   "cell_type": "code",
   "execution_count": 58,
   "id": "7fb9d2a7-b9a6-467d-a479-39b754bd47a4",
   "metadata": {},
   "outputs": [],
   "source": [
    "print_errors(reg, X_train, y_train)"
   ]
  },
  {
   "cell_type": "code",
   "execution_count": 58,
   "id": "6820660b-b2ff-40aa-aa66-53b738e13546",
   "metadata": {},
   "outputs": [
    {
     "name": "stdout",
     "output_type": "stream",
     "text": [
      "MAE: 0.0054 \n",
      "RMSE: 0.0069\n"
     ]
    }
   ],
   "source": []
  },
  {
   "cell_type": "markdown",
   "id": "a14e2550-1963-43b1-84cd-5842dda37edf",
   "metadata": {},
   "source": [
    "# 4. Ridge Polynomial Regression"
   ]
  },
  {
   "cell_type": "code",
   "execution_count": 59,
   "id": "6b4beb9d-96be-4038-9490-6e4918a77df4",
   "metadata": {},
   "outputs": [
    {
     "name": "stdout",
     "output_type": "stream",
     "text": [
      "Fitting 7 folds for each of 50 candidates, totalling 350 fits\n"
     ]
    },
    {
     "data": {
      "text/plain": [
       "GridSearchCV(cv=7, estimator=Ridge(), n_jobs=7,\n",
       "             param_grid={'alpha': array([0.05      , 0.05918367, 0.06836735, 0.07755102, 0.08673469,\n",
       "       0.09591837, 0.10510204, 0.11428571, 0.12346939, 0.13265306,\n",
       "       0.14183673, 0.15102041, 0.16020408, 0.16938776, 0.17857143,\n",
       "       0.1877551 , 0.19693878, 0.20612245, 0.21530612, 0.2244898 ,\n",
       "       0.23367347, 0.24285714, 0.25204082, 0.26122449, 0.27040816,\n",
       "       0.27959184, 0.28877551, 0.29795918, 0.30714286, 0.31632653,\n",
       "       0.3255102 , 0.33469388, 0.34387755, 0.35306122, 0.3622449 ,\n",
       "       0.37142857, 0.38061224, 0.38979592, 0.39897959, 0.40816327,\n",
       "       0.41734694, 0.42653061, 0.43571429, 0.44489796, 0.45408163,\n",
       "       0.46326531, 0.47244898, 0.48163265, 0.49081633, 0.5       ])},\n",
       "             scoring='neg_mean_absolute_error', verbose=2)"
      ]
     },
     "execution_count": 59,
     "metadata": {},
     "output_type": "execute_result"
    }
   ],
   "source": [
    "from sklearn import linear_model\n",
    "from sklearn.model_selection import GridSearchCV\n",
    "alpha = np.linspace(.05, .5, 50)\n",
    "ridge_params = {'alpha':alpha}\n",
    "reg_ridge = linear_model.Ridge()\n",
    "grid_ridge = GridSearchCV(reg_ridge, param_grid=ridge_params, scoring='neg_mean_absolute_error', cv=CV, n_jobs=N_JOBS, verbose=2)\n",
    "grid_ridge.fit(X_train, y_train)"
   ]
  },
  {
   "cell_type": "code",
   "execution_count": 60,
   "id": "85e2b530-8f35-4edd-9df5-07ae822b2ea8",
   "metadata": {},
   "outputs": [
    {
     "data": {
      "text/plain": [
       "0.0066566806427915655"
      ]
     },
     "execution_count": 60,
     "metadata": {},
     "output_type": "execute_result"
    }
   ],
   "source": [
    "-grid_ridge.score(X_test, y_test)"
   ]
  },
  {
   "cell_type": "code",
   "execution_count": 61,
   "id": "becc21a0-a5cb-40bf-9815-9143c57e6cb0",
   "metadata": {},
   "outputs": [
    {
     "name": "stdout",
     "output_type": "stream",
     "text": [
      "Best Params: {'alpha': 0.07755102040816328}, \n",
      " Best score: -0.01\n"
     ]
    }
   ],
   "source": [
    "print('Best Params: {}, \\n Best score: {:.2f}'.format(grid_ridge.best_params_, grid_ridge.best_score_))"
   ]
  },
  {
   "cell_type": "code",
   "execution_count": 62,
   "id": "8bb598dd-91ea-4b2a-8c5a-356cf45800b4",
   "metadata": {},
   "outputs": [
    {
     "name": "stdout",
     "output_type": "stream",
     "text": [
      "MAE: 0.0067 \n",
      "RMSE: 0.0085\n"
     ]
    }
   ],
   "source": [
    "print_errors(grid_ridge, X_test, y_test)"
   ]
  },
  {
   "cell_type": "code",
   "execution_count": 63,
   "id": "061b2d12-b00a-4952-a952-65d9ee82e3b2",
   "metadata": {},
   "outputs": [
    {
     "name": "stdout",
     "output_type": "stream",
     "text": [
      "MAE: 0.0060 \n",
      "RMSE: 0.0077\n"
     ]
    }
   ],
   "source": [
    "print_errors(grid_ridge, X_train, y_train)"
   ]
  },
  {
   "cell_type": "code",
   "execution_count": null,
   "id": "9f27f0e5-7b47-4cd0-9e2d-c3ff268f969b",
   "metadata": {},
   "outputs": [
    {
     "data": {
      "text/html": [
       "<div>\n",
       "<style scoped>\n",
       "    .dataframe tbody tr th:only-of-type {\n",
       "        vertical-align: middle;\n",
       "    }\n",
       "\n",
       "    .dataframe tbody tr th {\n",
       "        vertical-align: top;\n",
       "    }\n",
       "\n",
       "    .dataframe thead th {\n",
       "        text-align: right;\n",
       "    }\n",
       "</style>\n",
       "<table border=\"1\" class=\"dataframe\">\n",
       "  <thead>\n",
       "    <tr style=\"text-align: right;\">\n",
       "      <th></th>\n",
       "      <th>1</th>\n",
       "      <th>temp</th>\n",
       "      <th>humidity</th>\n",
       "      <th>windspeed</th>\n",
       "      <th>month_x</th>\n",
       "      <th>month_y</th>\n",
       "      <th>sealevelpressure</th>\n",
       "      <th>hour_x</th>\n",
       "      <th>hour_y</th>\n",
       "      <th>temp^2</th>\n",
       "      <th>...</th>\n",
       "      <th>sealevelpressure hour_x^2 hour_y^2</th>\n",
       "      <th>sealevelpressure hour_x hour_y^3</th>\n",
       "      <th>sealevelpressure hour_y^4</th>\n",
       "      <th>hour_x^5</th>\n",
       "      <th>hour_x^4 hour_y</th>\n",
       "      <th>hour_x^3 hour_y^2</th>\n",
       "      <th>hour_x^2 hour_y^3</th>\n",
       "      <th>hour_x hour_y^4</th>\n",
       "      <th>hour_y^5</th>\n",
       "      <th>type of day_weekend</th>\n",
       "    </tr>\n",
       "  </thead>\n",
       "  <tbody>\n",
       "    <tr>\n",
       "      <th>4627</th>\n",
       "      <td>0.0</td>\n",
       "      <td>1.835924</td>\n",
       "      <td>-1.174924</td>\n",
       "      <td>-0.521696</td>\n",
       "      <td>-1.211473</td>\n",
       "      <td>-0.705487</td>\n",
       "      <td>-0.274784</td>\n",
       "      <td>-1.369150</td>\n",
       "      <td>0.367197</td>\n",
       "      <td>2.242291</td>\n",
       "      <td>...</td>\n",
       "      <td>-0.707869</td>\n",
       "      <td>-0.084959</td>\n",
       "      <td>-1.017705</td>\n",
       "      <td>-1.698271</td>\n",
       "      <td>1.364805</td>\n",
       "      <td>-0.559830</td>\n",
       "      <td>0.150868</td>\n",
       "      <td>-0.027375</td>\n",
       "      <td>0.003184</td>\n",
       "      <td>0</td>\n",
       "    </tr>\n",
       "    <tr>\n",
       "      <th>1120</th>\n",
       "      <td>0.0</td>\n",
       "      <td>-1.643742</td>\n",
       "      <td>1.369130</td>\n",
       "      <td>-0.032455</td>\n",
       "      <td>0.713896</td>\n",
       "      <td>1.233012</td>\n",
       "      <td>1.227049</td>\n",
       "      <td>0.363719</td>\n",
       "      <td>-1.364045</td>\n",
       "      <td>-1.241919</td>\n",
       "      <td>...</td>\n",
       "      <td>-0.700270</td>\n",
       "      <td>-1.190555</td>\n",
       "      <td>1.378651</td>\n",
       "      <td>0.000033</td>\n",
       "      <td>-0.024917</td>\n",
       "      <td>0.147585</td>\n",
       "      <td>-0.556204</td>\n",
       "      <td>1.360780</td>\n",
       "      <td>-1.692602</td>\n",
       "      <td>0</td>\n",
       "    </tr>\n",
       "    <tr>\n",
       "      <th>4495</th>\n",
       "      <td>0.0</td>\n",
       "      <td>0.881197</td>\n",
       "      <td>-0.279515</td>\n",
       "      <td>0.200516</td>\n",
       "      <td>-1.211473</td>\n",
       "      <td>-0.705487</td>\n",
       "      <td>0.372795</td>\n",
       "      <td>1.364191</td>\n",
       "      <td>-0.364512</td>\n",
       "      <td>0.803698</td>\n",
       "      <td>...</td>\n",
       "      <td>-0.704593</td>\n",
       "      <td>-0.085352</td>\n",
       "      <td>-1.017648</td>\n",
       "      <td>1.693652</td>\n",
       "      <td>-1.362178</td>\n",
       "      <td>0.556012</td>\n",
       "      <td>-0.147976</td>\n",
       "      <td>0.025028</td>\n",
       "      <td>-0.001494</td>\n",
       "      <td>0</td>\n",
       "    </tr>\n",
       "    <tr>\n",
       "      <th>3431</th>\n",
       "      <td>0.0</td>\n",
       "      <td>0.396563</td>\n",
       "      <td>0.871726</td>\n",
       "      <td>-1.756446</td>\n",
       "      <td>-1.211473</td>\n",
       "      <td>0.713593</td>\n",
       "      <td>-0.302341</td>\n",
       "      <td>-1.227803</td>\n",
       "      <td>0.708118</td>\n",
       "      <td>0.213103</td>\n",
       "      <td>...</td>\n",
       "      <td>0.702867</td>\n",
       "      <td>-0.546771</td>\n",
       "      <td>-0.858932</td>\n",
       "      <td>-0.984850</td>\n",
       "      <td>1.703369</td>\n",
       "      <td>-1.502565</td>\n",
       "      <td>0.867430</td>\n",
       "      <td>-0.328365</td>\n",
       "      <td>0.063781</td>\n",
       "      <td>1</td>\n",
       "    </tr>\n",
       "    <tr>\n",
       "      <th>3942</th>\n",
       "      <td>0.0</td>\n",
       "      <td>1.055664</td>\n",
       "      <td>-0.356101</td>\n",
       "      <td>-1.267205</td>\n",
       "      <td>-1.400306</td>\n",
       "      <td>0.004053</td>\n",
       "      <td>-0.481459</td>\n",
       "      <td>0.363719</td>\n",
       "      <td>-1.364045</td>\n",
       "      <td>1.039335</td>\n",
       "      <td>...</td>\n",
       "      <td>-0.708915</td>\n",
       "      <td>-1.176128</td>\n",
       "      <td>1.349453</td>\n",
       "      <td>0.000033</td>\n",
       "      <td>-0.024917</td>\n",
       "      <td>0.147585</td>\n",
       "      <td>-0.556204</td>\n",
       "      <td>1.360780</td>\n",
       "      <td>-1.692602</td>\n",
       "      <td>1</td>\n",
       "    </tr>\n",
       "  </tbody>\n",
       "</table>\n",
       "<p>5 rows × 1288 columns</p>\n",
       "</div>"
      ],
      "text/plain": [
       "        1      temp  humidity  windspeed   month_x   month_y  \\\n",
       "4627  0.0  1.835924 -1.174924  -0.521696 -1.211473 -0.705487   \n",
       "1120  0.0 -1.643742  1.369130  -0.032455  0.713896  1.233012   \n",
       "4495  0.0  0.881197 -0.279515   0.200516 -1.211473 -0.705487   \n",
       "3431  0.0  0.396563  0.871726  -1.756446 -1.211473  0.713593   \n",
       "3942  0.0  1.055664 -0.356101  -1.267205 -1.400306  0.004053   \n",
       "\n",
       "      sealevelpressure    hour_x    hour_y    temp^2  ...  \\\n",
       "4627         -0.274784 -1.369150  0.367197  2.242291  ...   \n",
       "1120          1.227049  0.363719 -1.364045 -1.241919  ...   \n",
       "4495          0.372795  1.364191 -0.364512  0.803698  ...   \n",
       "3431         -0.302341 -1.227803  0.708118  0.213103  ...   \n",
       "3942         -0.481459  0.363719 -1.364045  1.039335  ...   \n",
       "\n",
       "      sealevelpressure hour_x^2 hour_y^2  sealevelpressure hour_x hour_y^3  \\\n",
       "4627                           -0.707869                         -0.084959   \n",
       "1120                           -0.700270                         -1.190555   \n",
       "4495                           -0.704593                         -0.085352   \n",
       "3431                            0.702867                         -0.546771   \n",
       "3942                           -0.708915                         -1.176128   \n",
       "\n",
       "      sealevelpressure hour_y^4  hour_x^5  hour_x^4 hour_y  hour_x^3 hour_y^2  \\\n",
       "4627                  -1.017705 -1.698271         1.364805          -0.559830   \n",
       "1120                   1.378651  0.000033        -0.024917           0.147585   \n",
       "4495                  -1.017648  1.693652        -1.362178           0.556012   \n",
       "3431                  -0.858932 -0.984850         1.703369          -1.502565   \n",
       "3942                   1.349453  0.000033        -0.024917           0.147585   \n",
       "\n",
       "      hour_x^2 hour_y^3  hour_x hour_y^4  hour_y^5  type of day_weekend  \n",
       "4627           0.150868        -0.027375  0.003184                    0  \n",
       "1120          -0.556204         1.360780 -1.692602                    0  \n",
       "4495          -0.147976         0.025028 -0.001494                    0  \n",
       "3431           0.867430        -0.328365  0.063781                    1  \n",
       "3942          -0.556204         1.360780 -1.692602                    1  \n",
       "\n",
       "[5 rows x 1288 columns]"
      ]
     },
     "execution_count": 65,
     "metadata": {},
     "output_type": "execute_result"
    }
   ],
   "source": []
  },
  {
   "cell_type": "code",
   "execution_count": 79,
   "id": "6d78b99c-82f5-4d76-b15d-ccf778736e81",
   "metadata": {},
   "outputs": [
    {
     "data": {
      "text/plain": [
       "Text(0.5, 1.0, 'predicted')"
      ]
     },
     "execution_count": 79,
     "metadata": {},
     "output_type": "execute_result"
    },
    {
     "data": {
      "image/png": "[encoded data removed]",
      "text/plain": [
       "<Figure size 1346.4x595.44 with 2 Axes>"
      ]
     },
     "metadata": {},
     "output_type": "display_data"
    }
   ],
   "source": [
    "# As a very baseline, let's take a look at the histograms of the predicted model and actual model\n",
    "# A couple improvements I'd like to make is I'd like to capture the tail of this distribution better\n",
    "# I think that importing a custom loss function to penalize the error made at higher ozone levels could be helpful here.\n",
    "# There is also the issue of predicting negative ozone levels. However, this is not as \n",
    "# concerning to me as we can consider those to be zero. However, having the ability capture the large amount of \n",
    "# very low ozone cases would be \n",
    "fig, ax = plt.subplots(1,2, sharey=True, sharex = True)\n",
    "sns.set(rc={'figure.figsize':(18.7,8.27)})\n",
    "sns.histplot(y, stat='probability', bins=15, legend=False, ax=ax[0]).set_title('true ozone level')\n",
    "sns.histplot(reg.predict(X), stat='probability', bins=15, legend=False, ax=ax[1]).set_title('predicted')\n",
    "\n",
    "#sns.histplot(reg.predict(X), multiple='dodge')"
   ]
  },
  {
   "cell_type": "code",
   "execution_count": 86,
   "id": "1d2ee5ca-c2d7-496d-870f-414406fa9c20",
   "metadata": {},
   "outputs": [],
   "source": [
    "def cyclicize(in_series, T):\n",
    "    \"\"\" Transforms a variable into a cylcic variable with period T by\n",
    "    doing cos(2pi/T x), sin(2pi/T x). Will work for a series as well as a number\"\"\"\n",
    "\n",
    "    cyclic_x = np.cos(2*np.pi/T * in_series)\n",
    "    cyclic_y = np.sin(2*np.pi/T * in_series)\n",
    "\n",
    "    return cyclic_x, cyclic_y\n",
    "\n",
    "def predict(input_dict):\n",
    "    import pickle\n",
    "    \"\"\" returns the predicted ozone pollution ppm based on input variables \"\"\"\n",
    "    poly_pickle = pickle.load(open(\"poly.pkl\", \"rb\"))\n",
    "    scaler_pickle = pickle.load(open(\"scaler.pkl\", \"rb\"))\n",
    "    model_pickle = pickle.load(open(\"model.pkl\", \"rb\"))\n",
    "\n",
    "    hour_x, hour_y = cyclicize(input_dict[\"hour\"], 24)\n",
    "    month_x, month_y = cyclicize(input_dict[\"month\"], 12)\n",
    "\n",
    "    input_dict_num = {\n",
    "        \"temp\": [input_dict[\"temp\"]],\n",
    "        \"humidity\": [input_dict[\"humidity\"]],\n",
    "        \"windspeed\": [input_dict[\"windspeed\"]],\n",
    "        \"month_x\": [month_x],\n",
    "        \"month_y\": [month_y],\n",
    "        \"sea_level_pressure\": [input_dict[\"sea_level_pressure\"]],\n",
    "        \"hour_x\": [hour_x],\n",
    "        \"hour_y\": [hour_y]\n",
    "    }\n",
    "    \n",
    "    print(df_col_useful.iloc[0])\n",
    "\n",
    "    input_dict_cat = {\"is_weekend\": [input_dict[\"is_weekend\"]]}\n",
    "    #print(input_dict_num.keys())\n",
    "    input_series_num = pd.DataFrame.from_dict(input_dict_num)\n",
    "    input_series_cat = pd.DataFrame.from_dict(input_dict_cat)\n",
    "\n",
    "    print(input_series_num)\n",
    "\n",
    "    poly_series = poly_pickle.transform(input_series_num)\n",
    "    scaled_poly_series = scaler_pickle.transform(poly_series)\n",
    "    df_poly = pd.DataFrame(scaled_poly_series)\n",
    "    df_poly.columns = poly_pickle.get_feature_names(input_series_num.columns)\n",
    "    print(scaled_poly_series)\n",
    "\n",
    "    input_series = pd.concat([df_poly, input_series_cat], axis=1)\n",
    "    print(input_series)\n",
    "    prediction = model_pickle.predict(input_series)\n",
    "    print(prediction)"
   ]
  },
  {
   "cell_type": "code",
   "execution_count": 108,
   "id": "a5bfbcd4-66ad-45b8-b6b1-a26b022ee0de",
   "metadata": {},
   "outputs": [
    {
     "name": "stdout",
     "output_type": "stream",
     "text": [
      "temp                       0.9\n",
      "humidity                 88.81\n",
      "windspeed                  5.2\n",
      "month_x               0.866025\n",
      "month_y                    0.5\n",
      "sealevelpressure        1030.8\n",
      "hour_x                       1\n",
      "hour_y                       0\n",
      "type of day            weekday\n",
      "sample measurement       0.013\n",
      "Name: 0, dtype: object\n",
      "   temp  humidity  windspeed  month_x   month_y  sea_level_pressure    hour_x  \\\n",
      "0    92        10          0     -0.5  0.866025              1008.8 -0.707107   \n",
      "\n",
      "     hour_y  \n",
      "0 -0.707107  \n",
      "[[ 0.00000000e+00  2.05400885e+00 -1.80309552e+00 -1.98941731e+00\n",
      "  -6.95571842e-01  1.23301182e+00 -7.15689571e-01 -1.00295167e+00\n",
      "  -9.98190331e-01  2.62211047e+00 -1.32886910e+00 -1.42478378e+00\n",
      "  -1.00702585e+00  2.30320364e+00  2.04521658e+00 -1.61266350e+00\n",
      "  -1.64928112e+00 -1.23696264e+00 -1.41681924e+00 -1.34826470e-01\n",
      "   1.06472724e-01 -1.80022583e+00 -3.14877518e-01 -2.83393823e-01\n",
      "  -8.68983460e-01  3.84678005e-02 -1.80799312e-03 -2.00047808e+00\n",
      "  -6.82163943e-03  6.81934413e-02 -7.17089185e-01 -1.21354926e+00\n",
      "  -6.93421410e-01  7.05082413e-01  7.03340082e-01  7.17089185e-01\n",
      "   1.22692723e+00 -1.22859301e+00 -1.22927467e+00 -7.17345035e-01\n",
      "  -9.97961567e-01 -9.93494963e-01  1.32543481e-03  1.41285153e+00\n",
      "  -1.32543481e-03  3.11861837e+00 -4.83150320e-01 -1.01828427e+00\n",
      "  -1.43306221e+00  3.26532749e+00  2.61370350e+00 -2.20388793e+00\n",
      "  -2.27336856e+00 -1.22678453e+00 -1.44455188e+00 -1.64683480e-02\n",
      "   5.16318118e-01 -1.33326076e+00 -4.44903652e-01 -4.17879951e-01\n",
      "  -7.91549165e-01  2.49508456e-01  1.54533410e-01 -1.43082146e+00\n",
      "   5.94752770e-02  1.51364947e-01 -8.34913061e-02 -2.15493901e+00\n",
      "  -1.00305995e+00  1.19773979e+00  1.21660364e+00  1.99777196e+00\n",
      "   2.29734616e+00 -2.06831502e+00 -2.11834644e+00  2.03588580e+00\n",
      "  -1.60683742e+00 -1.64414319e+00  9.44427302e-01  2.39789883e+00\n",
      "   1.01829455e+00 -9.44861376e-01 -9.53444857e-01 -4.52374510e-02\n",
      "  -1.15600813e-01 -1.23633036e+00 -2.12221285e-01 -1.79252038e-01\n",
      "  -6.61440829e-01  1.05724044e-02 -1.00600428e-01 -1.42206163e+00\n",
      "  -1.19215071e-01 -3.95725524e-02 -1.04100844e+00 -1.67816843e-01\n",
      "  -1.35750254e-01  1.36543914e-01  1.62799159e-01 -7.93230749e-01\n",
      "   1.05387906e-01 -2.07019092e-01 -1.82875630e-01 -1.79678132e+00\n",
      "  -3.13689831e-01 -2.82377897e-01 -9.06815686e-01  2.66432732e-01\n",
      "  -9.07452739e-01 -4.33324533e-01  4.41461390e-02 -1.31885521e-02\n",
      "  -8.74944971e-01  1.95229253e-02  1.06507013e-01 -1.12485570e+00\n",
      "   3.00263394e-03  3.71100606e-02  1.25971413e-02 -5.08592945e-02\n",
      "  -1.00525061e+00 -1.78586409e-03  2.71738696e-02 -9.45678613e-03\n",
      "  -2.01099712e+00 -7.26512480e-03  6.76867188e-02 -1.05997310e+00\n",
      "  -3.13368543e-02 -1.07123568e+00 -2.17888024e-01  8.79277080e-01\n",
      "  -7.20499922e-01 -4.09184512e-01 -4.05090693e-01 -1.48548290e+00\n",
      "  -1.20757679e+00  1.22412675e+00  1.22347355e+00 -6.91245494e-01\n",
      "   7.01234122e-01  6.99614689e-01 -5.68482707e-01 -9.95197409e-01\n",
      "  -5.67290649e-01  1.16698552e+00  7.06868048e-01 -1.23232502e+00\n",
      "  -1.22922487e+00  1.22072175e+00 -1.22265866e+00 -1.22328199e+00\n",
      "   1.00751848e+00  1.73960520e+00  1.00587914e+00 -7.18941444e-01\n",
      "  -9.92895745e-01 -9.88724474e-01 -5.89426615e-03  1.40626513e+00\n",
      "  -8.59106847e-03 -6.35248719e-01 -1.41337933e+00 -1.41565034e+00\n",
      "  -6.30923825e-01]]\n",
      "     1      temp  humidity  windspeed   month_x   month_y  sea_level_pressure  \\\n",
      "0  0.0  2.054009 -1.803096  -1.989417 -0.695572  1.233012            -0.71569   \n",
      "\n",
      "     hour_x   hour_y   temp^2  ...  sea_level_pressure^2 hour_x  \\\n",
      "0 -1.002952 -0.99819  2.62211  ...                    -0.992896   \n",
      "\n",
      "   sea_level_pressure^2 hour_y  sea_level_pressure hour_x^2  \\\n",
      "0                    -0.988724                    -0.005894   \n",
      "\n",
      "   sea_level_pressure hour_x hour_y  sea_level_pressure hour_y^2  hour_x^3  \\\n",
      "0                          1.406265                    -0.008591 -0.635249   \n",
      "\n",
      "   hour_x^2 hour_y  hour_x hour_y^2  hour_y^3  is_weekend  \n",
      "0        -1.413379         -1.41565 -0.630924           1  \n",
      "\n",
      "[1 rows x 166 columns]\n",
      "[0.06586033]\n"
     ]
    }
   ],
   "source": [
    "input_dictionary = {\n",
    "    \"temp\": 92,\n",
    "    \"humidity\": 10,\n",
    "    \"windspeed\": 0,\n",
    "    \"month\": 4,\n",
    "    \"sea_level_pressure\": 1008.8,\n",
    "    \"hour\": 15,\n",
    "    \"is_weekend\": 1\n",
    "}\n",
    "pred = predict(input_dictionary)"
   ]
  },
  {
   "cell_type": "code",
   "execution_count": null,
   "id": "bb0d783f-9622-4224-bb20-aabec1a1c832",
   "metadata": {},
   "outputs": [],
   "source": []
  }
 ],
 "metadata": {
  "kernelspec": {
   "display_name": "Python 3",
   "language": "python",
   "name": "python3"
  },
  "language_info": {
   "codemirror_mode": {
    "name": "ipython",
    "version": 3
   },
   "file_extension": ".py",
   "mimetype": "text/x-python",
   "name": "python",
   "nbconvert_exporter": "python",
   "pygments_lexer": "ipython3",
   "version": "3.6.9"
  }
 },
 "nbformat": 4,
 "nbformat_minor": 5
}
