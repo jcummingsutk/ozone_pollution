{
 "cells": [
  {
   "cell_type": "markdown",
   "id": "f6185e02-0415-423b-bbd3-7506a6ee2579",
   "metadata": {
    "tags": []
   },
   "source": [
    "# Linear Regression Model for Ozone Level in Denver, Colorado"
   ]
  },
  {
   "cell_type": "markdown",
   "id": "523f07d7-a692-44cc-8fcb-6694516dbd44",
   "metadata": {
    "tags": []
   },
   "source": [
    "Most of us probably remember learning about the protection that the ozone layer in the upper atmosphere lends us. However, ground level ozone has well documented negative effects. Those with Athsma are particularly at risk to it [[1]](https://www.epa.gov/ground-level-ozone-pollution/ground-level-ozone-basics). Denver has one of the worst levels of ground level ozone in the united states [[2]](https://www.denverpost.com/2021/06/16/denver-fortcollins-worst-cities-air-pollution/). It is well known that ozone is greatly affected by pollutants emitted by cars, power plants, refineries, etc. in the presence of sunlight [[3]](https://www.epa.gov/ground-level-ozone-pollution/ground-level-ozone-basics#:~:text=This%20happens%20when%20pollutants%20emitted,high%20levels%20during%20colder%20months.). \n",
    "\n",
    "**Goal**: To develop a reasonaly accurate linear regression model to predict the amount of ozone in the air. \n",
    "\n",
    "**Results**: Using historical weather data paired with EPA data on ozone pollutant a model with R^2 of 0.55 and a mean average error of <.01 ppm. Lasso regression is also tested, but yields no "
   ]
  },
  {
   "cell_type": "markdown",
   "id": "2da5c4a7-fbf4-454f-a540-4300a75a2a05",
   "metadata": {
    "tags": []
   },
   "source": [
    "[Ozone Data](https://aqs.epa.gov/aqsweb/airdata/download_files.html#Raw)\n",
    "\n",
    "[Worst Ranking Ozone Levels](https://www.lung.org/research/sota/city-rankings/most-polluted-cities)\n",
    "\n",
    "[Historical Weather Data](https://visualcrossing.com/)\n",
    "\n",
    "[Weather Data Documentation](https://www.visualcrossing.com/resources/documentation/weather-data/weather-data-documentation/)\n",
    "\n",
    "[Effect of Weekends](https://www.tandfonline.com/doi/full/10.1080/10962247.2012.749312#:~:text=In%20simple%20terms%2C%20the%20ozone,NOx\\)%2C%20on%20weekends.)"
   ]
  },
  {
   "cell_type": "markdown",
   "id": "e327a1eb-7e2d-4016-8250-0d35d2b9dc7c",
   "metadata": {
    "tags": []
   },
   "source": [
    "# Utilities, Constants"
   ]
  },
  {
   "cell_type": "code",
   "execution_count": 1,
   "id": "f43ac899-d589-4ed2-9b74-707e8798a679",
   "metadata": {
    "tags": []
   },
   "outputs": [],
   "source": [
    "def calculate_percent_missing(in_df):\n",
    "    # function which returns a dataframe indicating what percent of a column is missing\n",
    "    percent_missing = in_df.isnull().sum() * 100 / len(in_df)\n",
    "    return pd.DataFrame({'percent_missing': percent_missing})\n",
    "\n",
    "TEST_FRACTION = .25 #percentage of the test size\n",
    "CV = 7 #cross validations to do in grid search\n",
    "N_JOBS = 7 #number of cores\n",
    "RAND_STATE = 0 #will be doing multiple train-test-splits, and want to keep everything random, but do the same train-test-splits"
   ]
  },
  {
   "cell_type": "code",
   "execution_count": 324,
   "id": "f34315d1-2084-475e-aed3-6bd0373dbc20",
   "metadata": {
    "tags": []
   },
   "outputs": [],
   "source": [
    "def get_poly_scaled(df, numerical_cols, cat_cols, target_col, n_deg):\n",
    "    \"\"\" Takes in a data a data set, the numerical columns you are interested in, and categorical columns and degree and returns a \n",
    "    the scaled numerical dataset with with polynomial features of degree n_deg, the categorical columns, and the target columns all properly indexed\n",
    "    Args:\n",
    "    in_df: dataframe\n",
    "    numerical_cols: numerical column names, list\n",
    "    cat_cols: categorical column names, list\n",
    "    target: target name, string\n",
    "    n_deg: integer, the degree\n",
    "    \"\"\"\n",
    "    from sklearn.preprocessing import PolynomialFeatures\n",
    "    from sklearn.preprocessing import StandardScaler, MinMaxScaler, RobustScaler #scaling the parameters\n",
    "    ss = StandardScaler()\n",
    "    poly = PolynomialFeatures(n_deg)\n",
    "    in_df = df.reset_index()\n",
    "    #Ensure the index is set from 0 to n-1, since poly.fit_transform will return a dataframe and we'll have unmatched indices if we do not do this\n",
    "    #in_df.reset_index(inplace=True)\n",
    "    \n",
    "    # Categorize the types of features and target\n",
    "    df_num = in_df[numerical_cols]\n",
    "    df_cat = in_df[cat_cols]\n",
    "    y = in_df[target_col]\n",
    "    #Transform\n",
    "    use_poly = poly.fit_transform(df_num)\n",
    "    df_poly = pd.DataFrame(use_poly)\n",
    "    \n",
    "    # Set column names\n",
    "    df_poly.columns = poly.get_feature_names(df_num.columns)\n",
    "    df_scaled_poly = pd.DataFrame(ss.fit_transform(df_poly), index=df_poly.index, columns=df_poly.columns)\n",
    "    return (df_scaled_poly, df_cat, y)\n",
    "\n",
    "def get_mae(reg, X, y):\n",
    "    \"\"\" returns the mean average error of the regressor reg on X \"\"\"\n",
    "    y_pred = reg.predict(X)\n",
    "    abs_err = np.abs(y_pred - y)\n",
    "    return abs_err.mean()\n",
    "\n",
    "def get_rmse(reg, X, y):\n",
    "    \"\"\" returns the root mean square error of the regressor reg on X \"\"\"\n",
    "    y_pred = reg.predict(X)\n",
    "    sqr_err = np.power(y_pred - y, 2)\n",
    "    mse = np.mean(sqr_err)\n",
    "    return np.sqrt(mse)\n",
    "\n",
    "def print_errors(reg, X, y):\n",
    "    \"\"\" prints mae and rmse \"\"\"\n",
    "    print(\"MAE: {:.4f} \\nRMSE: {:.4f}\".format(get_mae(reg, X, y), get_rmse(reg, X, y)))"
   ]
  },
  {
   "cell_type": "code",
   "execution_count": 2,
   "id": "9b13efd7-01a9-4980-8cc7-a7c6f10effac",
   "metadata": {},
   "outputs": [
    {
     "name": "stderr",
     "output_type": "stream",
     "text": [
      "/home/jcummings/.local/lib/python3.6/site-packages/IPython/core/interactiveshell.py:3072: DtypeWarning: Columns (17) have mixed types.Specify dtype option on import or set low_memory=False.\n",
      "  interactivity=interactivity, compiler=compiler, result=result)\n"
     ]
    }
   ],
   "source": [
    "import pandas as pd\n",
    "import numpy as np\n",
    "import matplotlib.pyplot as plt\n",
    "import seaborn as sns\n",
    "df = pd.read_csv('data/ozone_2019.csv')"
   ]
  },
  {
   "cell_type": "code",
   "execution_count": 3,
   "id": "84285f56-ffa9-4a18-9410-4678c476a423",
   "metadata": {},
   "outputs": [],
   "source": [
    "df_col_weather = pd.read_csv('data/denver_weather_2019_real.csv')"
   ]
  },
  {
   "cell_type": "markdown",
   "id": "d69130d1-55ac-4951-a799-1cfc76843fcf",
   "metadata": {
    "tags": []
   },
   "source": [
    "# 1. Exploring the D\n"
   ]
  },
  {
   "cell_type": "markdown",
   "id": "5c4d991c-fa43-484e-bc6f-23715b10967b",
   "metadata": {
    "tags": []
   },
   "source": [
    "## Parameters and useful functions for analysis"
   ]
  },
  {
   "cell_type": "code",
   "execution_count": 4,
   "id": "ae6a0eb1-9c24-4e26-8f65-821b3a4c4c31",
   "metadata": {},
   "outputs": [
    {
     "data": {
      "text/html": [
       "<div>\n",
       "<style scoped>\n",
       "    .dataframe tbody tr th:only-of-type {\n",
       "        vertical-align: middle;\n",
       "    }\n",
       "\n",
       "    .dataframe tbody tr th {\n",
       "        vertical-align: top;\n",
       "    }\n",
       "\n",
       "    .dataframe thead th {\n",
       "        text-align: right;\n",
       "    }\n",
       "</style>\n",
       "<table border=\"1\" class=\"dataframe\">\n",
       "  <thead>\n",
       "    <tr style=\"text-align: right;\">\n",
       "      <th></th>\n",
       "      <th>state code</th>\n",
       "      <th>county code</th>\n",
       "      <th>site num</th>\n",
       "      <th>parameter code</th>\n",
       "      <th>poc</th>\n",
       "      <th>latitude</th>\n",
       "      <th>longitude</th>\n",
       "      <th>sample measurement</th>\n",
       "      <th>mdl</th>\n",
       "      <th>uncertainty</th>\n",
       "      <th>method code</th>\n",
       "    </tr>\n",
       "  </thead>\n",
       "  <tbody>\n",
       "    <tr>\n",
       "      <th>count</th>\n",
       "      <td>9.142786e+06</td>\n",
       "      <td>9.142786e+06</td>\n",
       "      <td>9.142786e+06</td>\n",
       "      <td>9142786.0</td>\n",
       "      <td>9.142786e+06</td>\n",
       "      <td>9.142786e+06</td>\n",
       "      <td>9.142786e+06</td>\n",
       "      <td>9.142786e+06</td>\n",
       "      <td>9.142786e+06</td>\n",
       "      <td>0.0</td>\n",
       "      <td>9.142786e+06</td>\n",
       "    </tr>\n",
       "    <tr>\n",
       "      <th>mean</th>\n",
       "      <td>2.668803e+01</td>\n",
       "      <td>7.627163e+01</td>\n",
       "      <td>1.344786e+03</td>\n",
       "      <td>44201.0</td>\n",
       "      <td>1.084851e+00</td>\n",
       "      <td>3.758337e+01</td>\n",
       "      <td>-9.520775e+01</td>\n",
       "      <td>3.078728e-02</td>\n",
       "      <td>1.397212e-01</td>\n",
       "      <td>NaN</td>\n",
       "      <td>7.220774e+01</td>\n",
       "    </tr>\n",
       "    <tr>\n",
       "      <th>std</th>\n",
       "      <td>1.684961e+01</td>\n",
       "      <td>8.080285e+01</td>\n",
       "      <td>2.670646e+03</td>\n",
       "      <td>0.0</td>\n",
       "      <td>3.483333e-01</td>\n",
       "      <td>4.926934e+00</td>\n",
       "      <td>1.619993e+01</td>\n",
       "      <td>1.481152e-02</td>\n",
       "      <td>8.220645e-01</td>\n",
       "      <td>NaN</td>\n",
       "      <td>4.150573e+01</td>\n",
       "    </tr>\n",
       "    <tr>\n",
       "      <th>min</th>\n",
       "      <td>1.000000e+00</td>\n",
       "      <td>1.000000e+00</td>\n",
       "      <td>1.000000e+00</td>\n",
       "      <td>44201.0</td>\n",
       "      <td>1.000000e+00</td>\n",
       "      <td>1.821604e+01</td>\n",
       "      <td>-1.580886e+02</td>\n",
       "      <td>-4.000000e-03</td>\n",
       "      <td>6.000000e-04</td>\n",
       "      <td>NaN</td>\n",
       "      <td>1.900000e+01</td>\n",
       "    </tr>\n",
       "    <tr>\n",
       "      <th>25%</th>\n",
       "      <td>1.000000e+01</td>\n",
       "      <td>2.300000e+01</td>\n",
       "      <td>6.000000e+00</td>\n",
       "      <td>44201.0</td>\n",
       "      <td>1.000000e+00</td>\n",
       "      <td>3.406957e+01</td>\n",
       "      <td>-1.101827e+02</td>\n",
       "      <td>2.100000e-02</td>\n",
       "      <td>5.000000e-03</td>\n",
       "      <td>NaN</td>\n",
       "      <td>4.700000e+01</td>\n",
       "    </tr>\n",
       "    <tr>\n",
       "      <th>50%</th>\n",
       "      <td>2.600000e+01</td>\n",
       "      <td>5.900000e+01</td>\n",
       "      <td>2.500000e+01</td>\n",
       "      <td>44201.0</td>\n",
       "      <td>1.000000e+00</td>\n",
       "      <td>3.835655e+01</td>\n",
       "      <td>-9.121356e+01</td>\n",
       "      <td>3.100000e-02</td>\n",
       "      <td>5.000000e-03</td>\n",
       "      <td>NaN</td>\n",
       "      <td>8.700000e+01</td>\n",
       "    </tr>\n",
       "    <tr>\n",
       "      <th>75%</th>\n",
       "      <td>4.200000e+01</td>\n",
       "      <td>1.030000e+02</td>\n",
       "      <td>1.015000e+03</td>\n",
       "      <td>44201.0</td>\n",
       "      <td>1.000000e+00</td>\n",
       "      <td>4.095960e+01</td>\n",
       "      <td>-8.213125e+01</td>\n",
       "      <td>4.100000e-02</td>\n",
       "      <td>5.000000e-03</td>\n",
       "      <td>NaN</td>\n",
       "      <td>8.700000e+01</td>\n",
       "    </tr>\n",
       "    <tr>\n",
       "      <th>max</th>\n",
       "      <td>8.000000e+01</td>\n",
       "      <td>8.000000e+02</td>\n",
       "      <td>9.997000e+03</td>\n",
       "      <td>44201.0</td>\n",
       "      <td>6.000000e+00</td>\n",
       "      <td>6.484569e+01</td>\n",
       "      <td>-6.612653e+01</td>\n",
       "      <td>1.600000e-01</td>\n",
       "      <td>8.000000e+00</td>\n",
       "      <td>NaN</td>\n",
       "      <td>9.010000e+02</td>\n",
       "    </tr>\n",
       "  </tbody>\n",
       "</table>\n",
       "</div>"
      ],
      "text/plain": [
       "         state code   county code      site num  parameter code           poc  \\\n",
       "count  9.142786e+06  9.142786e+06  9.142786e+06       9142786.0  9.142786e+06   \n",
       "mean   2.668803e+01  7.627163e+01  1.344786e+03         44201.0  1.084851e+00   \n",
       "std    1.684961e+01  8.080285e+01  2.670646e+03             0.0  3.483333e-01   \n",
       "min    1.000000e+00  1.000000e+00  1.000000e+00         44201.0  1.000000e+00   \n",
       "25%    1.000000e+01  2.300000e+01  6.000000e+00         44201.0  1.000000e+00   \n",
       "50%    2.600000e+01  5.900000e+01  2.500000e+01         44201.0  1.000000e+00   \n",
       "75%    4.200000e+01  1.030000e+02  1.015000e+03         44201.0  1.000000e+00   \n",
       "max    8.000000e+01  8.000000e+02  9.997000e+03         44201.0  6.000000e+00   \n",
       "\n",
       "           latitude     longitude  sample measurement           mdl  \\\n",
       "count  9.142786e+06  9.142786e+06        9.142786e+06  9.142786e+06   \n",
       "mean   3.758337e+01 -9.520775e+01        3.078728e-02  1.397212e-01   \n",
       "std    4.926934e+00  1.619993e+01        1.481152e-02  8.220645e-01   \n",
       "min    1.821604e+01 -1.580886e+02       -4.000000e-03  6.000000e-04   \n",
       "25%    3.406957e+01 -1.101827e+02        2.100000e-02  5.000000e-03   \n",
       "50%    3.835655e+01 -9.121356e+01        3.100000e-02  5.000000e-03   \n",
       "75%    4.095960e+01 -8.213125e+01        4.100000e-02  5.000000e-03   \n",
       "max    6.484569e+01 -6.612653e+01        1.600000e-01  8.000000e+00   \n",
       "\n",
       "       uncertainty   method code  \n",
       "count          0.0  9.142786e+06  \n",
       "mean           NaN  7.220774e+01  \n",
       "std            NaN  4.150573e+01  \n",
       "min            NaN  1.900000e+01  \n",
       "25%            NaN  4.700000e+01  \n",
       "50%            NaN  8.700000e+01  \n",
       "75%            NaN  8.700000e+01  \n",
       "max            NaN  9.010000e+02  "
      ]
     },
     "execution_count": 4,
     "metadata": {},
     "output_type": "execute_result"
    }
   ],
   "source": [
    "# Lower case columns, check out the data. Nothing super surprising here\n",
    "df.columns = df.columns.str.lower()\n",
    "df.columns = df.columns.str.strip()\n",
    "df.describe()"
   ]
  },
  {
   "cell_type": "code",
   "execution_count": 5,
   "id": "b14f1be4-8037-40b9-a1c7-80d220ca3c02",
   "metadata": {},
   "outputs": [
    {
     "data": {
      "text/plain": [
       "Index(['state code', 'county code', 'site num', 'parameter code', 'poc',\n",
       "       'latitude', 'longitude', 'datum', 'parameter name', 'date local',\n",
       "       'time local', 'date gmt', 'time gmt', 'sample measurement',\n",
       "       'units of measure', 'mdl', 'uncertainty', 'qualifier', 'method type',\n",
       "       'method code', 'method name', 'state name', 'county name',\n",
       "       'date of last change'],\n",
       "      dtype='object')"
      ]
     },
     "execution_count": 5,
     "metadata": {},
     "output_type": "execute_result"
    }
   ],
   "source": [
    "df.columns"
   ]
  },
  {
   "cell_type": "code",
   "execution_count": 6,
   "id": "9fe59702-e07b-45d7-8207-e08589109b22",
   "metadata": {},
   "outputs": [
    {
     "name": "stdout",
     "output_type": "stream",
     "text": [
      "<class 'pandas.core.frame.DataFrame'>\n",
      "RangeIndex: 9142786 entries, 0 to 9142785\n",
      "Data columns (total 24 columns):\n",
      " #   Column               Dtype  \n",
      "---  ------               -----  \n",
      " 0   state code           int64  \n",
      " 1   county code          int64  \n",
      " 2   site num             int64  \n",
      " 3   parameter code       int64  \n",
      " 4   poc                  int64  \n",
      " 5   latitude             float64\n",
      " 6   longitude            float64\n",
      " 7   datum                object \n",
      " 8   parameter name       object \n",
      " 9   date local           object \n",
      " 10  time local           object \n",
      " 11  date gmt             object \n",
      " 12  time gmt             object \n",
      " 13  sample measurement   float64\n",
      " 14  units of measure     object \n",
      " 15  mdl                  float64\n",
      " 16  uncertainty          float64\n",
      " 17  qualifier            object \n",
      " 18  method type          object \n",
      " 19  method code          int64  \n",
      " 20  method name          object \n",
      " 21  state name           object \n",
      " 22  county name          object \n",
      " 23  date of last change  object \n",
      "dtypes: float64(5), int64(6), object(13)\n",
      "memory usage: 1.6+ GB\n"
     ]
    }
   ],
   "source": [
    "df.info()"
   ]
  },
  {
   "cell_type": "code",
   "execution_count": 7,
   "id": "e1079ad3-fdb2-4ac3-b0de-bb8da232b828",
   "metadata": {},
   "outputs": [],
   "source": [
    "# Getting colorado's data\n",
    "df_col_oz = df.loc[(df['county name']=='Denver') & (df['state name']=='Colorado')]"
   ]
  },
  {
   "cell_type": "code",
   "execution_count": 8,
   "id": "49985e9e-693a-4e54-a12d-d0653be184fe",
   "metadata": {},
   "outputs": [
    {
     "data": {
      "text/plain": [
       "<AxesSubplot:xlabel='sample measurement', ylabel='Count'>"
      ]
     },
     "execution_count": 8,
     "metadata": {},
     "output_type": "execute_result"
    },
    {
     "data": {
      "image/png": "[encoded data removed]",
      "text/plain": [
       "<Figure size 432x288 with 1 Axes>"
      ]
     },
     "metadata": {
      "needs_background": "light"
     },
     "output_type": "display_data"
    }
   ],
   "source": [
    "# Taking a peek at the histogram Spike in the count at 0\n",
    "sns.histplot(df_col_oz['sample measurement'], kde = True, bins=30)"
   ]
  },
  {
   "cell_type": "code",
   "execution_count": 9,
   "id": "606c3b47-7441-4cb0-99a9-cab276acc886",
   "metadata": {},
   "outputs": [
    {
     "data": {
      "text/html": [
       "<div>\n",
       "<style scoped>\n",
       "    .dataframe tbody tr th:only-of-type {\n",
       "        vertical-align: middle;\n",
       "    }\n",
       "\n",
       "    .dataframe tbody tr th {\n",
       "        vertical-align: top;\n",
       "    }\n",
       "\n",
       "    .dataframe thead th {\n",
       "        text-align: right;\n",
       "    }\n",
       "</style>\n",
       "<table border=\"1\" class=\"dataframe\">\n",
       "  <thead>\n",
       "    <tr style=\"text-align: right;\">\n",
       "      <th></th>\n",
       "      <th>state code</th>\n",
       "      <th>county code</th>\n",
       "      <th>site num</th>\n",
       "      <th>parameter code</th>\n",
       "      <th>poc</th>\n",
       "      <th>latitude</th>\n",
       "      <th>longitude</th>\n",
       "      <th>datum</th>\n",
       "      <th>parameter name</th>\n",
       "      <th>date local</th>\n",
       "      <th>...</th>\n",
       "      <th>units of measure</th>\n",
       "      <th>mdl</th>\n",
       "      <th>uncertainty</th>\n",
       "      <th>qualifier</th>\n",
       "      <th>method type</th>\n",
       "      <th>method code</th>\n",
       "      <th>method name</th>\n",
       "      <th>state name</th>\n",
       "      <th>county name</th>\n",
       "      <th>date of last change</th>\n",
       "    </tr>\n",
       "  </thead>\n",
       "  <tbody>\n",
       "    <tr>\n",
       "      <th>1999057</th>\n",
       "      <td>8</td>\n",
       "      <td>31</td>\n",
       "      <td>2</td>\n",
       "      <td>44201</td>\n",
       "      <td>6</td>\n",
       "      <td>39.751184</td>\n",
       "      <td>-104.987625</td>\n",
       "      <td>WGS84</td>\n",
       "      <td>Ozone</td>\n",
       "      <td>2019-01-01</td>\n",
       "      <td>...</td>\n",
       "      <td>Parts per million</td>\n",
       "      <td>0.005</td>\n",
       "      <td>NaN</td>\n",
       "      <td>NaN</td>\n",
       "      <td>FEM</td>\n",
       "      <td>87</td>\n",
       "      <td>INSTRUMENTAL - ULTRA VIOLET ABSORPTION</td>\n",
       "      <td>Colorado</td>\n",
       "      <td>Denver</td>\n",
       "      <td>2019-03-15</td>\n",
       "    </tr>\n",
       "    <tr>\n",
       "      <th>1999058</th>\n",
       "      <td>8</td>\n",
       "      <td>31</td>\n",
       "      <td>2</td>\n",
       "      <td>44201</td>\n",
       "      <td>6</td>\n",
       "      <td>39.751184</td>\n",
       "      <td>-104.987625</td>\n",
       "      <td>WGS84</td>\n",
       "      <td>Ozone</td>\n",
       "      <td>2019-01-01</td>\n",
       "      <td>...</td>\n",
       "      <td>Parts per million</td>\n",
       "      <td>0.005</td>\n",
       "      <td>NaN</td>\n",
       "      <td>NaN</td>\n",
       "      <td>FEM</td>\n",
       "      <td>87</td>\n",
       "      <td>INSTRUMENTAL - ULTRA VIOLET ABSORPTION</td>\n",
       "      <td>Colorado</td>\n",
       "      <td>Denver</td>\n",
       "      <td>2019-03-15</td>\n",
       "    </tr>\n",
       "    <tr>\n",
       "      <th>1999059</th>\n",
       "      <td>8</td>\n",
       "      <td>31</td>\n",
       "      <td>2</td>\n",
       "      <td>44201</td>\n",
       "      <td>6</td>\n",
       "      <td>39.751184</td>\n",
       "      <td>-104.987625</td>\n",
       "      <td>WGS84</td>\n",
       "      <td>Ozone</td>\n",
       "      <td>2019-01-01</td>\n",
       "      <td>...</td>\n",
       "      <td>Parts per million</td>\n",
       "      <td>0.005</td>\n",
       "      <td>NaN</td>\n",
       "      <td>NaN</td>\n",
       "      <td>FEM</td>\n",
       "      <td>87</td>\n",
       "      <td>INSTRUMENTAL - ULTRA VIOLET ABSORPTION</td>\n",
       "      <td>Colorado</td>\n",
       "      <td>Denver</td>\n",
       "      <td>2019-03-15</td>\n",
       "    </tr>\n",
       "    <tr>\n",
       "      <th>1999060</th>\n",
       "      <td>8</td>\n",
       "      <td>31</td>\n",
       "      <td>2</td>\n",
       "      <td>44201</td>\n",
       "      <td>6</td>\n",
       "      <td>39.751184</td>\n",
       "      <td>-104.987625</td>\n",
       "      <td>WGS84</td>\n",
       "      <td>Ozone</td>\n",
       "      <td>2019-01-01</td>\n",
       "      <td>...</td>\n",
       "      <td>Parts per million</td>\n",
       "      <td>0.005</td>\n",
       "      <td>NaN</td>\n",
       "      <td>NaN</td>\n",
       "      <td>FEM</td>\n",
       "      <td>87</td>\n",
       "      <td>INSTRUMENTAL - ULTRA VIOLET ABSORPTION</td>\n",
       "      <td>Colorado</td>\n",
       "      <td>Denver</td>\n",
       "      <td>2019-03-15</td>\n",
       "    </tr>\n",
       "    <tr>\n",
       "      <th>1999061</th>\n",
       "      <td>8</td>\n",
       "      <td>31</td>\n",
       "      <td>2</td>\n",
       "      <td>44201</td>\n",
       "      <td>6</td>\n",
       "      <td>39.751184</td>\n",
       "      <td>-104.987625</td>\n",
       "      <td>WGS84</td>\n",
       "      <td>Ozone</td>\n",
       "      <td>2019-01-01</td>\n",
       "      <td>...</td>\n",
       "      <td>Parts per million</td>\n",
       "      <td>0.005</td>\n",
       "      <td>NaN</td>\n",
       "      <td>NaN</td>\n",
       "      <td>FEM</td>\n",
       "      <td>87</td>\n",
       "      <td>INSTRUMENTAL - ULTRA VIOLET ABSORPTION</td>\n",
       "      <td>Colorado</td>\n",
       "      <td>Denver</td>\n",
       "      <td>2019-03-15</td>\n",
       "    </tr>\n",
       "  </tbody>\n",
       "</table>\n",
       "<p>5 rows × 24 columns</p>\n",
       "</div>"
      ],
      "text/plain": [
       "         state code  county code  site num  parameter code  poc   latitude  \\\n",
       "1999057           8           31         2           44201    6  39.751184   \n",
       "1999058           8           31         2           44201    6  39.751184   \n",
       "1999059           8           31         2           44201    6  39.751184   \n",
       "1999060           8           31         2           44201    6  39.751184   \n",
       "1999061           8           31         2           44201    6  39.751184   \n",
       "\n",
       "          longitude  datum parameter name  date local  ...   units of measure  \\\n",
       "1999057 -104.987625  WGS84          Ozone  2019-01-01  ...  Parts per million   \n",
       "1999058 -104.987625  WGS84          Ozone  2019-01-01  ...  Parts per million   \n",
       "1999059 -104.987625  WGS84          Ozone  2019-01-01  ...  Parts per million   \n",
       "1999060 -104.987625  WGS84          Ozone  2019-01-01  ...  Parts per million   \n",
       "1999061 -104.987625  WGS84          Ozone  2019-01-01  ...  Parts per million   \n",
       "\n",
       "           mdl uncertainty  qualifier method type  method code  \\\n",
       "1999057  0.005         NaN        NaN         FEM           87   \n",
       "1999058  0.005         NaN        NaN         FEM           87   \n",
       "1999059  0.005         NaN        NaN         FEM           87   \n",
       "1999060  0.005         NaN        NaN         FEM           87   \n",
       "1999061  0.005         NaN        NaN         FEM           87   \n",
       "\n",
       "                                    method name state name county name  \\\n",
       "1999057  INSTRUMENTAL - ULTRA VIOLET ABSORPTION   Colorado      Denver   \n",
       "1999058  INSTRUMENTAL - ULTRA VIOLET ABSORPTION   Colorado      Denver   \n",
       "1999059  INSTRUMENTAL - ULTRA VIOLET ABSORPTION   Colorado      Denver   \n",
       "1999060  INSTRUMENTAL - ULTRA VIOLET ABSORPTION   Colorado      Denver   \n",
       "1999061  INSTRUMENTAL - ULTRA VIOLET ABSORPTION   Colorado      Denver   \n",
       "\n",
       "         date of last change  \n",
       "1999057           2019-03-15  \n",
       "1999058           2019-03-15  \n",
       "1999059           2019-03-15  \n",
       "1999060           2019-03-15  \n",
       "1999061           2019-03-15  \n",
       "\n",
       "[5 rows x 24 columns]"
      ]
     },
     "execution_count": 9,
     "metadata": {},
     "output_type": "execute_result"
    }
   ],
   "source": [
    "df_col_oz.head()"
   ]
  },
  {
   "cell_type": "code",
   "execution_count": 10,
   "id": "0ab45775-855b-424e-85b7-5d26dc4f1d20",
   "metadata": {},
   "outputs": [
    {
     "data": {
      "text/plain": [
       "array([39.751184, 39.77949 ])"
      ]
     },
     "execution_count": 10,
     "metadata": {},
     "output_type": "execute_result"
    }
   ],
   "source": [
    "df_col_oz['latitude'].unique()"
   ]
  },
  {
   "cell_type": "code",
   "execution_count": 11,
   "id": "144350a4-dcff-4416-a1b9-9b09b06308b9",
   "metadata": {},
   "outputs": [
    {
     "data": {
      "text/plain": [
       "342"
      ]
     },
     "execution_count": 11,
     "metadata": {},
     "output_type": "execute_result"
    }
   ],
   "source": [
    "len(df_col_oz.loc[df_col_oz['latitude']==39.77949, 'date local'].unique())"
   ]
  },
  {
   "cell_type": "code",
   "execution_count": 12,
   "id": "550c3d7e-662d-443c-a3ca-fc938a0d41ac",
   "metadata": {},
   "outputs": [
    {
     "data": {
      "text/plain": [
       "361"
      ]
     },
     "execution_count": 12,
     "metadata": {},
     "output_type": "execute_result"
    }
   ],
   "source": [
    "len(df_col_oz.loc[df_col_oz['latitude']==39.751184, 'date local'].unique())"
   ]
  },
  {
   "cell_type": "code",
   "execution_count": 13,
   "id": "1216ad00-c49c-4462-afb2-aaa2d705fb1d",
   "metadata": {},
   "outputs": [],
   "source": [
    "df_col_oz = df_col_oz[df_col_oz['latitude']==39.751184]"
   ]
  },
  {
   "cell_type": "code",
   "execution_count": 14,
   "id": "92d08fac-5678-4916-b328-9b485f499087",
   "metadata": {},
   "outputs": [
    {
     "name": "stdout",
     "output_type": "stream",
     "text": [
      "<class 'pandas.core.frame.DataFrame'>\n",
      "Int64Index: 8639 entries, 1999057 to 2007695\n",
      "Data columns (total 24 columns):\n",
      " #   Column               Non-Null Count  Dtype  \n",
      "---  ------               --------------  -----  \n",
      " 0   state code           8639 non-null   int64  \n",
      " 1   county code          8639 non-null   int64  \n",
      " 2   site num             8639 non-null   int64  \n",
      " 3   parameter code       8639 non-null   int64  \n",
      " 4   poc                  8639 non-null   int64  \n",
      " 5   latitude             8639 non-null   float64\n",
      " 6   longitude            8639 non-null   float64\n",
      " 7   datum                8639 non-null   object \n",
      " 8   parameter name       8639 non-null   object \n",
      " 9   date local           8639 non-null   object \n",
      " 10  time local           8639 non-null   object \n",
      " 11  date gmt             8639 non-null   object \n",
      " 12  time gmt             8639 non-null   object \n",
      " 13  sample measurement   8639 non-null   float64\n",
      " 14  units of measure     8639 non-null   object \n",
      " 15  mdl                  8639 non-null   float64\n",
      " 16  uncertainty          0 non-null      float64\n",
      " 17  qualifier            0 non-null      object \n",
      " 18  method type          8639 non-null   object \n",
      " 19  method code          8639 non-null   int64  \n",
      " 20  method name          8639 non-null   object \n",
      " 21  state name           8639 non-null   object \n",
      " 22  county name          8639 non-null   object \n",
      " 23  date of last change  8639 non-null   object \n",
      "dtypes: float64(5), int64(6), object(13)\n",
      "memory usage: 1.6+ MB\n"
     ]
    }
   ],
   "source": [
    "df_col_oz.info()"
   ]
  },
  {
   "cell_type": "code",
   "execution_count": 15,
   "id": "97af1e32-a953-4955-920f-00ceee186929",
   "metadata": {},
   "outputs": [
    {
     "data": {
      "text/plain": [
       "array([0.005])"
      ]
     },
     "execution_count": 15,
     "metadata": {},
     "output_type": "execute_result"
    }
   ],
   "source": [
    "df_col_oz['mdl'].unique()"
   ]
  },
  {
   "cell_type": "code",
   "execution_count": 16,
   "id": "46387d67-8084-4803-9a44-6257ac3438ad",
   "metadata": {},
   "outputs": [
    {
     "data": {
      "text/plain": [
       "array([nan], dtype=object)"
      ]
     },
     "execution_count": 16,
     "metadata": {},
     "output_type": "execute_result"
    }
   ],
   "source": [
    "df_col_oz['qualifier'].unique()"
   ]
  },
  {
   "cell_type": "code",
   "execution_count": 17,
   "id": "3adb02ca-f6fe-43f1-bf97-11c37c4586f6",
   "metadata": {},
   "outputs": [],
   "source": [
    "useful_cols = ['date local', 'time local', 'sample measurement']\n",
    "df_col_oz = df_col_oz[useful_cols]"
   ]
  },
  {
   "cell_type": "code",
   "execution_count": 18,
   "id": "368b4744-f258-4ffa-bf06-0448784716a8",
   "metadata": {},
   "outputs": [
    {
     "data": {
      "text/html": [
       "<div>\n",
       "<style scoped>\n",
       "    .dataframe tbody tr th:only-of-type {\n",
       "        vertical-align: middle;\n",
       "    }\n",
       "\n",
       "    .dataframe tbody tr th {\n",
       "        vertical-align: top;\n",
       "    }\n",
       "\n",
       "    .dataframe thead th {\n",
       "        text-align: right;\n",
       "    }\n",
       "</style>\n",
       "<table border=\"1\" class=\"dataframe\">\n",
       "  <thead>\n",
       "    <tr style=\"text-align: right;\">\n",
       "      <th></th>\n",
       "      <th>date local</th>\n",
       "      <th>time local</th>\n",
       "      <th>sample measurement</th>\n",
       "    </tr>\n",
       "  </thead>\n",
       "  <tbody>\n",
       "    <tr>\n",
       "      <th>1999057</th>\n",
       "      <td>2019-01-01</td>\n",
       "      <td>00:00</td>\n",
       "      <td>0.013</td>\n",
       "    </tr>\n",
       "    <tr>\n",
       "      <th>1999058</th>\n",
       "      <td>2019-01-01</td>\n",
       "      <td>01:00</td>\n",
       "      <td>0.016</td>\n",
       "    </tr>\n",
       "    <tr>\n",
       "      <th>1999059</th>\n",
       "      <td>2019-01-01</td>\n",
       "      <td>02:00</td>\n",
       "      <td>0.016</td>\n",
       "    </tr>\n",
       "    <tr>\n",
       "      <th>1999060</th>\n",
       "      <td>2019-01-01</td>\n",
       "      <td>03:00</td>\n",
       "      <td>0.021</td>\n",
       "    </tr>\n",
       "    <tr>\n",
       "      <th>1999061</th>\n",
       "      <td>2019-01-01</td>\n",
       "      <td>04:00</td>\n",
       "      <td>0.023</td>\n",
       "    </tr>\n",
       "  </tbody>\n",
       "</table>\n",
       "</div>"
      ],
      "text/plain": [
       "         date local time local  sample measurement\n",
       "1999057  2019-01-01      00:00               0.013\n",
       "1999058  2019-01-01      01:00               0.016\n",
       "1999059  2019-01-01      02:00               0.016\n",
       "1999060  2019-01-01      03:00               0.021\n",
       "1999061  2019-01-01      04:00               0.023"
      ]
     },
     "execution_count": 18,
     "metadata": {},
     "output_type": "execute_result"
    }
   ],
   "source": [
    "df_col_oz.head()"
   ]
  },
  {
   "cell_type": "code",
   "execution_count": 19,
   "id": "7088dfda-62e9-4e47-91b1-397ac3180c84",
   "metadata": {},
   "outputs": [
    {
     "data": {
      "text/plain": [
       "(8639, 3)"
      ]
     },
     "execution_count": 19,
     "metadata": {},
     "output_type": "execute_result"
    }
   ],
   "source": [
    "df_col_oz.shape"
   ]
  },
  {
   "cell_type": "code",
   "execution_count": 20,
   "id": "b517bf71-b082-4f65-b2cd-ddd345cbbf60",
   "metadata": {},
   "outputs": [
    {
     "data": {
      "text/plain": [
       "0       2018-01-01 00:00:00\n",
       "1       2018-01-01 01:00:00\n",
       "2       2018-01-01 02:00:00\n",
       "3       2018-01-01 03:00:00\n",
       "4       2018-01-01 04:00:00\n",
       "                ...        \n",
       "17539   2020-01-01 19:00:00\n",
       "17540   2020-01-01 20:00:00\n",
       "17541   2020-01-01 21:00:00\n",
       "17542   2020-01-01 22:00:00\n",
       "17543   2020-01-01 23:00:00\n",
       "Name: datetime, Length: 17544, dtype: datetime64[ns]"
      ]
     },
     "execution_count": 20,
     "metadata": {},
     "output_type": "execute_result"
    }
   ],
   "source": [
    "pd.to_datetime(df_col_weather['datetime'])"
   ]
  },
  {
   "cell_type": "code",
   "execution_count": 21,
   "id": "4b3a85e6-8e27-4fa1-9127-8dd163c15e17",
   "metadata": {},
   "outputs": [
    {
     "data": {
      "text/plain": [
       "0        2018-01-01T00:00:00\n",
       "1        2018-01-01T01:00:00\n",
       "2        2018-01-01T02:00:00\n",
       "3        2018-01-01T03:00:00\n",
       "4        2018-01-01T04:00:00\n",
       "                ...         \n",
       "17539    2020-01-01T19:00:00\n",
       "17540    2020-01-01T20:00:00\n",
       "17541    2020-01-01T21:00:00\n",
       "17542    2020-01-01T22:00:00\n",
       "17543    2020-01-01T23:00:00\n",
       "Name: datetime, Length: 17544, dtype: object"
      ]
     },
     "execution_count": 21,
     "metadata": {},
     "output_type": "execute_result"
    }
   ],
   "source": [
    "df_col_weather['datetime']"
   ]
  },
  {
   "cell_type": "code",
   "execution_count": 22,
   "id": "33178ef3-e741-441c-bdbc-2a8c431791bd",
   "metadata": {},
   "outputs": [],
   "source": [
    "df_col_weather['datetime_dt'] = pd.to_datetime(df_col_weather['datetime'])"
   ]
  },
  {
   "cell_type": "code",
   "execution_count": null,
   "id": "85c9eabc-3f4f-4d25-bdc7-e289cfbf4345",
   "metadata": {},
   "outputs": [],
   "source": []
  },
  {
   "cell_type": "code",
   "execution_count": 23,
   "id": "0f3202f2-7b9d-4de1-8c7c-cfa8ab2d6d94",
   "metadata": {},
   "outputs": [
    {
     "data": {
      "text/plain": [
       "0       2018-01-01 00:00:00\n",
       "1       2018-01-01 01:00:00\n",
       "2       2018-01-01 02:00:00\n",
       "3       2018-01-01 03:00:00\n",
       "4       2018-01-01 04:00:00\n",
       "                ...        \n",
       "17539   2020-01-01 19:00:00\n",
       "17540   2020-01-01 20:00:00\n",
       "17541   2020-01-01 21:00:00\n",
       "17542   2020-01-01 22:00:00\n",
       "17543   2020-01-01 23:00:00\n",
       "Name: datetime_dt, Length: 17544, dtype: datetime64[ns]"
      ]
     },
     "execution_count": 23,
     "metadata": {},
     "output_type": "execute_result"
    }
   ],
   "source": [
    "df_col_weather['datetime_dt']"
   ]
  },
  {
   "cell_type": "code",
   "execution_count": 24,
   "id": "90dc0b99-378d-4aa3-9557-84d71c81c1a5",
   "metadata": {},
   "outputs": [
    {
     "data": {
      "text/html": [
       "<div>\n",
       "<style scoped>\n",
       "    .dataframe tbody tr th:only-of-type {\n",
       "        vertical-align: middle;\n",
       "    }\n",
       "\n",
       "    .dataframe tbody tr th {\n",
       "        vertical-align: top;\n",
       "    }\n",
       "\n",
       "    .dataframe thead th {\n",
       "        text-align: right;\n",
       "    }\n",
       "</style>\n",
       "<table border=\"1\" class=\"dataframe\">\n",
       "  <thead>\n",
       "    <tr style=\"text-align: right;\">\n",
       "      <th></th>\n",
       "      <th>date local</th>\n",
       "      <th>time local</th>\n",
       "      <th>sample measurement</th>\n",
       "      <th>datetime</th>\n",
       "    </tr>\n",
       "  </thead>\n",
       "  <tbody>\n",
       "    <tr>\n",
       "      <th>1999057</th>\n",
       "      <td>2019-01-01</td>\n",
       "      <td>00:00</td>\n",
       "      <td>0.013</td>\n",
       "      <td>2019-01-01 00:00:00</td>\n",
       "    </tr>\n",
       "    <tr>\n",
       "      <th>1999058</th>\n",
       "      <td>2019-01-01</td>\n",
       "      <td>01:00</td>\n",
       "      <td>0.016</td>\n",
       "      <td>2019-01-01 01:00:00</td>\n",
       "    </tr>\n",
       "    <tr>\n",
       "      <th>1999059</th>\n",
       "      <td>2019-01-01</td>\n",
       "      <td>02:00</td>\n",
       "      <td>0.016</td>\n",
       "      <td>2019-01-01 02:00:00</td>\n",
       "    </tr>\n",
       "    <tr>\n",
       "      <th>1999060</th>\n",
       "      <td>2019-01-01</td>\n",
       "      <td>03:00</td>\n",
       "      <td>0.021</td>\n",
       "      <td>2019-01-01 03:00:00</td>\n",
       "    </tr>\n",
       "    <tr>\n",
       "      <th>1999061</th>\n",
       "      <td>2019-01-01</td>\n",
       "      <td>04:00</td>\n",
       "      <td>0.023</td>\n",
       "      <td>2019-01-01 04:00:00</td>\n",
       "    </tr>\n",
       "    <tr>\n",
       "      <th>...</th>\n",
       "      <td>...</td>\n",
       "      <td>...</td>\n",
       "      <td>...</td>\n",
       "      <td>...</td>\n",
       "    </tr>\n",
       "    <tr>\n",
       "      <th>2007691</th>\n",
       "      <td>2019-12-31</td>\n",
       "      <td>19:00</td>\n",
       "      <td>0.002</td>\n",
       "      <td>2019-12-31 19:00:00</td>\n",
       "    </tr>\n",
       "    <tr>\n",
       "      <th>2007692</th>\n",
       "      <td>2019-12-31</td>\n",
       "      <td>20:00</td>\n",
       "      <td>0.003</td>\n",
       "      <td>2019-12-31 20:00:00</td>\n",
       "    </tr>\n",
       "    <tr>\n",
       "      <th>2007693</th>\n",
       "      <td>2019-12-31</td>\n",
       "      <td>21:00</td>\n",
       "      <td>0.011</td>\n",
       "      <td>2019-12-31 21:00:00</td>\n",
       "    </tr>\n",
       "    <tr>\n",
       "      <th>2007694</th>\n",
       "      <td>2019-12-31</td>\n",
       "      <td>22:00</td>\n",
       "      <td>0.022</td>\n",
       "      <td>2019-12-31 22:00:00</td>\n",
       "    </tr>\n",
       "    <tr>\n",
       "      <th>2007695</th>\n",
       "      <td>2019-12-31</td>\n",
       "      <td>23:00</td>\n",
       "      <td>0.025</td>\n",
       "      <td>2019-12-31 23:00:00</td>\n",
       "    </tr>\n",
       "  </tbody>\n",
       "</table>\n",
       "<p>8639 rows × 4 columns</p>\n",
       "</div>"
      ],
      "text/plain": [
       "         date local time local  sample measurement             datetime\n",
       "1999057  2019-01-01      00:00               0.013  2019-01-01 00:00:00\n",
       "1999058  2019-01-01      01:00               0.016  2019-01-01 01:00:00\n",
       "1999059  2019-01-01      02:00               0.016  2019-01-01 02:00:00\n",
       "1999060  2019-01-01      03:00               0.021  2019-01-01 03:00:00\n",
       "1999061  2019-01-01      04:00               0.023  2019-01-01 04:00:00\n",
       "...             ...        ...                 ...                  ...\n",
       "2007691  2019-12-31      19:00               0.002  2019-12-31 19:00:00\n",
       "2007692  2019-12-31      20:00               0.003  2019-12-31 20:00:00\n",
       "2007693  2019-12-31      21:00               0.011  2019-12-31 21:00:00\n",
       "2007694  2019-12-31      22:00               0.022  2019-12-31 22:00:00\n",
       "2007695  2019-12-31      23:00               0.025  2019-12-31 23:00:00\n",
       "\n",
       "[8639 rows x 4 columns]"
      ]
     },
     "execution_count": 24,
     "metadata": {},
     "output_type": "execute_result"
    }
   ],
   "source": [
    "df_col_oz['datetime'] = df_col_oz['date local'] + ' ' + df_col_oz['time local'] + ':00'\n",
    "df_col_oz"
   ]
  },
  {
   "cell_type": "code",
   "execution_count": 25,
   "id": "131e4de8-2c8b-4a02-9d25-e04b2d660345",
   "metadata": {},
   "outputs": [],
   "source": [
    "df_col_oz['datetime'] = pd.to_datetime(df_col_oz['datetime'])"
   ]
  },
  {
   "cell_type": "code",
   "execution_count": 26,
   "id": "1aebb01d-0918-496c-b3f2-5d33f32da70a",
   "metadata": {},
   "outputs": [
    {
     "data": {
      "text/plain": [
       "1999057   2019-01-01 00:00:00\n",
       "1999058   2019-01-01 01:00:00\n",
       "1999059   2019-01-01 02:00:00\n",
       "1999060   2019-01-01 03:00:00\n",
       "1999061   2019-01-01 04:00:00\n",
       "                  ...        \n",
       "2007691   2019-12-31 19:00:00\n",
       "2007692   2019-12-31 20:00:00\n",
       "2007693   2019-12-31 21:00:00\n",
       "2007694   2019-12-31 22:00:00\n",
       "2007695   2019-12-31 23:00:00\n",
       "Name: datetime, Length: 8639, dtype: datetime64[ns]"
      ]
     },
     "execution_count": 26,
     "metadata": {},
     "output_type": "execute_result"
    }
   ],
   "source": [
    "df_col_oz['datetime']"
   ]
  },
  {
   "cell_type": "code",
   "execution_count": 27,
   "id": "03e22149-b9df-4023-8093-ccb72203fa9e",
   "metadata": {},
   "outputs": [
    {
     "data": {
      "text/plain": [
       "0       2018-01-01 00:00:00\n",
       "1       2018-01-01 01:00:00\n",
       "2       2018-01-01 02:00:00\n",
       "3       2018-01-01 03:00:00\n",
       "4       2018-01-01 04:00:00\n",
       "                ...        \n",
       "17539   2020-01-01 19:00:00\n",
       "17540   2020-01-01 20:00:00\n",
       "17541   2020-01-01 21:00:00\n",
       "17542   2020-01-01 22:00:00\n",
       "17543   2020-01-01 23:00:00\n",
       "Name: datetime_dt, Length: 17544, dtype: datetime64[ns]"
      ]
     },
     "execution_count": 27,
     "metadata": {},
     "output_type": "execute_result"
    }
   ],
   "source": [
    "df_col_weather['datetime_dt']"
   ]
  },
  {
   "cell_type": "code",
   "execution_count": 28,
   "id": "717774c4-c022-45a7-9a43-2da303a263ac",
   "metadata": {},
   "outputs": [
    {
     "data": {
      "text/html": [
       "<div>\n",
       "<style scoped>\n",
       "    .dataframe tbody tr th:only-of-type {\n",
       "        vertical-align: middle;\n",
       "    }\n",
       "\n",
       "    .dataframe tbody tr th {\n",
       "        vertical-align: top;\n",
       "    }\n",
       "\n",
       "    .dataframe thead th {\n",
       "        text-align: right;\n",
       "    }\n",
       "</style>\n",
       "<table border=\"1\" class=\"dataframe\">\n",
       "  <thead>\n",
       "    <tr style=\"text-align: right;\">\n",
       "      <th></th>\n",
       "      <th>date local</th>\n",
       "      <th>time local</th>\n",
       "      <th>sample measurement</th>\n",
       "      <th>datetime</th>\n",
       "    </tr>\n",
       "  </thead>\n",
       "  <tbody>\n",
       "    <tr>\n",
       "      <th>1999057</th>\n",
       "      <td>2019-01-01</td>\n",
       "      <td>00:00</td>\n",
       "      <td>0.013</td>\n",
       "      <td>2019-01-01 00:00:00</td>\n",
       "    </tr>\n",
       "    <tr>\n",
       "      <th>1999058</th>\n",
       "      <td>2019-01-01</td>\n",
       "      <td>01:00</td>\n",
       "      <td>0.016</td>\n",
       "      <td>2019-01-01 01:00:00</td>\n",
       "    </tr>\n",
       "    <tr>\n",
       "      <th>1999059</th>\n",
       "      <td>2019-01-01</td>\n",
       "      <td>02:00</td>\n",
       "      <td>0.016</td>\n",
       "      <td>2019-01-01 02:00:00</td>\n",
       "    </tr>\n",
       "    <tr>\n",
       "      <th>1999060</th>\n",
       "      <td>2019-01-01</td>\n",
       "      <td>03:00</td>\n",
       "      <td>0.021</td>\n",
       "      <td>2019-01-01 03:00:00</td>\n",
       "    </tr>\n",
       "    <tr>\n",
       "      <th>1999061</th>\n",
       "      <td>2019-01-01</td>\n",
       "      <td>04:00</td>\n",
       "      <td>0.023</td>\n",
       "      <td>2019-01-01 04:00:00</td>\n",
       "    </tr>\n",
       "  </tbody>\n",
       "</table>\n",
       "</div>"
      ],
      "text/plain": [
       "         date local time local  sample measurement            datetime\n",
       "1999057  2019-01-01      00:00               0.013 2019-01-01 00:00:00\n",
       "1999058  2019-01-01      01:00               0.016 2019-01-01 01:00:00\n",
       "1999059  2019-01-01      02:00               0.016 2019-01-01 02:00:00\n",
       "1999060  2019-01-01      03:00               0.021 2019-01-01 03:00:00\n",
       "1999061  2019-01-01      04:00               0.023 2019-01-01 04:00:00"
      ]
     },
     "execution_count": 28,
     "metadata": {},
     "output_type": "execute_result"
    }
   ],
   "source": [
    "df_col_oz.head()"
   ]
  },
  {
   "cell_type": "code",
   "execution_count": 29,
   "id": "c88bcef9-c495-4df1-a310-38a4b4e6aef5",
   "metadata": {},
   "outputs": [],
   "source": [
    "df_col = df_col_oz.merge(df_col_weather, left_on='datetime', right_on='datetime_dt', suffixes=('_oz', '_weather'), how='left')"
   ]
  },
  {
   "cell_type": "code",
   "execution_count": 30,
   "id": "dd6c7fea-c895-40c2-a49b-d1b980e57e9d",
   "metadata": {},
   "outputs": [
    {
     "name": "stdout",
     "output_type": "stream",
     "text": [
      "<class 'pandas.core.frame.DataFrame'>\n",
      "Int64Index: 8640 entries, 0 to 8639\n",
      "Data columns (total 29 columns):\n",
      " #   Column              Non-Null Count  Dtype         \n",
      "---  ------              --------------  -----         \n",
      " 0   date local          8640 non-null   object        \n",
      " 1   time local          8640 non-null   object        \n",
      " 2   sample measurement  8640 non-null   float64       \n",
      " 3   datetime_oz         8640 non-null   datetime64[ns]\n",
      " 4   name                8639 non-null   object        \n",
      " 5   datetime_weather    8639 non-null   object        \n",
      " 6   temp                8639 non-null   float64       \n",
      " 7   feelslike           8639 non-null   float64       \n",
      " 8   dew                 8639 non-null   float64       \n",
      " 9   humidity            8639 non-null   float64       \n",
      " 10  precip              8581 non-null   float64       \n",
      " 11  precipprob          0 non-null      float64       \n",
      " 12  preciptype          0 non-null      float64       \n",
      " 13  snow                8639 non-null   float64       \n",
      " 14  snowdepth           8639 non-null   float64       \n",
      " 15  windgust            1673 non-null   float64       \n",
      " 16  windspeed           8639 non-null   float64       \n",
      " 17  winddir             8637 non-null   float64       \n",
      " 18  sealevelpressure    8639 non-null   float64       \n",
      " 19  cloudcover          8639 non-null   float64       \n",
      " 20  visibility          8639 non-null   float64       \n",
      " 21  solarradiation      0 non-null      float64       \n",
      " 22  solarenergy         0 non-null      float64       \n",
      " 23  uvindex             8639 non-null   float64       \n",
      " 24  severerisk          0 non-null      float64       \n",
      " 25  conditions          8639 non-null   object        \n",
      " 26  icon                8639 non-null   object        \n",
      " 27  stations            8639 non-null   object        \n",
      " 28  datetime_dt         8639 non-null   datetime64[ns]\n",
      "dtypes: datetime64[ns](2), float64(20), object(7)\n",
      "memory usage: 2.0+ MB\n"
     ]
    }
   ],
   "source": [
    "df_col.info()"
   ]
  },
  {
   "cell_type": "code",
   "execution_count": 31,
   "id": "abcd787c-4498-4934-8c99-6de3c11f0c4e",
   "metadata": {},
   "outputs": [],
   "source": [
    "df_col['day_of_week'] = df_col['datetime_dt'].dt.dayofweek"
   ]
  },
  {
   "cell_type": "code",
   "execution_count": 32,
   "id": "921413bb-9165-4853-830f-1af26e367182",
   "metadata": {},
   "outputs": [],
   "source": [
    "df_col['type of day'] = 'weekday'"
   ]
  },
  {
   "cell_type": "code",
   "execution_count": 33,
   "id": "0fb5f5e6-80a1-4295-ab91-2dd7a1145f02",
   "metadata": {},
   "outputs": [],
   "source": [
    "weekend_mask = ((df_col['day_of_week']==5) | (df_col['day_of_week']==6))\n",
    "df_col.loc[weekend_mask, 'type of day'] = 'weekend'"
   ]
  },
  {
   "cell_type": "code",
   "execution_count": 34,
   "id": "2b20664c-f211-42ed-93b9-dbd9042fca19",
   "metadata": {},
   "outputs": [
    {
     "data": {
      "text/html": [
       "<div>\n",
       "<style scoped>\n",
       "    .dataframe tbody tr th:only-of-type {\n",
       "        vertical-align: middle;\n",
       "    }\n",
       "\n",
       "    .dataframe tbody tr th {\n",
       "        vertical-align: top;\n",
       "    }\n",
       "\n",
       "    .dataframe thead th {\n",
       "        text-align: right;\n",
       "    }\n",
       "</style>\n",
       "<table border=\"1\" class=\"dataframe\">\n",
       "  <thead>\n",
       "    <tr style=\"text-align: right;\">\n",
       "      <th></th>\n",
       "      <th>sample measurement</th>\n",
       "    </tr>\n",
       "    <tr>\n",
       "      <th>type of day</th>\n",
       "      <th></th>\n",
       "    </tr>\n",
       "  </thead>\n",
       "  <tbody>\n",
       "    <tr>\n",
       "      <th>weekday</th>\n",
       "      <td>0.025862</td>\n",
       "    </tr>\n",
       "    <tr>\n",
       "      <th>weekend</th>\n",
       "      <td>0.030961</td>\n",
       "    </tr>\n",
       "  </tbody>\n",
       "</table>\n",
       "</div>"
      ],
      "text/plain": [
       "             sample measurement\n",
       "type of day                    \n",
       "weekday                0.025862\n",
       "weekend                0.030961"
      ]
     },
     "execution_count": 34,
     "metadata": {},
     "output_type": "execute_result"
    }
   ],
   "source": [
    "df_col.groupby('type of day').agg({'sample measurement': 'mean'})"
   ]
  },
  {
   "cell_type": "code",
   "execution_count": 35,
   "id": "7700555d-4427-4574-9a69-e122bef5e632",
   "metadata": {},
   "outputs": [
    {
     "data": {
      "text/html": [
       "<div>\n",
       "<style scoped>\n",
       "    .dataframe tbody tr th:only-of-type {\n",
       "        vertical-align: middle;\n",
       "    }\n",
       "\n",
       "    .dataframe tbody tr th {\n",
       "        vertical-align: top;\n",
       "    }\n",
       "\n",
       "    .dataframe thead th {\n",
       "        text-align: right;\n",
       "    }\n",
       "</style>\n",
       "<table border=\"1\" class=\"dataframe\">\n",
       "  <thead>\n",
       "    <tr style=\"text-align: right;\">\n",
       "      <th></th>\n",
       "      <th>sample measurement</th>\n",
       "    </tr>\n",
       "    <tr>\n",
       "      <th>conditions</th>\n",
       "      <th></th>\n",
       "    </tr>\n",
       "  </thead>\n",
       "  <tbody>\n",
       "    <tr>\n",
       "      <th>Clear</th>\n",
       "      <td>0.018760</td>\n",
       "    </tr>\n",
       "    <tr>\n",
       "      <th>Overcast</th>\n",
       "      <td>0.018964</td>\n",
       "    </tr>\n",
       "    <tr>\n",
       "      <th>Partially cloudy</th>\n",
       "      <td>0.029132</td>\n",
       "    </tr>\n",
       "    <tr>\n",
       "      <th>Rain, Overcast</th>\n",
       "      <td>0.017875</td>\n",
       "    </tr>\n",
       "    <tr>\n",
       "      <th>Rain, Partially cloudy</th>\n",
       "      <td>0.034946</td>\n",
       "    </tr>\n",
       "    <tr>\n",
       "      <th>Snow, Overcast</th>\n",
       "      <td>0.017460</td>\n",
       "    </tr>\n",
       "    <tr>\n",
       "      <th>Snow, Partially cloudy</th>\n",
       "      <td>0.018608</td>\n",
       "    </tr>\n",
       "  </tbody>\n",
       "</table>\n",
       "</div>"
      ],
      "text/plain": [
       "                        sample measurement\n",
       "conditions                                \n",
       "Clear                             0.018760\n",
       "Overcast                          0.018964\n",
       "Partially cloudy                  0.029132\n",
       "Rain, Overcast                    0.017875\n",
       "Rain, Partially cloudy            0.034946\n",
       "Snow, Overcast                    0.017460\n",
       "Snow, Partially cloudy            0.018608"
      ]
     },
     "execution_count": 35,
     "metadata": {},
     "output_type": "execute_result"
    }
   ],
   "source": [
    "df_col.groupby('conditions').agg({'sample measurement': 'mean'})"
   ]
  },
  {
   "cell_type": "code",
   "execution_count": 36,
   "id": "a12f4b1e-46c7-4d01-81ea-86ff73f23bc4",
   "metadata": {},
   "outputs": [
    {
     "data": {
      "text/html": [
       "<div>\n",
       "<style scoped>\n",
       "    .dataframe tbody tr th:only-of-type {\n",
       "        vertical-align: middle;\n",
       "    }\n",
       "\n",
       "    .dataframe tbody tr th {\n",
       "        vertical-align: top;\n",
       "    }\n",
       "\n",
       "    .dataframe thead th {\n",
       "        text-align: right;\n",
       "    }\n",
       "</style>\n",
       "<table border=\"1\" class=\"dataframe\">\n",
       "  <thead>\n",
       "    <tr style=\"text-align: right;\">\n",
       "      <th></th>\n",
       "      <th>date local</th>\n",
       "      <th>time local</th>\n",
       "      <th>sample measurement</th>\n",
       "      <th>datetime_oz</th>\n",
       "      <th>name</th>\n",
       "      <th>datetime_weather</th>\n",
       "      <th>temp</th>\n",
       "      <th>feelslike</th>\n",
       "      <th>dew</th>\n",
       "      <th>humidity</th>\n",
       "      <th>...</th>\n",
       "      <th>solarenergy</th>\n",
       "      <th>uvindex</th>\n",
       "      <th>severerisk</th>\n",
       "      <th>conditions</th>\n",
       "      <th>icon</th>\n",
       "      <th>stations</th>\n",
       "      <th>datetime_dt</th>\n",
       "      <th>day_of_week</th>\n",
       "      <th>type of day</th>\n",
       "      <th>hour</th>\n",
       "    </tr>\n",
       "  </thead>\n",
       "  <tbody>\n",
       "    <tr>\n",
       "      <th>0</th>\n",
       "      <td>2019-01-01</td>\n",
       "      <td>00:00</td>\n",
       "      <td>0.013</td>\n",
       "      <td>2019-01-01 00:00:00</td>\n",
       "      <td>39.75, -104.987625</td>\n",
       "      <td>2019-01-01T00:00:00</td>\n",
       "      <td>0.9</td>\n",
       "      <td>-9.7</td>\n",
       "      <td>-1.6</td>\n",
       "      <td>88.81</td>\n",
       "      <td>...</td>\n",
       "      <td>NaN</td>\n",
       "      <td>0.0</td>\n",
       "      <td>NaN</td>\n",
       "      <td>Partially cloudy</td>\n",
       "      <td>snow</td>\n",
       "      <td>KBKF,KDEN,72469523036,KAPA,72565003017,7246669...</td>\n",
       "      <td>2019-01-01 00:00:00</td>\n",
       "      <td>1.0</td>\n",
       "      <td>weekday</td>\n",
       "      <td>0.0</td>\n",
       "    </tr>\n",
       "    <tr>\n",
       "      <th>1</th>\n",
       "      <td>2019-01-01</td>\n",
       "      <td>01:00</td>\n",
       "      <td>0.016</td>\n",
       "      <td>2019-01-01 01:00:00</td>\n",
       "      <td>39.75, -104.987625</td>\n",
       "      <td>2019-01-01T01:00:00</td>\n",
       "      <td>0.1</td>\n",
       "      <td>-10.4</td>\n",
       "      <td>-3.1</td>\n",
       "      <td>86.21</td>\n",
       "      <td>...</td>\n",
       "      <td>NaN</td>\n",
       "      <td>0.0</td>\n",
       "      <td>NaN</td>\n",
       "      <td>Overcast</td>\n",
       "      <td>snow</td>\n",
       "      <td>KBKF,KDEN,72469523036,KAPA,72565003017,7246669...</td>\n",
       "      <td>2019-01-01 01:00:00</td>\n",
       "      <td>1.0</td>\n",
       "      <td>weekday</td>\n",
       "      <td>1.0</td>\n",
       "    </tr>\n",
       "    <tr>\n",
       "      <th>2</th>\n",
       "      <td>2019-01-01</td>\n",
       "      <td>02:00</td>\n",
       "      <td>0.016</td>\n",
       "      <td>2019-01-01 02:00:00</td>\n",
       "      <td>39.75, -104.987625</td>\n",
       "      <td>2019-01-01T02:00:00</td>\n",
       "      <td>0.2</td>\n",
       "      <td>-10.9</td>\n",
       "      <td>-2.9</td>\n",
       "      <td>86.25</td>\n",
       "      <td>...</td>\n",
       "      <td>NaN</td>\n",
       "      <td>0.0</td>\n",
       "      <td>NaN</td>\n",
       "      <td>Overcast</td>\n",
       "      <td>snow</td>\n",
       "      <td>KBKF,KDEN,72469523036,KAPA,72565003017,7246669...</td>\n",
       "      <td>2019-01-01 02:00:00</td>\n",
       "      <td>1.0</td>\n",
       "      <td>weekday</td>\n",
       "      <td>2.0</td>\n",
       "    </tr>\n",
       "    <tr>\n",
       "      <th>3</th>\n",
       "      <td>2019-01-01</td>\n",
       "      <td>03:00</td>\n",
       "      <td>0.021</td>\n",
       "      <td>2019-01-01 03:00:00</td>\n",
       "      <td>39.75, -104.987625</td>\n",
       "      <td>2019-01-01T03:00:00</td>\n",
       "      <td>0.5</td>\n",
       "      <td>-12.5</td>\n",
       "      <td>-2.7</td>\n",
       "      <td>85.95</td>\n",
       "      <td>...</td>\n",
       "      <td>NaN</td>\n",
       "      <td>0.0</td>\n",
       "      <td>NaN</td>\n",
       "      <td>Overcast</td>\n",
       "      <td>snow</td>\n",
       "      <td>KBKF,72469523036,KAPA,72565003017,72466693067</td>\n",
       "      <td>2019-01-01 03:00:00</td>\n",
       "      <td>1.0</td>\n",
       "      <td>weekday</td>\n",
       "      <td>3.0</td>\n",
       "    </tr>\n",
       "    <tr>\n",
       "      <th>4</th>\n",
       "      <td>2019-01-01</td>\n",
       "      <td>04:00</td>\n",
       "      <td>0.023</td>\n",
       "      <td>2019-01-01 04:00:00</td>\n",
       "      <td>39.75, -104.987625</td>\n",
       "      <td>2019-01-01T04:00:00</td>\n",
       "      <td>0.4</td>\n",
       "      <td>-13.3</td>\n",
       "      <td>-3.0</td>\n",
       "      <td>85.06</td>\n",
       "      <td>...</td>\n",
       "      <td>NaN</td>\n",
       "      <td>0.0</td>\n",
       "      <td>NaN</td>\n",
       "      <td>Partially cloudy</td>\n",
       "      <td>snow</td>\n",
       "      <td>KBKF,KDEN,72469523036,KAPA,72565003017,7246669...</td>\n",
       "      <td>2019-01-01 04:00:00</td>\n",
       "      <td>1.0</td>\n",
       "      <td>weekday</td>\n",
       "      <td>4.0</td>\n",
       "    </tr>\n",
       "    <tr>\n",
       "      <th>...</th>\n",
       "      <td>...</td>\n",
       "      <td>...</td>\n",
       "      <td>...</td>\n",
       "      <td>...</td>\n",
       "      <td>...</td>\n",
       "      <td>...</td>\n",
       "      <td>...</td>\n",
       "      <td>...</td>\n",
       "      <td>...</td>\n",
       "      <td>...</td>\n",
       "      <td>...</td>\n",
       "      <td>...</td>\n",
       "      <td>...</td>\n",
       "      <td>...</td>\n",
       "      <td>...</td>\n",
       "      <td>...</td>\n",
       "      <td>...</td>\n",
       "      <td>...</td>\n",
       "      <td>...</td>\n",
       "      <td>...</td>\n",
       "      <td>...</td>\n",
       "    </tr>\n",
       "    <tr>\n",
       "      <th>8635</th>\n",
       "      <td>2019-12-31</td>\n",
       "      <td>19:00</td>\n",
       "      <td>0.002</td>\n",
       "      <td>2019-12-31 19:00:00</td>\n",
       "      <td>39.75, -104.987625</td>\n",
       "      <td>2019-12-31T19:00:00</td>\n",
       "      <td>31.1</td>\n",
       "      <td>23.4</td>\n",
       "      <td>8.2</td>\n",
       "      <td>37.63</td>\n",
       "      <td>...</td>\n",
       "      <td>NaN</td>\n",
       "      <td>0.0</td>\n",
       "      <td>NaN</td>\n",
       "      <td>Clear</td>\n",
       "      <td>clear-night</td>\n",
       "      <td>KBKF,KDEN,72469523036,KAPA,72565003017,7246669...</td>\n",
       "      <td>2019-12-31 19:00:00</td>\n",
       "      <td>1.0</td>\n",
       "      <td>weekday</td>\n",
       "      <td>19.0</td>\n",
       "    </tr>\n",
       "    <tr>\n",
       "      <th>8636</th>\n",
       "      <td>2019-12-31</td>\n",
       "      <td>20:00</td>\n",
       "      <td>0.003</td>\n",
       "      <td>2019-12-31 20:00:00</td>\n",
       "      <td>39.75, -104.987625</td>\n",
       "      <td>2019-12-31T20:00:00</td>\n",
       "      <td>30.3</td>\n",
       "      <td>24.4</td>\n",
       "      <td>7.2</td>\n",
       "      <td>37.17</td>\n",
       "      <td>...</td>\n",
       "      <td>NaN</td>\n",
       "      <td>0.0</td>\n",
       "      <td>NaN</td>\n",
       "      <td>Clear</td>\n",
       "      <td>clear-night</td>\n",
       "      <td>KBKF,KDEN,72469523036,KAPA,72565003017,7246669...</td>\n",
       "      <td>2019-12-31 20:00:00</td>\n",
       "      <td>1.0</td>\n",
       "      <td>weekday</td>\n",
       "      <td>20.0</td>\n",
       "    </tr>\n",
       "    <tr>\n",
       "      <th>8637</th>\n",
       "      <td>2019-12-31</td>\n",
       "      <td>21:00</td>\n",
       "      <td>0.011</td>\n",
       "      <td>2019-12-31 21:00:00</td>\n",
       "      <td>39.75, -104.987625</td>\n",
       "      <td>2019-12-31T21:00:00</td>\n",
       "      <td>31.8</td>\n",
       "      <td>23.9</td>\n",
       "      <td>5.3</td>\n",
       "      <td>32.11</td>\n",
       "      <td>...</td>\n",
       "      <td>NaN</td>\n",
       "      <td>0.0</td>\n",
       "      <td>NaN</td>\n",
       "      <td>Partially cloudy</td>\n",
       "      <td>partly-cloudy-night</td>\n",
       "      <td>KBKF,KDEN,72469523036,KAPA,72565003017,7246669...</td>\n",
       "      <td>2019-12-31 21:00:00</td>\n",
       "      <td>1.0</td>\n",
       "      <td>weekday</td>\n",
       "      <td>21.0</td>\n",
       "    </tr>\n",
       "    <tr>\n",
       "      <th>8638</th>\n",
       "      <td>2019-12-31</td>\n",
       "      <td>22:00</td>\n",
       "      <td>0.022</td>\n",
       "      <td>2019-12-31 22:00:00</td>\n",
       "      <td>39.75, -104.987625</td>\n",
       "      <td>2019-12-31T22:00:00</td>\n",
       "      <td>31.5</td>\n",
       "      <td>23.2</td>\n",
       "      <td>6.5</td>\n",
       "      <td>34.29</td>\n",
       "      <td>...</td>\n",
       "      <td>NaN</td>\n",
       "      <td>0.0</td>\n",
       "      <td>NaN</td>\n",
       "      <td>Partially cloudy</td>\n",
       "      <td>partly-cloudy-night</td>\n",
       "      <td>KBKF,KDEN,72469523036,KAPA,72565003017,7246669...</td>\n",
       "      <td>2019-12-31 22:00:00</td>\n",
       "      <td>1.0</td>\n",
       "      <td>weekday</td>\n",
       "      <td>22.0</td>\n",
       "    </tr>\n",
       "    <tr>\n",
       "      <th>8639</th>\n",
       "      <td>2019-12-31</td>\n",
       "      <td>23:00</td>\n",
       "      <td>0.025</td>\n",
       "      <td>2019-12-31 23:00:00</td>\n",
       "      <td>39.75, -104.987625</td>\n",
       "      <td>2019-12-31T23:00:00</td>\n",
       "      <td>30.4</td>\n",
       "      <td>22.3</td>\n",
       "      <td>7.2</td>\n",
       "      <td>36.92</td>\n",
       "      <td>...</td>\n",
       "      <td>NaN</td>\n",
       "      <td>0.0</td>\n",
       "      <td>NaN</td>\n",
       "      <td>Partially cloudy</td>\n",
       "      <td>partly-cloudy-night</td>\n",
       "      <td>KBKF,KDEN,72469523036,KAPA,72565003017,7246669...</td>\n",
       "      <td>2019-12-31 23:00:00</td>\n",
       "      <td>1.0</td>\n",
       "      <td>weekday</td>\n",
       "      <td>23.0</td>\n",
       "    </tr>\n",
       "  </tbody>\n",
       "</table>\n",
       "<p>8640 rows × 32 columns</p>\n",
       "</div>"
      ],
      "text/plain": [
       "      date local time local  sample measurement         datetime_oz  \\\n",
       "0     2019-01-01      00:00               0.013 2019-01-01 00:00:00   \n",
       "1     2019-01-01      01:00               0.016 2019-01-01 01:00:00   \n",
       "2     2019-01-01      02:00               0.016 2019-01-01 02:00:00   \n",
       "3     2019-01-01      03:00               0.021 2019-01-01 03:00:00   \n",
       "4     2019-01-01      04:00               0.023 2019-01-01 04:00:00   \n",
       "...          ...        ...                 ...                 ...   \n",
       "8635  2019-12-31      19:00               0.002 2019-12-31 19:00:00   \n",
       "8636  2019-12-31      20:00               0.003 2019-12-31 20:00:00   \n",
       "8637  2019-12-31      21:00               0.011 2019-12-31 21:00:00   \n",
       "8638  2019-12-31      22:00               0.022 2019-12-31 22:00:00   \n",
       "8639  2019-12-31      23:00               0.025 2019-12-31 23:00:00   \n",
       "\n",
       "                    name     datetime_weather  temp  feelslike  dew  humidity  \\\n",
       "0     39.75, -104.987625  2019-01-01T00:00:00   0.9       -9.7 -1.6     88.81   \n",
       "1     39.75, -104.987625  2019-01-01T01:00:00   0.1      -10.4 -3.1     86.21   \n",
       "2     39.75, -104.987625  2019-01-01T02:00:00   0.2      -10.9 -2.9     86.25   \n",
       "3     39.75, -104.987625  2019-01-01T03:00:00   0.5      -12.5 -2.7     85.95   \n",
       "4     39.75, -104.987625  2019-01-01T04:00:00   0.4      -13.3 -3.0     85.06   \n",
       "...                  ...                  ...   ...        ...  ...       ...   \n",
       "8635  39.75, -104.987625  2019-12-31T19:00:00  31.1       23.4  8.2     37.63   \n",
       "8636  39.75, -104.987625  2019-12-31T20:00:00  30.3       24.4  7.2     37.17   \n",
       "8637  39.75, -104.987625  2019-12-31T21:00:00  31.8       23.9  5.3     32.11   \n",
       "8638  39.75, -104.987625  2019-12-31T22:00:00  31.5       23.2  6.5     34.29   \n",
       "8639  39.75, -104.987625  2019-12-31T23:00:00  30.4       22.3  7.2     36.92   \n",
       "\n",
       "      ...  solarenergy  uvindex  severerisk        conditions  \\\n",
       "0     ...          NaN      0.0         NaN  Partially cloudy   \n",
       "1     ...          NaN      0.0         NaN          Overcast   \n",
       "2     ...          NaN      0.0         NaN          Overcast   \n",
       "3     ...          NaN      0.0         NaN          Overcast   \n",
       "4     ...          NaN      0.0         NaN  Partially cloudy   \n",
       "...   ...          ...      ...         ...               ...   \n",
       "8635  ...          NaN      0.0         NaN             Clear   \n",
       "8636  ...          NaN      0.0         NaN             Clear   \n",
       "8637  ...          NaN      0.0         NaN  Partially cloudy   \n",
       "8638  ...          NaN      0.0         NaN  Partially cloudy   \n",
       "8639  ...          NaN      0.0         NaN  Partially cloudy   \n",
       "\n",
       "                     icon                                           stations  \\\n",
       "0                    snow  KBKF,KDEN,72469523036,KAPA,72565003017,7246669...   \n",
       "1                    snow  KBKF,KDEN,72469523036,KAPA,72565003017,7246669...   \n",
       "2                    snow  KBKF,KDEN,72469523036,KAPA,72565003017,7246669...   \n",
       "3                    snow      KBKF,72469523036,KAPA,72565003017,72466693067   \n",
       "4                    snow  KBKF,KDEN,72469523036,KAPA,72565003017,7246669...   \n",
       "...                   ...                                                ...   \n",
       "8635          clear-night  KBKF,KDEN,72469523036,KAPA,72565003017,7246669...   \n",
       "8636          clear-night  KBKF,KDEN,72469523036,KAPA,72565003017,7246669...   \n",
       "8637  partly-cloudy-night  KBKF,KDEN,72469523036,KAPA,72565003017,7246669...   \n",
       "8638  partly-cloudy-night  KBKF,KDEN,72469523036,KAPA,72565003017,7246669...   \n",
       "8639  partly-cloudy-night  KBKF,KDEN,72469523036,KAPA,72565003017,7246669...   \n",
       "\n",
       "             datetime_dt  day_of_week  type of day  hour  \n",
       "0    2019-01-01 00:00:00          1.0      weekday   0.0  \n",
       "1    2019-01-01 01:00:00          1.0      weekday   1.0  \n",
       "2    2019-01-01 02:00:00          1.0      weekday   2.0  \n",
       "3    2019-01-01 03:00:00          1.0      weekday   3.0  \n",
       "4    2019-01-01 04:00:00          1.0      weekday   4.0  \n",
       "...                  ...          ...          ...   ...  \n",
       "8635 2019-12-31 19:00:00          1.0      weekday  19.0  \n",
       "8636 2019-12-31 20:00:00          1.0      weekday  20.0  \n",
       "8637 2019-12-31 21:00:00          1.0      weekday  21.0  \n",
       "8638 2019-12-31 22:00:00          1.0      weekday  22.0  \n",
       "8639 2019-12-31 23:00:00          1.0      weekday  23.0  \n",
       "\n",
       "[8640 rows x 32 columns]"
      ]
     },
     "execution_count": 36,
     "metadata": {},
     "output_type": "execute_result"
    }
   ],
   "source": [
    "df_col['hour'] = df_col['datetime_dt'].dt.hour\n",
    "df_col"
   ]
  },
  {
   "cell_type": "code",
   "execution_count": 37,
   "id": "2f9a032a-1203-4a89-9855-0901ca9cb01b",
   "metadata": {},
   "outputs": [
    {
     "data": {
      "text/html": [
       "<div>\n",
       "<style scoped>\n",
       "    .dataframe tbody tr th:only-of-type {\n",
       "        vertical-align: middle;\n",
       "    }\n",
       "\n",
       "    .dataframe tbody tr th {\n",
       "        vertical-align: top;\n",
       "    }\n",
       "\n",
       "    .dataframe thead th {\n",
       "        text-align: right;\n",
       "    }\n",
       "</style>\n",
       "<table border=\"1\" class=\"dataframe\">\n",
       "  <thead>\n",
       "    <tr style=\"text-align: right;\">\n",
       "      <th></th>\n",
       "      <th>sample measurement</th>\n",
       "    </tr>\n",
       "    <tr>\n",
       "      <th>month</th>\n",
       "      <th></th>\n",
       "    </tr>\n",
       "  </thead>\n",
       "  <tbody>\n",
       "    <tr>\n",
       "      <th>1.0</th>\n",
       "      <td>0.015444</td>\n",
       "    </tr>\n",
       "    <tr>\n",
       "      <th>2.0</th>\n",
       "      <td>0.016525</td>\n",
       "    </tr>\n",
       "    <tr>\n",
       "      <th>3.0</th>\n",
       "      <td>0.026470</td>\n",
       "    </tr>\n",
       "    <tr>\n",
       "      <th>4.0</th>\n",
       "      <td>0.032462</td>\n",
       "    </tr>\n",
       "    <tr>\n",
       "      <th>5.0</th>\n",
       "      <td>0.031878</td>\n",
       "    </tr>\n",
       "    <tr>\n",
       "      <th>6.0</th>\n",
       "      <td>0.039393</td>\n",
       "    </tr>\n",
       "    <tr>\n",
       "      <th>7.0</th>\n",
       "      <td>0.039472</td>\n",
       "    </tr>\n",
       "    <tr>\n",
       "      <th>8.0</th>\n",
       "      <td>0.040916</td>\n",
       "    </tr>\n",
       "    <tr>\n",
       "      <th>9.0</th>\n",
       "      <td>0.032408</td>\n",
       "    </tr>\n",
       "    <tr>\n",
       "      <th>10.0</th>\n",
       "      <td>0.022355</td>\n",
       "    </tr>\n",
       "    <tr>\n",
       "      <th>11.0</th>\n",
       "      <td>0.014479</td>\n",
       "    </tr>\n",
       "    <tr>\n",
       "      <th>12.0</th>\n",
       "      <td>0.014953</td>\n",
       "    </tr>\n",
       "  </tbody>\n",
       "</table>\n",
       "</div>"
      ],
      "text/plain": [
       "       sample measurement\n",
       "month                    \n",
       "1.0              0.015444\n",
       "2.0              0.016525\n",
       "3.0              0.026470\n",
       "4.0              0.032462\n",
       "5.0              0.031878\n",
       "6.0              0.039393\n",
       "7.0              0.039472\n",
       "8.0              0.040916\n",
       "9.0              0.032408\n",
       "10.0             0.022355\n",
       "11.0             0.014479\n",
       "12.0             0.014953"
      ]
     },
     "execution_count": 37,
     "metadata": {},
     "output_type": "execute_result"
    }
   ],
   "source": [
    "df_col['month'] = df_col['datetime_dt'].dt.month\n",
    "df_col.groupby('month').agg({'sample measurement': 'mean'})"
   ]
  },
  {
   "cell_type": "code",
   "execution_count": 38,
   "id": "c0de0532-8c3f-4f10-916b-d65437c817e0",
   "metadata": {},
   "outputs": [],
   "source": [
    "# The month seems to be important, let's parameterize it cyclicly\n",
    "df_col['month_x'] = np.cos(np.pi/6.0*df_col['month'])\n",
    "df_col['month_y'] = np.sin(np.pi/6.0*df_col['month'])"
   ]
  },
  {
   "cell_type": "code",
   "execution_count": 39,
   "id": "b20b3fa8-a75d-4d06-8266-1644bd8c71c3",
   "metadata": {},
   "outputs": [],
   "source": [
    "#"
   ]
  },
  {
   "cell_type": "code",
   "execution_count": 40,
   "id": "73799082-09df-47d7-8cb5-7add9ca456e6",
   "metadata": {},
   "outputs": [
    {
     "data": {
      "text/plain": [
       "3.141592653589793"
      ]
     },
     "execution_count": 40,
     "metadata": {},
     "output_type": "execute_result"
    }
   ],
   "source": [
    "np.pi"
   ]
  },
  {
   "cell_type": "code",
   "execution_count": 41,
   "id": "671fb331-638f-46c7-b3f3-ff96501bf249",
   "metadata": {},
   "outputs": [
    {
     "data": {
      "text/plain": [
       "<AxesSubplot:xlabel='cloudcover', ylabel='Count'>"
      ]
     },
     "execution_count": 41,
     "metadata": {},
     "output_type": "execute_result"
    },
    {
     "data": {
      "image/png": "[encoded data removed]",
      "text/plain": [
       "<Figure size 432x288 with 1 Axes>"
      ]
     },
     "metadata": {
      "needs_background": "light"
     },
     "output_type": "display_data"
    }
   ],
   "source": [
    "sns.histplot(df_col['cloudcover'], kde=True)"
   ]
  },
  {
   "cell_type": "code",
   "execution_count": 42,
   "id": "104bd384-41d3-470a-9e56-2d3700754fe2",
   "metadata": {},
   "outputs": [
    {
     "data": {
      "text/plain": [
       "array([ 0., nan])"
      ]
     },
     "execution_count": 42,
     "metadata": {},
     "output_type": "execute_result"
    }
   ],
   "source": [
    "df_col['uvindex'].unique()"
   ]
  },
  {
   "cell_type": "code",
   "execution_count": 43,
   "id": "54db6390-2079-4976-9542-43b5cc9a2c29",
   "metadata": {},
   "outputs": [
    {
     "data": {
      "text/plain": [
       "array(['Partially cloudy', 'Overcast', 'Clear', 'Snow, Overcast',\n",
       "       'Snow, Partially cloudy', 'Rain, Partially cloudy',\n",
       "       'Rain, Overcast', nan], dtype=object)"
      ]
     },
     "execution_count": 43,
     "metadata": {},
     "output_type": "execute_result"
    }
   ],
   "source": [
    "df_col['conditions'].unique()"
   ]
  },
  {
   "cell_type": "code",
   "execution_count": 44,
   "id": "dde23035-93de-4453-804e-75961f372754",
   "metadata": {},
   "outputs": [
    {
     "data": {
      "text/html": [
       "<div>\n",
       "<style scoped>\n",
       "    .dataframe tbody tr th:only-of-type {\n",
       "        vertical-align: middle;\n",
       "    }\n",
       "\n",
       "    .dataframe tbody tr th {\n",
       "        vertical-align: top;\n",
       "    }\n",
       "\n",
       "    .dataframe thead th {\n",
       "        text-align: right;\n",
       "    }\n",
       "</style>\n",
       "<table border=\"1\" class=\"dataframe\">\n",
       "  <thead>\n",
       "    <tr style=\"text-align: right;\">\n",
       "      <th></th>\n",
       "      <th>sample measurement</th>\n",
       "    </tr>\n",
       "    <tr>\n",
       "      <th>conditions</th>\n",
       "      <th></th>\n",
       "    </tr>\n",
       "  </thead>\n",
       "  <tbody>\n",
       "    <tr>\n",
       "      <th>Clear</th>\n",
       "      <td>0.018760</td>\n",
       "    </tr>\n",
       "    <tr>\n",
       "      <th>Overcast</th>\n",
       "      <td>0.018964</td>\n",
       "    </tr>\n",
       "    <tr>\n",
       "      <th>Partially cloudy</th>\n",
       "      <td>0.029132</td>\n",
       "    </tr>\n",
       "    <tr>\n",
       "      <th>Rain, Overcast</th>\n",
       "      <td>0.017875</td>\n",
       "    </tr>\n",
       "    <tr>\n",
       "      <th>Rain, Partially cloudy</th>\n",
       "      <td>0.034946</td>\n",
       "    </tr>\n",
       "    <tr>\n",
       "      <th>Snow, Overcast</th>\n",
       "      <td>0.017460</td>\n",
       "    </tr>\n",
       "    <tr>\n",
       "      <th>Snow, Partially cloudy</th>\n",
       "      <td>0.018608</td>\n",
       "    </tr>\n",
       "  </tbody>\n",
       "</table>\n",
       "</div>"
      ],
      "text/plain": [
       "                        sample measurement\n",
       "conditions                                \n",
       "Clear                             0.018760\n",
       "Overcast                          0.018964\n",
       "Partially cloudy                  0.029132\n",
       "Rain, Overcast                    0.017875\n",
       "Rain, Partially cloudy            0.034946\n",
       "Snow, Overcast                    0.017460\n",
       "Snow, Partially cloudy            0.018608"
      ]
     },
     "execution_count": 44,
     "metadata": {},
     "output_type": "execute_result"
    }
   ],
   "source": [
    "df_col.groupby('conditions').agg({'sample measurement': 'mean'})"
   ]
  },
  {
   "cell_type": "code",
   "execution_count": 45,
   "id": "dcd2edef-8ffa-4858-ba24-72270c1b8e1a",
   "metadata": {},
   "outputs": [
    {
     "data": {
      "text/plain": [
       "True"
      ]
     },
     "execution_count": 45,
     "metadata": {},
     "output_type": "execute_result"
    }
   ],
   "source": [
    "df_col['dew'].dtype=='float64'"
   ]
  },
  {
   "cell_type": "code",
   "execution_count": 46,
   "id": "184bf7e4-dd69-4302-ab3d-e7fa935b24d6",
   "metadata": {},
   "outputs": [
    {
     "data": {
      "text/html": [
       "<div>\n",
       "<style scoped>\n",
       "    .dataframe tbody tr th:only-of-type {\n",
       "        vertical-align: middle;\n",
       "    }\n",
       "\n",
       "    .dataframe tbody tr th {\n",
       "        vertical-align: top;\n",
       "    }\n",
       "\n",
       "    .dataframe thead th {\n",
       "        text-align: right;\n",
       "    }\n",
       "</style>\n",
       "<table border=\"1\" class=\"dataframe\">\n",
       "  <thead>\n",
       "    <tr style=\"text-align: right;\">\n",
       "      <th></th>\n",
       "      <th>high ozone</th>\n",
       "    </tr>\n",
       "    <tr>\n",
       "      <th>month</th>\n",
       "      <th></th>\n",
       "    </tr>\n",
       "  </thead>\n",
       "  <tbody>\n",
       "    <tr>\n",
       "      <th>1.0</th>\n",
       "      <td>267.0</td>\n",
       "    </tr>\n",
       "    <tr>\n",
       "      <th>2.0</th>\n",
       "      <td>273.0</td>\n",
       "    </tr>\n",
       "    <tr>\n",
       "      <th>3.0</th>\n",
       "      <td>224.0</td>\n",
       "    </tr>\n",
       "    <tr>\n",
       "      <th>4.0</th>\n",
       "      <td>150.0</td>\n",
       "    </tr>\n",
       "    <tr>\n",
       "      <th>5.0</th>\n",
       "      <td>147.0</td>\n",
       "    </tr>\n",
       "    <tr>\n",
       "      <th>6.0</th>\n",
       "      <td>130.0</td>\n",
       "    </tr>\n",
       "    <tr>\n",
       "      <th>7.0</th>\n",
       "      <td>150.0</td>\n",
       "    </tr>\n",
       "    <tr>\n",
       "      <th>8.0</th>\n",
       "      <td>57.0</td>\n",
       "    </tr>\n",
       "    <tr>\n",
       "      <th>9.0</th>\n",
       "      <td>258.0</td>\n",
       "    </tr>\n",
       "    <tr>\n",
       "      <th>10.0</th>\n",
       "      <td>182.0</td>\n",
       "    </tr>\n",
       "    <tr>\n",
       "      <th>11.0</th>\n",
       "      <td>155.0</td>\n",
       "    </tr>\n",
       "    <tr>\n",
       "      <th>12.0</th>\n",
       "      <td>74.0</td>\n",
       "    </tr>\n",
       "  </tbody>\n",
       "</table>\n",
       "</div>"
      ],
      "text/plain": [
       "       high ozone\n",
       "month            \n",
       "1.0         267.0\n",
       "2.0         273.0\n",
       "3.0         224.0\n",
       "4.0         150.0\n",
       "5.0         147.0\n",
       "6.0         130.0\n",
       "7.0         150.0\n",
       "8.0          57.0\n",
       "9.0         258.0\n",
       "10.0        182.0\n",
       "11.0        155.0\n",
       "12.0         74.0"
      ]
     },
     "execution_count": 46,
     "metadata": {},
     "output_type": "execute_result"
    }
   ],
   "source": [
    "# Many observations in each month with a high ozone level.\n",
    "THRESH = .04\n",
    "ozone_high_mask = df['sample measurement']>THRESH\n",
    "df_col['high ozone']=0.0\n",
    "df_col.loc[ozone_high_mask, 'high ozone']=1.0\n",
    "df_col.groupby('month').agg({'high ozone': sum})"
   ]
  },
  {
   "cell_type": "code",
   "execution_count": 47,
   "id": "df430b50-6e08-46b8-905b-2eeb2defe493",
   "metadata": {},
   "outputs": [
    {
     "name": "stderr",
     "output_type": "stream",
     "text": [
      "/home/jcummings/.local/lib/python3.6/site-packages/ipykernel_launcher.py:3: RuntimeWarning: More than 20 figures have been opened. Figures created through the pyplot interface (`matplotlib.pyplot.figure`) are retained until explicitly closed and may consume too much memory. (To control this warning, see the rcParam `figure.max_open_warning`).\n",
      "  This is separate from the ipykernel package so we can avoid doing imports until\n"
     ]
    },
    {
     "data": {
      "image/png": "[encoded data removed]",
      "text/plain": [
       "<Figure size 432x288 with 1 Axes>"
      ]
     },
     "metadata": {
      "needs_background": "light"
     },
     "output_type": "display_data"
    },
    {
     "data": {
      "image/png": "[encoded data removed]",
      "text/plain": [
       "<Figure size 432x288 with 1 Axes>"
      ]
     },
     "metadata": {
      "needs_background": "light"
     },
     "output_type": "display_data"
    },
    {
     "data": {
      "image/png": "[encoded data removed]",
      "text/plain": [
       "<Figure size 432x288 with 1 Axes>"
      ]
     },
     "metadata": {
      "needs_background": "light"
     },
     "output_type": "display_data"
    },
    {
     "data": {
      "image/png": "[encoded data removed]",
      "text/plain": [
       "<Figure size 432x288 with 1 Axes>"
      ]
     },
     "metadata": {
      "needs_background": "light"
     },
     "output_type": "display_data"
    },
    {
     "data": {
      "image/png": "[encoded data removed]",
      "text/plain": [
       "<Figure size 432x288 with 1 Axes>"
      ]
     },
     "metadata": {
      "needs_background": "light"
     },
     "output_type": "display_data"
    },
    {
     "data": {
      "image/png": "[encoded data removed]",
      "text/plain": [
       "<Figure size 432x288 with 1 Axes>"
      ]
     },
     "metadata": {
      "needs_background": "light"
     },
     "output_type": "display_data"
    },
    {
     "data": {
      "image/png": "[encoded data removed]",
      "text/plain": [
       "<Figure size 432x288 with 1 Axes>"
      ]
     },
     "metadata": {
      "needs_background": "light"
     },
     "output_type": "display_data"
    },
    {
     "data": {
      "image/png": "[encoded data removed]",
      "text/plain": [
       "<Figure size 432x288 with 1 Axes>"
      ]
     },
     "metadata": {
      "needs_background": "light"
     },
     "output_type": "display_data"
    },
    {
     "data": {
      "image/png": "[encoded data removed]",
      "text/plain": [
       "<Figure size 432x288 with 1 Axes>"
      ]
     },
     "metadata": {
      "needs_background": "light"
     },
     "output_type": "display_data"
    },
    {
     "data": {
      "image/png": "[encoded data removed]",
      "text/plain": [
       "<Figure size 432x288 with 1 Axes>"
      ]
     },
     "metadata": {
      "needs_background": "light"
     },
     "output_type": "display_data"
    },
    {
     "data": {
      "image/png": "[encoded data removed]",
      "text/plain": [
       "<Figure size 432x288 with 1 Axes>"
      ]
     },
     "metadata": {
      "needs_background": "light"
     },
     "output_type": "display_data"
    },
    {
     "data": {
      "image/png": "[encoded data removed]",
      "text/plain": [
       "<Figure size 432x288 with 1 Axes>"
      ]
     },
     "metadata": {
      "needs_background": "light"
     },
     "output_type": "display_data"
    },
    {
     "data": {
      "image/png": "[encoded data removed]",
      "text/plain": [
       "<Figure size 432x288 with 1 Axes>"
      ]
     },
     "metadata": {
      "needs_background": "light"
     },
     "output_type": "display_data"
    },
    {
     "data": {
      "image/png": "[encoded data removed]",
      "text/plain": [
       "<Figure size 432x288 with 1 Axes>"
      ]
     },
     "metadata": {
      "needs_background": "light"
     },
     "output_type": "display_data"
    },
    {
     "data": {
      "image/png": "[encoded data removed]",
      "text/plain": [
       "<Figure size 432x288 with 1 Axes>"
      ]
     },
     "metadata": {
      "needs_background": "light"
     },
     "output_type": "display_data"
    },
    {
     "data": {
      "image/png": "[encoded data removed]",
      "text/plain": [
       "<Figure size 432x288 with 1 Axes>"
      ]
     },
     "metadata": {
      "needs_background": "light"
     },
     "output_type": "display_data"
    },
    {
     "data": {
      "image/png": "[encoded data removed]",
      "text/plain": [
       "<Figure size 432x288 with 1 Axes>"
      ]
     },
     "metadata": {
      "needs_background": "light"
     },
     "output_type": "display_data"
    },
    {
     "data": {
      "image/png": "[encoded data removed]",
      "text/plain": [
       "<Figure size 432x288 with 1 Axes>"
      ]
     },
     "metadata": {
      "needs_background": "light"
     },
     "output_type": "display_data"
    },
    {
     "data": {
      "image/png": "[encoded data removed]",
      "text/plain": [
       "<Figure size 432x288 with 1 Axes>"
      ]
     },
     "metadata": {
      "needs_background": "light"
     },
     "output_type": "display_data"
    },
    {
     "data": {
      "image/png": "[encoded data removed]",
      "text/plain": [
       "<Figure size 432x288 with 1 Axes>"
      ]
     },
     "metadata": {
      "needs_background": "light"
     },
     "output_type": "display_data"
    },
    {
     "data": {
      "image/png": "[encoded data removed]",
      "text/plain": [
       "<Figure size 432x288 with 1 Axes>"
      ]
     },
     "metadata": {
      "needs_background": "light"
     },
     "output_type": "display_data"
    },
    {
     "data": {
      "image/png": "[encoded data removed]",
      "text/plain": [
       "<Figure size 432x288 with 1 Axes>"
      ]
     },
     "metadata": {
      "needs_background": "light"
     },
     "output_type": "display_data"
    },
    {
     "data": {
      "image/png": "[encoded data removed]",
      "text/plain": [
       "<Figure size 432x288 with 1 Axes>"
      ]
     },
     "metadata": {
      "needs_background": "light"
     },
     "output_type": "display_data"
    },
    {
     "data": {
      "image/png": "[encoded data removed]",
      "text/plain": [
       "<Figure size 432x288 with 1 Axes>"
      ]
     },
     "metadata": {
      "needs_background": "light"
     },
     "output_type": "display_data"
    },
    {
     "data": {
      "image/png": "[encoded data removed]",
      "text/plain": [
       "<Figure size 432x288 with 1 Axes>"
      ]
     },
     "metadata": {
      "needs_background": "light"
     },
     "output_type": "display_data"
    },
    {
     "data": {
      "image/png": "[encoded data removed]",
      "text/plain": [
       "<Figure size 432x288 with 1 Axes>"
      ]
     },
     "metadata": {
      "needs_background": "light"
     },
     "output_type": "display_data"
    }
   ],
   "source": [
    "numer_cols = [i for i in df_col.columns if df_col[i].dtype=='float64']\n",
    "for i in numer_cols:\n",
    "    plt.figure(i)\n",
    "    ax = sns.regplot(x=i, y='sample measurement', data = df_col)"
   ]
  },
  {
   "cell_type": "code",
   "execution_count": null,
   "id": "ca8c8d57-1ee5-41c7-bc6c-e0e4c523da5c",
   "metadata": {},
   "outputs": [],
   "source": [
    "\n"
   ]
  },
  {
   "cell_type": "code",
   "execution_count": 48,
   "id": "fe479295-33bc-458e-9645-09eacf581d69",
   "metadata": {},
   "outputs": [
    {
     "data": {
      "text/html": [
       "<div>\n",
       "<style scoped>\n",
       "    .dataframe tbody tr th:only-of-type {\n",
       "        vertical-align: middle;\n",
       "    }\n",
       "\n",
       "    .dataframe tbody tr th {\n",
       "        vertical-align: top;\n",
       "    }\n",
       "\n",
       "    .dataframe thead th {\n",
       "        text-align: right;\n",
       "    }\n",
       "</style>\n",
       "<table border=\"1\" class=\"dataframe\">\n",
       "  <thead>\n",
       "    <tr style=\"text-align: right;\">\n",
       "      <th></th>\n",
       "      <th>percent_missing</th>\n",
       "    </tr>\n",
       "  </thead>\n",
       "  <tbody>\n",
       "    <tr>\n",
       "      <th>date local</th>\n",
       "      <td>0.000000</td>\n",
       "    </tr>\n",
       "    <tr>\n",
       "      <th>time local</th>\n",
       "      <td>0.000000</td>\n",
       "    </tr>\n",
       "    <tr>\n",
       "      <th>sample measurement</th>\n",
       "      <td>0.000000</td>\n",
       "    </tr>\n",
       "    <tr>\n",
       "      <th>datetime_oz</th>\n",
       "      <td>0.000000</td>\n",
       "    </tr>\n",
       "    <tr>\n",
       "      <th>name</th>\n",
       "      <td>0.011574</td>\n",
       "    </tr>\n",
       "    <tr>\n",
       "      <th>datetime_weather</th>\n",
       "      <td>0.011574</td>\n",
       "    </tr>\n",
       "    <tr>\n",
       "      <th>temp</th>\n",
       "      <td>0.011574</td>\n",
       "    </tr>\n",
       "    <tr>\n",
       "      <th>feelslike</th>\n",
       "      <td>0.011574</td>\n",
       "    </tr>\n",
       "    <tr>\n",
       "      <th>dew</th>\n",
       "      <td>0.011574</td>\n",
       "    </tr>\n",
       "    <tr>\n",
       "      <th>humidity</th>\n",
       "      <td>0.011574</td>\n",
       "    </tr>\n",
       "    <tr>\n",
       "      <th>precip</th>\n",
       "      <td>0.682870</td>\n",
       "    </tr>\n",
       "    <tr>\n",
       "      <th>precipprob</th>\n",
       "      <td>100.000000</td>\n",
       "    </tr>\n",
       "    <tr>\n",
       "      <th>preciptype</th>\n",
       "      <td>100.000000</td>\n",
       "    </tr>\n",
       "    <tr>\n",
       "      <th>snow</th>\n",
       "      <td>0.011574</td>\n",
       "    </tr>\n",
       "    <tr>\n",
       "      <th>snowdepth</th>\n",
       "      <td>0.011574</td>\n",
       "    </tr>\n",
       "    <tr>\n",
       "      <th>windgust</th>\n",
       "      <td>80.636574</td>\n",
       "    </tr>\n",
       "    <tr>\n",
       "      <th>windspeed</th>\n",
       "      <td>0.011574</td>\n",
       "    </tr>\n",
       "    <tr>\n",
       "      <th>winddir</th>\n",
       "      <td>0.034722</td>\n",
       "    </tr>\n",
       "    <tr>\n",
       "      <th>sealevelpressure</th>\n",
       "      <td>0.011574</td>\n",
       "    </tr>\n",
       "    <tr>\n",
       "      <th>cloudcover</th>\n",
       "      <td>0.011574</td>\n",
       "    </tr>\n",
       "    <tr>\n",
       "      <th>visibility</th>\n",
       "      <td>0.011574</td>\n",
       "    </tr>\n",
       "    <tr>\n",
       "      <th>solarradiation</th>\n",
       "      <td>100.000000</td>\n",
       "    </tr>\n",
       "    <tr>\n",
       "      <th>solarenergy</th>\n",
       "      <td>100.000000</td>\n",
       "    </tr>\n",
       "    <tr>\n",
       "      <th>uvindex</th>\n",
       "      <td>0.011574</td>\n",
       "    </tr>\n",
       "    <tr>\n",
       "      <th>severerisk</th>\n",
       "      <td>100.000000</td>\n",
       "    </tr>\n",
       "    <tr>\n",
       "      <th>conditions</th>\n",
       "      <td>0.011574</td>\n",
       "    </tr>\n",
       "    <tr>\n",
       "      <th>icon</th>\n",
       "      <td>0.011574</td>\n",
       "    </tr>\n",
       "    <tr>\n",
       "      <th>stations</th>\n",
       "      <td>0.011574</td>\n",
       "    </tr>\n",
       "    <tr>\n",
       "      <th>datetime_dt</th>\n",
       "      <td>0.011574</td>\n",
       "    </tr>\n",
       "    <tr>\n",
       "      <th>day_of_week</th>\n",
       "      <td>0.011574</td>\n",
       "    </tr>\n",
       "    <tr>\n",
       "      <th>type of day</th>\n",
       "      <td>0.000000</td>\n",
       "    </tr>\n",
       "    <tr>\n",
       "      <th>hour</th>\n",
       "      <td>0.011574</td>\n",
       "    </tr>\n",
       "    <tr>\n",
       "      <th>month</th>\n",
       "      <td>0.011574</td>\n",
       "    </tr>\n",
       "    <tr>\n",
       "      <th>month_x</th>\n",
       "      <td>0.011574</td>\n",
       "    </tr>\n",
       "    <tr>\n",
       "      <th>month_y</th>\n",
       "      <td>0.011574</td>\n",
       "    </tr>\n",
       "    <tr>\n",
       "      <th>high ozone</th>\n",
       "      <td>0.000000</td>\n",
       "    </tr>\n",
       "  </tbody>\n",
       "</table>\n",
       "</div>"
      ],
      "text/plain": [
       "                    percent_missing\n",
       "date local                 0.000000\n",
       "time local                 0.000000\n",
       "sample measurement         0.000000\n",
       "datetime_oz                0.000000\n",
       "name                       0.011574\n",
       "datetime_weather           0.011574\n",
       "temp                       0.011574\n",
       "feelslike                  0.011574\n",
       "dew                        0.011574\n",
       "humidity                   0.011574\n",
       "precip                     0.682870\n",
       "precipprob               100.000000\n",
       "preciptype               100.000000\n",
       "snow                       0.011574\n",
       "snowdepth                  0.011574\n",
       "windgust                  80.636574\n",
       "windspeed                  0.011574\n",
       "winddir                    0.034722\n",
       "sealevelpressure           0.011574\n",
       "cloudcover                 0.011574\n",
       "visibility                 0.011574\n",
       "solarradiation           100.000000\n",
       "solarenergy              100.000000\n",
       "uvindex                    0.011574\n",
       "severerisk               100.000000\n",
       "conditions                 0.011574\n",
       "icon                       0.011574\n",
       "stations                   0.011574\n",
       "datetime_dt                0.011574\n",
       "day_of_week                0.011574\n",
       "type of day                0.000000\n",
       "hour                       0.011574\n",
       "month                      0.011574\n",
       "month_x                    0.011574\n",
       "month_y                    0.011574\n",
       "high ozone                 0.000000"
      ]
     },
     "execution_count": 48,
     "metadata": {},
     "output_type": "execute_result"
    }
   ],
   "source": [
    "calculate_percent_missing(df_col)"
   ]
  },
  {
   "cell_type": "code",
   "execution_count": 258,
   "id": "42b196b4-770c-4842-b919-62be047e7425",
   "metadata": {},
   "outputs": [
    {
     "data": {
      "text/html": [
       "<div>\n",
       "<style scoped>\n",
       "    .dataframe tbody tr th:only-of-type {\n",
       "        vertical-align: middle;\n",
       "    }\n",
       "\n",
       "    .dataframe tbody tr th {\n",
       "        vertical-align: top;\n",
       "    }\n",
       "\n",
       "    .dataframe thead th {\n",
       "        text-align: right;\n",
       "    }\n",
       "</style>\n",
       "<table border=\"1\" class=\"dataframe\">\n",
       "  <thead>\n",
       "    <tr style=\"text-align: right;\">\n",
       "      <th></th>\n",
       "      <th>date local</th>\n",
       "      <th>time local</th>\n",
       "      <th>sample measurement</th>\n",
       "      <th>datetime_oz</th>\n",
       "      <th>name</th>\n",
       "      <th>datetime_weather</th>\n",
       "      <th>temp</th>\n",
       "      <th>feelslike</th>\n",
       "      <th>dew</th>\n",
       "      <th>humidity</th>\n",
       "      <th>...</th>\n",
       "      <th>icon</th>\n",
       "      <th>stations</th>\n",
       "      <th>datetime_dt</th>\n",
       "      <th>day_of_week</th>\n",
       "      <th>type of day</th>\n",
       "      <th>hour</th>\n",
       "      <th>month</th>\n",
       "      <th>month_x</th>\n",
       "      <th>month_y</th>\n",
       "      <th>high ozone</th>\n",
       "    </tr>\n",
       "  </thead>\n",
       "  <tbody>\n",
       "    <tr>\n",
       "      <th>0</th>\n",
       "      <td>2019-01-01</td>\n",
       "      <td>00:00</td>\n",
       "      <td>0.013</td>\n",
       "      <td>2019-01-01 00:00:00</td>\n",
       "      <td>39.75, -104.987625</td>\n",
       "      <td>2019-01-01T00:00:00</td>\n",
       "      <td>0.9</td>\n",
       "      <td>-9.7</td>\n",
       "      <td>-1.6</td>\n",
       "      <td>88.81</td>\n",
       "      <td>...</td>\n",
       "      <td>snow</td>\n",
       "      <td>KBKF,KDEN,72469523036,KAPA,72565003017,7246669...</td>\n",
       "      <td>2019-01-01 00:00:00</td>\n",
       "      <td>1.0</td>\n",
       "      <td>weekday</td>\n",
       "      <td>0.0</td>\n",
       "      <td>1.0</td>\n",
       "      <td>0.866025</td>\n",
       "      <td>0.5</td>\n",
       "      <td>0.0</td>\n",
       "    </tr>\n",
       "    <tr>\n",
       "      <th>1</th>\n",
       "      <td>2019-01-01</td>\n",
       "      <td>01:00</td>\n",
       "      <td>0.016</td>\n",
       "      <td>2019-01-01 01:00:00</td>\n",
       "      <td>39.75, -104.987625</td>\n",
       "      <td>2019-01-01T01:00:00</td>\n",
       "      <td>0.1</td>\n",
       "      <td>-10.4</td>\n",
       "      <td>-3.1</td>\n",
       "      <td>86.21</td>\n",
       "      <td>...</td>\n",
       "      <td>snow</td>\n",
       "      <td>KBKF,KDEN,72469523036,KAPA,72565003017,7246669...</td>\n",
       "      <td>2019-01-01 01:00:00</td>\n",
       "      <td>1.0</td>\n",
       "      <td>weekday</td>\n",
       "      <td>1.0</td>\n",
       "      <td>1.0</td>\n",
       "      <td>0.866025</td>\n",
       "      <td>0.5</td>\n",
       "      <td>0.0</td>\n",
       "    </tr>\n",
       "    <tr>\n",
       "      <th>2</th>\n",
       "      <td>2019-01-01</td>\n",
       "      <td>02:00</td>\n",
       "      <td>0.016</td>\n",
       "      <td>2019-01-01 02:00:00</td>\n",
       "      <td>39.75, -104.987625</td>\n",
       "      <td>2019-01-01T02:00:00</td>\n",
       "      <td>0.2</td>\n",
       "      <td>-10.9</td>\n",
       "      <td>-2.9</td>\n",
       "      <td>86.25</td>\n",
       "      <td>...</td>\n",
       "      <td>snow</td>\n",
       "      <td>KBKF,KDEN,72469523036,KAPA,72565003017,7246669...</td>\n",
       "      <td>2019-01-01 02:00:00</td>\n",
       "      <td>1.0</td>\n",
       "      <td>weekday</td>\n",
       "      <td>2.0</td>\n",
       "      <td>1.0</td>\n",
       "      <td>0.866025</td>\n",
       "      <td>0.5</td>\n",
       "      <td>0.0</td>\n",
       "    </tr>\n",
       "    <tr>\n",
       "      <th>3</th>\n",
       "      <td>2019-01-01</td>\n",
       "      <td>03:00</td>\n",
       "      <td>0.021</td>\n",
       "      <td>2019-01-01 03:00:00</td>\n",
       "      <td>39.75, -104.987625</td>\n",
       "      <td>2019-01-01T03:00:00</td>\n",
       "      <td>0.5</td>\n",
       "      <td>-12.5</td>\n",
       "      <td>-2.7</td>\n",
       "      <td>85.95</td>\n",
       "      <td>...</td>\n",
       "      <td>snow</td>\n",
       "      <td>KBKF,72469523036,KAPA,72565003017,72466693067</td>\n",
       "      <td>2019-01-01 03:00:00</td>\n",
       "      <td>1.0</td>\n",
       "      <td>weekday</td>\n",
       "      <td>3.0</td>\n",
       "      <td>1.0</td>\n",
       "      <td>0.866025</td>\n",
       "      <td>0.5</td>\n",
       "      <td>0.0</td>\n",
       "    </tr>\n",
       "    <tr>\n",
       "      <th>4</th>\n",
       "      <td>2019-01-01</td>\n",
       "      <td>04:00</td>\n",
       "      <td>0.023</td>\n",
       "      <td>2019-01-01 04:00:00</td>\n",
       "      <td>39.75, -104.987625</td>\n",
       "      <td>2019-01-01T04:00:00</td>\n",
       "      <td>0.4</td>\n",
       "      <td>-13.3</td>\n",
       "      <td>-3.0</td>\n",
       "      <td>85.06</td>\n",
       "      <td>...</td>\n",
       "      <td>snow</td>\n",
       "      <td>KBKF,KDEN,72469523036,KAPA,72565003017,7246669...</td>\n",
       "      <td>2019-01-01 04:00:00</td>\n",
       "      <td>1.0</td>\n",
       "      <td>weekday</td>\n",
       "      <td>4.0</td>\n",
       "      <td>1.0</td>\n",
       "      <td>0.866025</td>\n",
       "      <td>0.5</td>\n",
       "      <td>0.0</td>\n",
       "    </tr>\n",
       "  </tbody>\n",
       "</table>\n",
       "<p>5 rows × 36 columns</p>\n",
       "</div>"
      ],
      "text/plain": [
       "   date local time local  sample measurement         datetime_oz  \\\n",
       "0  2019-01-01      00:00               0.013 2019-01-01 00:00:00   \n",
       "1  2019-01-01      01:00               0.016 2019-01-01 01:00:00   \n",
       "2  2019-01-01      02:00               0.016 2019-01-01 02:00:00   \n",
       "3  2019-01-01      03:00               0.021 2019-01-01 03:00:00   \n",
       "4  2019-01-01      04:00               0.023 2019-01-01 04:00:00   \n",
       "\n",
       "                 name     datetime_weather  temp  feelslike  dew  humidity  \\\n",
       "0  39.75, -104.987625  2019-01-01T00:00:00   0.9       -9.7 -1.6     88.81   \n",
       "1  39.75, -104.987625  2019-01-01T01:00:00   0.1      -10.4 -3.1     86.21   \n",
       "2  39.75, -104.987625  2019-01-01T02:00:00   0.2      -10.9 -2.9     86.25   \n",
       "3  39.75, -104.987625  2019-01-01T03:00:00   0.5      -12.5 -2.7     85.95   \n",
       "4  39.75, -104.987625  2019-01-01T04:00:00   0.4      -13.3 -3.0     85.06   \n",
       "\n",
       "   ...  icon                                           stations  \\\n",
       "0  ...  snow  KBKF,KDEN,72469523036,KAPA,72565003017,7246669...   \n",
       "1  ...  snow  KBKF,KDEN,72469523036,KAPA,72565003017,7246669...   \n",
       "2  ...  snow  KBKF,KDEN,72469523036,KAPA,72565003017,7246669...   \n",
       "3  ...  snow      KBKF,72469523036,KAPA,72565003017,72466693067   \n",
       "4  ...  snow  KBKF,KDEN,72469523036,KAPA,72565003017,7246669...   \n",
       "\n",
       "          datetime_dt  day_of_week  type of day  hour  month   month_x  \\\n",
       "0 2019-01-01 00:00:00          1.0      weekday   0.0    1.0  0.866025   \n",
       "1 2019-01-01 01:00:00          1.0      weekday   1.0    1.0  0.866025   \n",
       "2 2019-01-01 02:00:00          1.0      weekday   2.0    1.0  0.866025   \n",
       "3 2019-01-01 03:00:00          1.0      weekday   3.0    1.0  0.866025   \n",
       "4 2019-01-01 04:00:00          1.0      weekday   4.0    1.0  0.866025   \n",
       "\n",
       "   month_y  high ozone  \n",
       "0      0.5         0.0  \n",
       "1      0.5         0.0  \n",
       "2      0.5         0.0  \n",
       "3      0.5         0.0  \n",
       "4      0.5         0.0  \n",
       "\n",
       "[5 rows x 36 columns]"
      ]
     },
     "execution_count": 258,
     "metadata": {},
     "output_type": "execute_result"
    }
   ],
   "source": [
    "df_col.head()"
   ]
  },
  {
   "cell_type": "code",
   "execution_count": 259,
   "id": "082f42c9-f389-4b0c-ab6e-044e23c1c818",
   "metadata": {},
   "outputs": [],
   "source": [
    "use_cols_numerical=['temp', 'humidity', 'windspeed', 'month_x', 'month_y', 'sealevelpressure']\n",
    "use_cols_cat = ['type of day']\n",
    "target='sample measurement'\n",
    "df_col_useful = df_col[use_cols_numerical + use_cols_cat + [target]]"
   ]
  },
  {
   "cell_type": "code",
   "execution_count": 260,
   "id": "5cf83061-15ab-4a9c-8b0c-1b847a48309c",
   "metadata": {},
   "outputs": [
    {
     "data": {
      "text/html": [
       "<div>\n",
       "<style scoped>\n",
       "    .dataframe tbody tr th:only-of-type {\n",
       "        vertical-align: middle;\n",
       "    }\n",
       "\n",
       "    .dataframe tbody tr th {\n",
       "        vertical-align: top;\n",
       "    }\n",
       "\n",
       "    .dataframe thead th {\n",
       "        text-align: right;\n",
       "    }\n",
       "</style>\n",
       "<table border=\"1\" class=\"dataframe\">\n",
       "  <thead>\n",
       "    <tr style=\"text-align: right;\">\n",
       "      <th></th>\n",
       "      <th>percent_missing</th>\n",
       "    </tr>\n",
       "  </thead>\n",
       "  <tbody>\n",
       "    <tr>\n",
       "      <th>temp</th>\n",
       "      <td>0.011574</td>\n",
       "    </tr>\n",
       "    <tr>\n",
       "      <th>humidity</th>\n",
       "      <td>0.011574</td>\n",
       "    </tr>\n",
       "    <tr>\n",
       "      <th>windspeed</th>\n",
       "      <td>0.011574</td>\n",
       "    </tr>\n",
       "    <tr>\n",
       "      <th>month_x</th>\n",
       "      <td>0.011574</td>\n",
       "    </tr>\n",
       "    <tr>\n",
       "      <th>month_y</th>\n",
       "      <td>0.011574</td>\n",
       "    </tr>\n",
       "    <tr>\n",
       "      <th>sealevelpressure</th>\n",
       "      <td>0.011574</td>\n",
       "    </tr>\n",
       "    <tr>\n",
       "      <th>type of day</th>\n",
       "      <td>0.000000</td>\n",
       "    </tr>\n",
       "    <tr>\n",
       "      <th>sample measurement</th>\n",
       "      <td>0.000000</td>\n",
       "    </tr>\n",
       "  </tbody>\n",
       "</table>\n",
       "</div>"
      ],
      "text/plain": [
       "                    percent_missing\n",
       "temp                       0.011574\n",
       "humidity                   0.011574\n",
       "windspeed                  0.011574\n",
       "month_x                    0.011574\n",
       "month_y                    0.011574\n",
       "sealevelpressure           0.011574\n",
       "type of day                0.000000\n",
       "sample measurement         0.000000"
      ]
     },
     "execution_count": 260,
     "metadata": {},
     "output_type": "execute_result"
    }
   ],
   "source": [
    "calculate_percent_missing(df_col_useful)"
   ]
  },
  {
   "cell_type": "code",
   "execution_count": null,
   "id": "eb06b67e-db58-4d47-9742-4759fb5a517a",
   "metadata": {},
   "outputs": [],
   "source": []
  },
  {
   "cell_type": "code",
   "execution_count": 261,
   "id": "161dff7e-b16b-40af-b751-6f6fc505153d",
   "metadata": {},
   "outputs": [],
   "source": [
    "df_col_useful = df_col_useful.dropna()\n",
    "df_use_num = df_col_useful[use_cols_numerical]\n",
    "df_use_cat = df_col_useful[use_cols_cat]\n",
    "y = df_col_useful[target]"
   ]
  },
  {
   "cell_type": "code",
   "execution_count": null,
   "id": "ff5bc409-193b-423b-bd54-1e0298e2585e",
   "metadata": {},
   "outputs": [],
   "source": []
  },
  {
   "cell_type": "code",
   "execution_count": null,
   "id": "dd04a297-30cd-428a-8a57-f91d00c78bb8",
   "metadata": {},
   "outputs": [],
   "source": []
  },
  {
   "cell_type": "code",
   "execution_count": 262,
   "id": "14a8118d-0eee-40cc-bf65-0d04436cabea",
   "metadata": {},
   "outputs": [],
   "source": [
    "df_col_useful = df_col_useful.dropna()\n",
    "from sklearn.preprocessing import StandardScaler, MinMaxScaler, RobustScaler #scaling the parameters\n",
    "ss = StandardScaler()\n",
    "rs = RobustScaler()\n",
    "df_scaled = pd.DataFrame(ss.fit_transform(df_use_num), index=df_use_num.index, columns=use_cols_numerical)\n",
    "#pd.pivot_table(df_scaled, index=['diabetes'],  values = df_scaled.columns, aggfunc = np.mean)"
   ]
  },
  {
   "cell_type": "code",
   "execution_count": null,
   "id": "67316e51-7747-40a9-a401-891d1446b10e",
   "metadata": {},
   "outputs": [],
   "source": []
  },
  {
   "cell_type": "code",
   "execution_count": 263,
   "id": "a1548f57-79fa-4337-b0f8-df33f7f65255",
   "metadata": {},
   "outputs": [
    {
     "data": {
      "text/html": [
       "<div>\n",
       "<style scoped>\n",
       "    .dataframe tbody tr th:only-of-type {\n",
       "        vertical-align: middle;\n",
       "    }\n",
       "\n",
       "    .dataframe tbody tr th {\n",
       "        vertical-align: top;\n",
       "    }\n",
       "\n",
       "    .dataframe thead th {\n",
       "        text-align: right;\n",
       "    }\n",
       "</style>\n",
       "<table border=\"1\" class=\"dataframe\">\n",
       "  <thead>\n",
       "    <tr style=\"text-align: right;\">\n",
       "      <th></th>\n",
       "      <th>type of day_weekend</th>\n",
       "    </tr>\n",
       "  </thead>\n",
       "  <tbody>\n",
       "    <tr>\n",
       "      <th>0</th>\n",
       "      <td>0</td>\n",
       "    </tr>\n",
       "    <tr>\n",
       "      <th>1</th>\n",
       "      <td>0</td>\n",
       "    </tr>\n",
       "    <tr>\n",
       "      <th>2</th>\n",
       "      <td>0</td>\n",
       "    </tr>\n",
       "    <tr>\n",
       "      <th>3</th>\n",
       "      <td>0</td>\n",
       "    </tr>\n",
       "    <tr>\n",
       "      <th>4</th>\n",
       "      <td>0</td>\n",
       "    </tr>\n",
       "    <tr>\n",
       "      <th>...</th>\n",
       "      <td>...</td>\n",
       "    </tr>\n",
       "    <tr>\n",
       "      <th>8635</th>\n",
       "      <td>0</td>\n",
       "    </tr>\n",
       "    <tr>\n",
       "      <th>8636</th>\n",
       "      <td>0</td>\n",
       "    </tr>\n",
       "    <tr>\n",
       "      <th>8637</th>\n",
       "      <td>0</td>\n",
       "    </tr>\n",
       "    <tr>\n",
       "      <th>8638</th>\n",
       "      <td>0</td>\n",
       "    </tr>\n",
       "    <tr>\n",
       "      <th>8639</th>\n",
       "      <td>0</td>\n",
       "    </tr>\n",
       "  </tbody>\n",
       "</table>\n",
       "<p>8639 rows × 1 columns</p>\n",
       "</div>"
      ],
      "text/plain": [
       "      type of day_weekend\n",
       "0                       0\n",
       "1                       0\n",
       "2                       0\n",
       "3                       0\n",
       "4                       0\n",
       "...                   ...\n",
       "8635                    0\n",
       "8636                    0\n",
       "8637                    0\n",
       "8638                    0\n",
       "8639                    0\n",
       "\n",
       "[8639 rows x 1 columns]"
      ]
     },
     "execution_count": 263,
     "metadata": {},
     "output_type": "execute_result"
    }
   ],
   "source": [
    "df_cat_encoded = pd.get_dummies(df_use_cat, drop_first = True)\n",
    "df_cat_encoded"
   ]
  },
  {
   "cell_type": "code",
   "execution_count": 264,
   "id": "e624b44a-b01b-44c1-a41b-cfca7caa973f",
   "metadata": {},
   "outputs": [],
   "source": [
    "from sklearn.model_selection import train_test_split\n",
    "X = pd.concat([df_scaled, df_cat_encoded], axis=1)\n",
    "X_train, X_test, y_train, y_test = train_test_split(X, y, test_size=TEST_FRACTION, random_state = RAND_STATE)"
   ]
  },
  {
   "cell_type": "code",
   "execution_count": 265,
   "id": "0868fb6d-27cc-4c1c-bf07-885b8f8eadad",
   "metadata": {},
   "outputs": [
    {
     "data": {
      "text/plain": [
       "0.5629269654530034"
      ]
     },
     "execution_count": 265,
     "metadata": {},
     "output_type": "execute_result"
    }
   ],
   "source": [
    "from sklearn.linear_model import LinearRegression\n",
    "reg = LinearRegression().fit(X_train, y_train)\n",
    "y_pred = reg.predict(X_test)\n",
    "reg.score(X_test, y_test)"
   ]
  },
  {
   "cell_type": "code",
   "execution_count": 268,
   "id": "24385f2f-9c82-4e67-9eb4-45059a077eda",
   "metadata": {},
   "outputs": [
    {
     "name": "stdout",
     "output_type": "stream",
     "text": [
      "0.009257015999474883 0.011324711743928342\n"
     ]
    }
   ],
   "source": [
    "print(get_mae(reg, X_test, y_test), get_rmse(reg, X_test, y_test))"
   ]
  },
  {
   "cell_type": "code",
   "execution_count": 269,
   "id": "9a8c7c24-036b-41aa-8014-804fb4b59207",
   "metadata": {},
   "outputs": [
    {
     "data": {
      "text/plain": [
       "<AxesSubplot:ylabel='Count'>"
      ]
     },
     "execution_count": 269,
     "metadata": {},
     "output_type": "execute_result"
    },
    {
     "data": {
      "image/png": "[encoded data removed]",
      "text/plain": [
       "<Figure size 432x288 with 1 Axes>"
      ]
     },
     "metadata": {
      "needs_background": "light"
     },
     "output_type": "display_data"
    }
   ],
   "source": [
    "sns.histplot(reg.predict(X), kde = True, bins=30)"
   ]
  },
  {
   "cell_type": "markdown",
   "id": "5f64a2b8-00bb-4d3e-b816-3c1c52037e34",
   "metadata": {},
   "source": [
    "# Polynomial Regression"
   ]
  },
  {
   "cell_type": "code",
   "execution_count": 311,
   "id": "dd456011-dce9-47bc-9583-4d1416b7f691",
   "metadata": {},
   "outputs": [
    {
     "name": "stderr",
     "output_type": "stream",
     "text": [
      "/home/jcummings/.local/lib/python3.6/site-packages/ipykernel_launcher.py:5: SettingWithCopyWarning: \n",
      "A value is trying to be set on a copy of a slice from a DataFrame\n",
      "\n",
      "See the caveats in the documentation: https://pandas.pydata.org/pandas-docs/stable/user_guide/indexing.html#returning-a-view-versus-a-copy\n",
      "  \"\"\"\n"
     ]
    }
   ],
   "source": [
    "use_cols_numerical=['temp', 'humidity', 'windspeed', 'month_x', 'month_y', 'sealevelpressure']\n",
    "use_cols_cat = ['type of day']\n",
    "target='sample measurement'\n",
    "df_col_useful = df_col[use_cols_numerical + use_cols_cat + [target]]\n",
    "df_col_useful.dropna(inplace=True)"
   ]
  },
  {
   "cell_type": "code",
   "execution_count": 312,
   "id": "49d0f7ca-f816-420d-a049-0d3901483ad5",
   "metadata": {},
   "outputs": [],
   "source": [
    "N_DEG = 7\n",
    "df_scaled_p, df_cat_p, y = get_poly_scaled(df_col_useful, use_cols_numerical, use_cols_cat, target, N_DEG)"
   ]
  },
  {
   "cell_type": "code",
   "execution_count": 313,
   "id": "dbe314eb-6b37-4d5d-b8c6-f7d3b0c582fa",
   "metadata": {},
   "outputs": [
    {
     "data": {
      "text/html": [
       "<div>\n",
       "<style scoped>\n",
       "    .dataframe tbody tr th:only-of-type {\n",
       "        vertical-align: middle;\n",
       "    }\n",
       "\n",
       "    .dataframe tbody tr th {\n",
       "        vertical-align: top;\n",
       "    }\n",
       "\n",
       "    .dataframe thead th {\n",
       "        text-align: right;\n",
       "    }\n",
       "</style>\n",
       "<table border=\"1\" class=\"dataframe\">\n",
       "  <thead>\n",
       "    <tr style=\"text-align: right;\">\n",
       "      <th></th>\n",
       "      <th>type of day_weekend</th>\n",
       "    </tr>\n",
       "  </thead>\n",
       "  <tbody>\n",
       "    <tr>\n",
       "      <th>0</th>\n",
       "      <td>0</td>\n",
       "    </tr>\n",
       "    <tr>\n",
       "      <th>1</th>\n",
       "      <td>0</td>\n",
       "    </tr>\n",
       "    <tr>\n",
       "      <th>2</th>\n",
       "      <td>0</td>\n",
       "    </tr>\n",
       "    <tr>\n",
       "      <th>3</th>\n",
       "      <td>0</td>\n",
       "    </tr>\n",
       "    <tr>\n",
       "      <th>4</th>\n",
       "      <td>0</td>\n",
       "    </tr>\n",
       "    <tr>\n",
       "      <th>...</th>\n",
       "      <td>...</td>\n",
       "    </tr>\n",
       "    <tr>\n",
       "      <th>8634</th>\n",
       "      <td>0</td>\n",
       "    </tr>\n",
       "    <tr>\n",
       "      <th>8635</th>\n",
       "      <td>0</td>\n",
       "    </tr>\n",
       "    <tr>\n",
       "      <th>8636</th>\n",
       "      <td>0</td>\n",
       "    </tr>\n",
       "    <tr>\n",
       "      <th>8637</th>\n",
       "      <td>0</td>\n",
       "    </tr>\n",
       "    <tr>\n",
       "      <th>8638</th>\n",
       "      <td>0</td>\n",
       "    </tr>\n",
       "  </tbody>\n",
       "</table>\n",
       "<p>8639 rows × 1 columns</p>\n",
       "</div>"
      ],
      "text/plain": [
       "      type of day_weekend\n",
       "0                       0\n",
       "1                       0\n",
       "2                       0\n",
       "3                       0\n",
       "4                       0\n",
       "...                   ...\n",
       "8634                    0\n",
       "8635                    0\n",
       "8636                    0\n",
       "8637                    0\n",
       "8638                    0\n",
       "\n",
       "[8639 rows x 1 columns]"
      ]
     },
     "execution_count": 313,
     "metadata": {},
     "output_type": "execute_result"
    }
   ],
   "source": [
    "df_cat_encoded = pd.get_dummies(df_cat_p, drop_first = True)\n",
    "df_cat_encoded "
   ]
  },
  {
   "cell_type": "code",
   "execution_count": 314,
   "id": "2e4e66ba-89ff-4e49-a570-1c3c5607928f",
   "metadata": {},
   "outputs": [],
   "source": [
    "from sklearn.model_selection import train_test_split\n",
    "X = pd.concat([df_scaled_p, df_cat_encoded], axis=1)\n",
    "X_train, X_test, y_train, y_test = train_test_split(X, y, test_size=TEST_FRACTION, random_state = RAND_STATE)"
   ]
  },
  {
   "cell_type": "code",
   "execution_count": 315,
   "id": "5b491c4f-e948-4094-9a9c-67e178c49a87",
   "metadata": {},
   "outputs": [
    {
     "data": {
      "text/plain": [
       "0.7937087241511976"
      ]
     },
     "execution_count": 315,
     "metadata": {},
     "output_type": "execute_result"
    }
   ],
   "source": [
    "from sklearn.linear_model import LinearRegression\n",
    "reg = LinearRegression().fit(X_train, y_train)\n",
    "reg.score(X_train, y_train)"
   ]
  },
  {
   "cell_type": "code",
   "execution_count": 316,
   "id": "8df37918-8b9f-472c-9981-619f2123dd52",
   "metadata": {},
   "outputs": [
    {
     "data": {
      "text/plain": [
       "0.44207477836986775"
      ]
     },
     "execution_count": 316,
     "metadata": {},
     "output_type": "execute_result"
    }
   ],
   "source": [
    "reg.score(X_test, y_test)"
   ]
  },
  {
   "cell_type": "code",
   "execution_count": 317,
   "id": "3283fb91-c594-472f-836c-7495d5dedb69",
   "metadata": {},
   "outputs": [
    {
     "name": "stdout",
     "output_type": "stream",
     "text": [
      "MAE: 0.0080 \n",
      "RMSE: 0.0128\n"
     ]
    }
   ],
   "source": [
    "#print(get_mae(reg, X_test, y_test), get_rmse(reg, X_test, y_test))\n",
    "print_errors(reg, X_test, y_test)"
   ]
  },
  {
   "cell_type": "code",
   "execution_count": 318,
   "id": "434fc0ec-a23b-46a7-ab55-fd2ed8567c9c",
   "metadata": {},
   "outputs": [
    {
     "data": {
      "text/plain": [
       "<AxesSubplot:ylabel='Count'>"
      ]
     },
     "execution_count": 318,
     "metadata": {},
     "output_type": "execute_result"
    },
    {
     "data": {
      "image/png": "[encoded data removed]",
      "text/plain": [
       "<Figure size 432x288 with 1 Axes>"
      ]
     },
     "metadata": {
      "needs_background": "light"
     },
     "output_type": "display_data"
    }
   ],
   "source": [
    "sns.histplot(reg.predict(X), kde = True, bins=30)"
   ]
  },
  {
   "cell_type": "code",
   "execution_count": 319,
   "id": "6b4beb9d-96be-4038-9490-6e4918a77df4",
   "metadata": {},
   "outputs": [
    {
     "name": "stdout",
     "output_type": "stream",
     "text": [
      "Fitting 7 folds for each of 5 candidates, totalling 35 fits\n"
     ]
    },
    {
     "data": {
      "text/plain": [
       "GridSearchCV(cv=7, estimator=Ridge(alpha=10), n_jobs=7,\n",
       "             param_grid={'alpha': array([0.001  , 0.25075, 0.5005 , 0.75025, 1.     ])},\n",
       "             verbose=2)"
      ]
     },
     "execution_count": 319,
     "metadata": {},
     "output_type": "execute_result"
    }
   ],
   "source": [
    "from sklearn import linear_model\n",
    "from sklearn.model_selection import GridSearchCV\n",
    "alpha = np.linspace(.001, 1, 5)\n",
    "ridge_params = {'alpha':alpha}\n",
    "reg_ridge = linear_model.Ridge(alpha=10)\n",
    "grid_ridge = GridSearchCV(reg_ridge, param_grid=ridge_params, cv=CV, n_jobs=N_JOBS, verbose=2)\n",
    "grid_ridge.fit(X_train, y_train)"
   ]
  },
  {
   "cell_type": "code",
   "execution_count": 320,
   "id": "19e83901-9e1c-4b60-beb6-f9ba2c5e91f2",
   "metadata": {},
   "outputs": [
    {
     "data": {
      "text/plain": [
       "0.6701990995986791"
      ]
     },
     "execution_count": 320,
     "metadata": {},
     "output_type": "execute_result"
    }
   ],
   "source": [
    "grid_ridge.score(X_test, y_test)"
   ]
  },
  {
   "cell_type": "code",
   "execution_count": 321,
   "id": "becc21a0-a5cb-40bf-9815-9143c57e6cb0",
   "metadata": {},
   "outputs": [
    {
     "name": "stdout",
     "output_type": "stream",
     "text": [
      "Best Params: {'alpha': 0.25075}, \n",
      " Best score: 0.67\n"
     ]
    }
   ],
   "source": [
    "print('Best Params: {}, \\n Best score: {:.2f}'.format(grid_ridge.best_params_, grid_ridge.best_score_))"
   ]
  },
  {
   "cell_type": "code",
   "execution_count": 322,
   "id": "8bb598dd-91ea-4b2a-8c5a-356cf45800b4",
   "metadata": {},
   "outputs": [
    {
     "name": "stdout",
     "output_type": "stream",
     "text": [
      "MAE: 0.0077 \n",
      "RMSE: 0.0098\n"
     ]
    }
   ],
   "source": [
    "print_errors(grid_ridge, X_test, y_test)"
   ]
  },
  {
   "cell_type": "code",
   "execution_count": null,
   "id": "061b2d12-b00a-4952-a952-65d9ee82e3b2",
   "metadata": {},
   "outputs": [],
   "source": []
  },
  {
   "cell_type": "code",
   "execution_count": 323,
   "id": "4a372561-0bda-4cbf-a227-6f498e814c6e",
   "metadata": {},
   "outputs": [
    {
     "data": {
      "text/plain": [
       "<AxesSubplot:ylabel='Count'>"
      ]
     },
     "execution_count": 323,
     "metadata": {},
     "output_type": "execute_result"
    },
    {
     "data": {
      "image/png": "[encoded data removed]",
      "text/plain": [
       "<Figure size 432x288 with 1 Axes>"
      ]
     },
     "metadata": {
      "needs_background": "light"
     },
     "output_type": "display_data"
    }
   ],
   "source": [
    "sns.histplot(grid_ridge.predict(X), kde = True, bins=30)"
   ]
  },
  {
   "cell_type": "code",
   "execution_count": null,
   "id": "e7051ced-9611-4040-8c91-ce85518269e1",
   "metadata": {},
   "outputs": [],
   "source": []
  }
 ],
 "metadata": {
  "kernelspec": {
   "display_name": "Python 3",
   "language": "python",
   "name": "python3"
  },
  "language_info": {
   "codemirror_mode": {
    "name": "ipython",
    "version": 3
   },
   "file_extension": ".py",
   "mimetype": "text/x-python",
   "name": "python",
   "nbconvert_exporter": "python",
   "pygments_lexer": "ipython3",
   "version": "3.6.9"
  }
 },
 "nbformat": 4,
 "nbformat_minor": 5
}
