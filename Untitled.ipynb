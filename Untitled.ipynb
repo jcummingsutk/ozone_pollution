{
 "cells": [
  {
   "cell_type": "markdown",
   "id": "de5bc2be-d376-41f3-b48b-77fad1ccbaae",
   "metadata": {},
   "source": [
    "# A pipeline implementation of the fifth degree polynomial regressor in 'notebook.ipynb'"
   ]
  },
  {
   "cell_type": "code",
   "execution_count": null,
   "id": "1b1e83ae-f4a2-47a9-935e-988a1eed4b41",
   "metadata": {},
   "outputs": [],
   "source": []
  }
 ],
 "metadata": {
  "kernelspec": {
   "display_name": "Python 3",
   "language": "python",
   "name": "python3"
  },
  "language_info": {
   "codemirror_mode": {
    "name": "ipython",
    "version": 3
   },
   "file_extension": ".py",
   "mimetype": "text/x-python",
   "name": "python",
   "nbconvert_exporter": "python",
   "pygments_lexer": "ipython3",
   "version": "3.6.9"
  }
 },
 "nbformat": 4,
 "nbformat_minor": 5
}
